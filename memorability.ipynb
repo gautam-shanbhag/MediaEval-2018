{
  "nbformat": 4,
  "nbformat_minor": 0,
  "metadata": {
    "colab": {
      "name": "Machine Learning",
      "version": "0.3.2",
      "provenance": []
    },
    "kernelspec": {
      "name": "python3",
      "display_name": "Python 3"
    }
  },
  "cells": [
    {
      "metadata": {
        "id": "U7Ph0lZsSdzP",
        "colab_type": "text"
      },
      "cell_type": "markdown",
      "source": [
        "##Importing all required libraries"
      ]
    },
    {
      "metadata": {
        "id": "zMdNDe8ySbVy",
        "colab_type": "code",
        "outputId": "82946a0e-be29-4c1f-c198-a13301944772",
        "colab": {
          "base_uri": "https://localhost:8080/",
          "height": 34
        }
      },
      "cell_type": "code",
      "source": [
        "import pandas as pd\n",
        "from keras import Sequential\n",
        "from keras import layers\n",
        "from keras import regularizers\n",
        "import numpy as np\n",
        "from string import punctuation\n",
        "from collections import Counter\n",
        "from keras.preprocessing.text import Tokenizer\n",
        "from sklearn.model_selection import train_test_split\n",
        "import matplotlib.pyplot as plt"
      ],
      "execution_count": 0,
      "outputs": [
        {
          "output_type": "stream",
          "text": [
            "Using TensorFlow backend.\n"
          ],
          "name": "stderr"
        }
      ]
    },
    {
      "metadata": {
        "id": "M-O9u9PRSyNf",
        "colab_type": "text"
      },
      "cell_type": "markdown",
      "source": [
        "##Spearman Score Calculation Method \n",
        "\n",
        "We pass two parameter to the method \n",
        "model predicted value and actual value to calculate Spearman Score"
      ]
    },
    {
      "metadata": {
        "id": "nTL_HNtlSy_u",
        "colab_type": "code",
        "colab": {}
      },
      "cell_type": "code",
      "source": [
        "def Get_score(Y_pred,Y_true):\n",
        "    '''Calculate the Spearmann\"s correlation coefficient'''\n",
        "    Y_pred = np.squeeze(Y_pred)\n",
        "    Y_true = np.squeeze(Y_true)\n",
        "    if Y_pred.shape != Y_true.shape:\n",
        "        print('Input shapes don\\'t match!')\n",
        "    else:\n",
        "        if len(Y_pred.shape) == 1:\n",
        "            Res = pd.DataFrame({'Y_true':Y_true,'Y_pred':Y_pred})\n",
        "            score_mat = Res[['Y_true','Y_pred']].corr(method='spearman',min_periods=1)\n",
        "            print('The Spearman\\'s correlation coefficient is: %.3f' % score_mat.iloc[1][0])\n",
        "        else:\n",
        "            for ii in range(Y_pred.shape[1]):\n",
        "                Get_score(Y_pred[:,ii],Y_true[:,ii])"
      ],
      "execution_count": 0,
      "outputs": []
    },
    {
      "metadata": {
        "id": "0LpB28J_oDhh",
        "colab_type": "text"
      },
      "cell_type": "markdown",
      "source": [
        "## KFold Cross-Validation API"
      ]
    },
    {
      "metadata": {
        "id": "bZCiipWuoNP_",
        "colab_type": "code",
        "colab": {}
      },
      "cell_type": "code",
      "source": [
        "# scikit-learn k-fold cross-validation\n",
        "from numpy import array\n",
        "from sklearn.model_selection import KFold\n",
        "\n",
        "def kfold_train_test_split(train,test, ):\n",
        "  # prepare cross validation\n",
        "  kfold = KFold(10, True, 1)\n",
        "  # enumerate splits\n",
        "  for train, test in kfold.split(data):\n",
        "    print('train: %s, test: %s' % (data[train], data[test]))\n"
      ],
      "execution_count": 0,
      "outputs": []
    },
    {
      "metadata": {
        "id": "aFdQ597IT3TX",
        "colab_type": "text"
      },
      "cell_type": "markdown",
      "source": [
        "##Connecting google drive to notebook\n",
        "\n",
        "Few places I have loaded features of all videos in a single csv file for the ease of loading it into dataframe and performing predictions"
      ]
    },
    {
      "metadata": {
        "id": "fNxd2ripW4rP",
        "colab_type": "code",
        "outputId": "297d640f-f68f-438c-f796-dfc65c4ea96e",
        "colab": {
          "base_uri": "https://localhost:8080/",
          "height": 122
        }
      },
      "cell_type": "code",
      "source": [
        "from google.colab import drive\n",
        "import os\n",
        "drive.mount('/content/drive/')\n",
        "os.chdir('/content/drive/My Drive/')"
      ],
      "execution_count": 0,
      "outputs": [
        {
          "output_type": "stream",
          "text": [
            "Go to this URL in a browser: https://accounts.google.com/o/oauth2/auth?client_id=947318989803-6bn6qk8qdgf4n4g3pfee6491hc0brc4i.apps.googleusercontent.com&redirect_uri=urn%3Aietf%3Awg%3Aoauth%3A2.0%3Aoob&scope=email%20https%3A%2F%2Fwww.googleapis.com%2Fauth%2Fdocs.test%20https%3A%2F%2Fwww.googleapis.com%2Fauth%2Fdrive%20https%3A%2F%2Fwww.googleapis.com%2Fauth%2Fdrive.photos.readonly%20https%3A%2F%2Fwww.googleapis.com%2Fauth%2Fpeopleapi.readonly&response_type=code\n",
            "\n",
            "Enter your authorization code:\n",
            "··········\n",
            "Mounted at /content/drive/\n"
          ],
          "name": "stdout"
        }
      ]
    },
    {
      "metadata": {
        "id": "besXI-nGZoq3",
        "colab_type": "code",
        "colab": {}
      },
      "cell_type": "code",
      "source": [
        "ground_truth_path = '/content/drive/My Drive/CA684_Assignment_Data/test-set/dev-set_ground-truth.csv'\n",
        "groundTruth=pd.read_csv(ground_truth_path)"
      ],
      "execution_count": 0,
      "outputs": []
    },
    {
      "metadata": {
        "id": "QmU11DVuamig",
        "colab_type": "code",
        "outputId": "30fe6914-9096-47b1-f437-040fe3fa151b",
        "colab": {
          "base_uri": "https://localhost:8080/",
          "height": 204
        }
      },
      "cell_type": "code",
      "source": [
        "groundTruth.head(5)"
      ],
      "execution_count": 0,
      "outputs": [
        {
          "output_type": "execute_result",
          "data": {
            "text/html": [
              "<div>\n",
              "<style scoped>\n",
              "    .dataframe tbody tr th:only-of-type {\n",
              "        vertical-align: middle;\n",
              "    }\n",
              "\n",
              "    .dataframe tbody tr th {\n",
              "        vertical-align: top;\n",
              "    }\n",
              "\n",
              "    .dataframe thead th {\n",
              "        text-align: right;\n",
              "    }\n",
              "</style>\n",
              "<table border=\"1\" class=\"dataframe\">\n",
              "  <thead>\n",
              "    <tr style=\"text-align: right;\">\n",
              "      <th></th>\n",
              "      <th>video</th>\n",
              "      <th>short-term_memorability</th>\n",
              "      <th>nb_short-term_annotations</th>\n",
              "      <th>long-term_memorability</th>\n",
              "      <th>nb_long-term_annotations</th>\n",
              "    </tr>\n",
              "  </thead>\n",
              "  <tbody>\n",
              "    <tr>\n",
              "      <th>0</th>\n",
              "      <td>video3.webm</td>\n",
              "      <td>0.924</td>\n",
              "      <td>34</td>\n",
              "      <td>0.846</td>\n",
              "      <td>13</td>\n",
              "    </tr>\n",
              "    <tr>\n",
              "      <th>1</th>\n",
              "      <td>video4.webm</td>\n",
              "      <td>0.923</td>\n",
              "      <td>33</td>\n",
              "      <td>0.667</td>\n",
              "      <td>12</td>\n",
              "    </tr>\n",
              "    <tr>\n",
              "      <th>2</th>\n",
              "      <td>video6.webm</td>\n",
              "      <td>0.863</td>\n",
              "      <td>33</td>\n",
              "      <td>0.700</td>\n",
              "      <td>10</td>\n",
              "    </tr>\n",
              "    <tr>\n",
              "      <th>3</th>\n",
              "      <td>video8.webm</td>\n",
              "      <td>0.922</td>\n",
              "      <td>33</td>\n",
              "      <td>0.818</td>\n",
              "      <td>11</td>\n",
              "    </tr>\n",
              "    <tr>\n",
              "      <th>4</th>\n",
              "      <td>video10.webm</td>\n",
              "      <td>0.950</td>\n",
              "      <td>34</td>\n",
              "      <td>0.900</td>\n",
              "      <td>10</td>\n",
              "    </tr>\n",
              "  </tbody>\n",
              "</table>\n",
              "</div>"
            ],
            "text/plain": [
              "          video  short-term_memorability  nb_short-term_annotations  \\\n",
              "0   video3.webm                    0.924                         34   \n",
              "1   video4.webm                    0.923                         33   \n",
              "2   video6.webm                    0.863                         33   \n",
              "3   video8.webm                    0.922                         33   \n",
              "4  video10.webm                    0.950                         34   \n",
              "\n",
              "   long-term_memorability  nb_long-term_annotations  \n",
              "0                   0.846                        13  \n",
              "1                   0.667                        12  \n",
              "2                   0.700                        10  \n",
              "3                   0.818                        11  \n",
              "4                   0.900                        10  "
            ]
          },
          "metadata": {
            "tags": []
          },
          "execution_count": 6
        }
      ]
    },
    {
      "metadata": {
        "id": "zWdU0owJZpYA",
        "colab_type": "text"
      },
      "cell_type": "markdown",
      "source": [
        "#Caption\n",
        "\n",
        "##Starting with captions of video as per literature review captions provide the most significant correlation"
      ]
    },
    {
      "metadata": {
        "id": "q5MG1lD9Zov2",
        "colab_type": "code",
        "colab": {}
      },
      "cell_type": "code",
      "source": [
        "def read_caps(fname):\n",
        "    \"\"\"Load the captions into a dataframe\"\"\"\n",
        "    vn = []\n",
        "    cap = []\n",
        "    df = pd.DataFrame();\n",
        "    with open(fname) as f:\n",
        "        for line in f:\n",
        "            pairs = line.split()\n",
        "            vn.append(pairs[0])\n",
        "            cap.append(pairs[1])\n",
        "        df['video']=vn\n",
        "        df['caption']=cap\n",
        "    return df\n"
      ],
      "execution_count": 0,
      "outputs": []
    },
    {
      "metadata": {
        "id": "jQKs41LNZot9",
        "colab_type": "code",
        "colab": {}
      },
      "cell_type": "code",
      "source": [
        "captions_path = '/content/drive/My Drive/CA684_Assignment_Data/dev-set/dev-set_video-captions.txt'\n",
        "captions=read_caps(captions_path)"
      ],
      "execution_count": 0,
      "outputs": []
    },
    {
      "metadata": {
        "id": "Bhwzw7B2ZoyX",
        "colab_type": "code",
        "outputId": "b8713c99-ad56-4901-8bfc-555bce2666f9",
        "colab": {
          "base_uri": "https://localhost:8080/",
          "height": 204
        }
      },
      "cell_type": "code",
      "source": [
        "captions.head(5)"
      ],
      "execution_count": 62,
      "outputs": [
        {
          "output_type": "execute_result",
          "data": {
            "text/html": [
              "<div>\n",
              "<style scoped>\n",
              "    .dataframe tbody tr th:only-of-type {\n",
              "        vertical-align: middle;\n",
              "    }\n",
              "\n",
              "    .dataframe tbody tr th {\n",
              "        vertical-align: top;\n",
              "    }\n",
              "\n",
              "    .dataframe thead th {\n",
              "        text-align: right;\n",
              "    }\n",
              "</style>\n",
              "<table border=\"1\" class=\"dataframe\">\n",
              "  <thead>\n",
              "    <tr style=\"text-align: right;\">\n",
              "      <th></th>\n",
              "      <th>video</th>\n",
              "      <th>caption</th>\n",
              "    </tr>\n",
              "  </thead>\n",
              "  <tbody>\n",
              "    <tr>\n",
              "      <th>0</th>\n",
              "      <td>video3.webm</td>\n",
              "      <td>blonde-woman-is-massaged-tilt-down</td>\n",
              "    </tr>\n",
              "    <tr>\n",
              "      <th>1</th>\n",
              "      <td>video4.webm</td>\n",
              "      <td>roulette-table-spinning-with-ball-in-closeup-shot</td>\n",
              "    </tr>\n",
              "    <tr>\n",
              "      <th>2</th>\n",
              "      <td>video6.webm</td>\n",
              "      <td>khr-gangsters</td>\n",
              "    </tr>\n",
              "    <tr>\n",
              "      <th>3</th>\n",
              "      <td>video8.webm</td>\n",
              "      <td>medical-helicopter-hovers-at-airport</td>\n",
              "    </tr>\n",
              "    <tr>\n",
              "      <th>4</th>\n",
              "      <td>video10.webm</td>\n",
              "      <td>couple-relaxing-on-picnic-crane-shot</td>\n",
              "    </tr>\n",
              "  </tbody>\n",
              "</table>\n",
              "</div>"
            ],
            "text/plain": [
              "          video                                            caption\n",
              "0   video3.webm                 blonde-woman-is-massaged-tilt-down\n",
              "1   video4.webm  roulette-table-spinning-with-ball-in-closeup-shot\n",
              "2   video6.webm                                      khr-gangsters\n",
              "3   video8.webm               medical-helicopter-hovers-at-airport\n",
              "4  video10.webm               couple-relaxing-on-picnic-crane-shot"
            ]
          },
          "metadata": {
            "tags": []
          },
          "execution_count": 62
        }
      ]
    },
    {
      "metadata": {
        "id": "URF_rdG6W4yh",
        "colab_type": "code",
        "colab": {}
      },
      "cell_type": "code",
      "source": [
        "dataset1 = pd.merge(groundTruth,captions, on =\"video\")"
      ],
      "execution_count": 0,
      "outputs": []
    },
    {
      "metadata": {
        "id": "6--vFCqGd6sq",
        "colab_type": "code",
        "outputId": "ae525635-27bc-438c-adde-fc4e66674f8f",
        "colab": {
          "base_uri": "https://localhost:8080/",
          "height": 204
        }
      },
      "cell_type": "code",
      "source": [
        "dataset1.head(5)"
      ],
      "execution_count": 0,
      "outputs": [
        {
          "output_type": "execute_result",
          "data": {
            "text/html": [
              "<div>\n",
              "<style scoped>\n",
              "    .dataframe tbody tr th:only-of-type {\n",
              "        vertical-align: middle;\n",
              "    }\n",
              "\n",
              "    .dataframe tbody tr th {\n",
              "        vertical-align: top;\n",
              "    }\n",
              "\n",
              "    .dataframe thead th {\n",
              "        text-align: right;\n",
              "    }\n",
              "</style>\n",
              "<table border=\"1\" class=\"dataframe\">\n",
              "  <thead>\n",
              "    <tr style=\"text-align: right;\">\n",
              "      <th></th>\n",
              "      <th>video</th>\n",
              "      <th>short-term_memorability</th>\n",
              "      <th>nb_short-term_annotations</th>\n",
              "      <th>long-term_memorability</th>\n",
              "      <th>nb_long-term_annotations</th>\n",
              "      <th>caption</th>\n",
              "    </tr>\n",
              "  </thead>\n",
              "  <tbody>\n",
              "    <tr>\n",
              "      <th>0</th>\n",
              "      <td>video3.webm</td>\n",
              "      <td>0.924</td>\n",
              "      <td>34</td>\n",
              "      <td>0.846</td>\n",
              "      <td>13</td>\n",
              "      <td>blonde-woman-is-massaged-tilt-down</td>\n",
              "    </tr>\n",
              "    <tr>\n",
              "      <th>1</th>\n",
              "      <td>video4.webm</td>\n",
              "      <td>0.923</td>\n",
              "      <td>33</td>\n",
              "      <td>0.667</td>\n",
              "      <td>12</td>\n",
              "      <td>roulette-table-spinning-with-ball-in-closeup-shot</td>\n",
              "    </tr>\n",
              "    <tr>\n",
              "      <th>2</th>\n",
              "      <td>video6.webm</td>\n",
              "      <td>0.863</td>\n",
              "      <td>33</td>\n",
              "      <td>0.700</td>\n",
              "      <td>10</td>\n",
              "      <td>khr-gangsters</td>\n",
              "    </tr>\n",
              "    <tr>\n",
              "      <th>3</th>\n",
              "      <td>video8.webm</td>\n",
              "      <td>0.922</td>\n",
              "      <td>33</td>\n",
              "      <td>0.818</td>\n",
              "      <td>11</td>\n",
              "      <td>medical-helicopter-hovers-at-airport</td>\n",
              "    </tr>\n",
              "    <tr>\n",
              "      <th>4</th>\n",
              "      <td>video10.webm</td>\n",
              "      <td>0.950</td>\n",
              "      <td>34</td>\n",
              "      <td>0.900</td>\n",
              "      <td>10</td>\n",
              "      <td>couple-relaxing-on-picnic-crane-shot</td>\n",
              "    </tr>\n",
              "  </tbody>\n",
              "</table>\n",
              "</div>"
            ],
            "text/plain": [
              "          video  short-term_memorability  nb_short-term_annotations  \\\n",
              "0   video3.webm                    0.924                         34   \n",
              "1   video4.webm                    0.923                         33   \n",
              "2   video6.webm                    0.863                         33   \n",
              "3   video8.webm                    0.922                         33   \n",
              "4  video10.webm                    0.950                         34   \n",
              "\n",
              "   long-term_memorability  nb_long-term_annotations  \\\n",
              "0                   0.846                        13   \n",
              "1                   0.667                        12   \n",
              "2                   0.700                        10   \n",
              "3                   0.818                        11   \n",
              "4                   0.900                        10   \n",
              "\n",
              "                                             caption  \n",
              "0                 blonde-woman-is-massaged-tilt-down  \n",
              "1  roulette-table-spinning-with-ball-in-closeup-shot  \n",
              "2                                      khr-gangsters  \n",
              "3               medical-helicopter-hovers-at-airport  \n",
              "4               couple-relaxing-on-picnic-crane-shot  "
            ]
          },
          "metadata": {
            "tags": []
          },
          "execution_count": 11
        }
      ]
    },
    {
      "metadata": {
        "id": "QTj1K6NYeLGi",
        "colab_type": "text"
      },
      "cell_type": "markdown",
      "source": [
        "###Feature Engineering based on caption column\n",
        "\n",
        "1.   Removing special character\n",
        "2.   converting entire caption to lower case\n",
        "3.   tokenize the array\n",
        "4.   stemming using Porter Stemmer\n",
        "5.   Removing English stopwords\n",
        "6.   joining back to form clean corpus\n",
        "\n",
        "\n",
        "\n",
        "\n"
      ]
    },
    {
      "metadata": {
        "id": "Hxi4P7h6eJ2E",
        "colab_type": "code",
        "outputId": "0d43c3d2-5bab-41df-fd4a-431e1d28d932",
        "colab": {
          "base_uri": "https://localhost:8080/",
          "height": 85
        }
      },
      "cell_type": "code",
      "source": [
        "import nltk\n",
        "import re\n",
        "import string\n",
        "nltk.download('punkt')\n",
        "nltk.download('stopwords')\n",
        "from nltk.tokenize import word_tokenize\n",
        "from nltk.tokenize import RegexpTokenizer\n",
        "from nltk.corpus import stopwords\n",
        "from nltk.stem import PorterStemmer\n",
        "\n",
        "stop_words = set(stopwords.words('english'))\n",
        "snow = nltk.stem.LancasterStemmer('english')\n",
        "ps = PorterStemmer() \n",
        "tokenizer = RegexpTokenizer(r'\\w+')\n",
        "\n",
        "corpus = [] \n",
        "\n",
        "for sentence in dataset1['caption'] :\n",
        "  # column : \"Review\", row ith \n",
        "  review = re.sub('[^a-zA-Z]', ' ', sentence) \n",
        "  \n",
        "  # convert all cases to lower cases \n",
        "  review = review.lower()  \n",
        "  \n",
        "  # split to array(default delimiter is \" \") \n",
        "  review = tokenizer.tokenize(review)\n",
        " \n",
        "  \n",
        "  review = [ps.stem(word) for word in review if not word in stop_words] \n",
        "  \n",
        "  # rejoin all string array elements \n",
        "    # to create back into a string \n",
        "  review = ' '.join(review)\n",
        "  \n",
        "  \n",
        " # append each string to create \n",
        "    # array of clean text  \n",
        "  corpus.append(review) "
      ],
      "execution_count": 0,
      "outputs": [
        {
          "output_type": "stream",
          "text": [
            "[nltk_data] Downloading package punkt to /root/nltk_data...\n",
            "[nltk_data]   Unzipping tokenizers/punkt.zip.\n",
            "[nltk_data] Downloading package stopwords to /root/nltk_data...\n",
            "[nltk_data]   Unzipping corpora/stopwords.zip.\n"
          ],
          "name": "stdout"
        }
      ]
    },
    {
      "metadata": {
        "id": "sbGkn5ePgNwy",
        "colab_type": "text"
      },
      "cell_type": "markdown",
      "source": [
        "Adding it back to dataset1"
      ]
    },
    {
      "metadata": {
        "id": "GZxiCh4seJ4h",
        "colab_type": "code",
        "outputId": "08f16a23-f03e-4e74-9fd8-0bb126f66990",
        "colab": {
          "base_uri": "https://localhost:8080/",
          "height": 272
        }
      },
      "cell_type": "code",
      "source": [
        "dataset1['corpus']= corpus\n",
        "dataset1.head(5)"
      ],
      "execution_count": 0,
      "outputs": [
        {
          "output_type": "execute_result",
          "data": {
            "text/html": [
              "<div>\n",
              "<style scoped>\n",
              "    .dataframe tbody tr th:only-of-type {\n",
              "        vertical-align: middle;\n",
              "    }\n",
              "\n",
              "    .dataframe tbody tr th {\n",
              "        vertical-align: top;\n",
              "    }\n",
              "\n",
              "    .dataframe thead th {\n",
              "        text-align: right;\n",
              "    }\n",
              "</style>\n",
              "<table border=\"1\" class=\"dataframe\">\n",
              "  <thead>\n",
              "    <tr style=\"text-align: right;\">\n",
              "      <th></th>\n",
              "      <th>video</th>\n",
              "      <th>short-term_memorability</th>\n",
              "      <th>nb_short-term_annotations</th>\n",
              "      <th>long-term_memorability</th>\n",
              "      <th>nb_long-term_annotations</th>\n",
              "      <th>caption</th>\n",
              "      <th>corpus</th>\n",
              "    </tr>\n",
              "  </thead>\n",
              "  <tbody>\n",
              "    <tr>\n",
              "      <th>0</th>\n",
              "      <td>video3.webm</td>\n",
              "      <td>0.924</td>\n",
              "      <td>34</td>\n",
              "      <td>0.846</td>\n",
              "      <td>13</td>\n",
              "      <td>blonde-woman-is-massaged-tilt-down</td>\n",
              "      <td>blond woman massag tilt</td>\n",
              "    </tr>\n",
              "    <tr>\n",
              "      <th>1</th>\n",
              "      <td>video4.webm</td>\n",
              "      <td>0.923</td>\n",
              "      <td>33</td>\n",
              "      <td>0.667</td>\n",
              "      <td>12</td>\n",
              "      <td>roulette-table-spinning-with-ball-in-closeup-shot</td>\n",
              "      <td>roulett tabl spin ball closeup shot</td>\n",
              "    </tr>\n",
              "    <tr>\n",
              "      <th>2</th>\n",
              "      <td>video6.webm</td>\n",
              "      <td>0.863</td>\n",
              "      <td>33</td>\n",
              "      <td>0.700</td>\n",
              "      <td>10</td>\n",
              "      <td>khr-gangsters</td>\n",
              "      <td>khr gangster</td>\n",
              "    </tr>\n",
              "    <tr>\n",
              "      <th>3</th>\n",
              "      <td>video8.webm</td>\n",
              "      <td>0.922</td>\n",
              "      <td>33</td>\n",
              "      <td>0.818</td>\n",
              "      <td>11</td>\n",
              "      <td>medical-helicopter-hovers-at-airport</td>\n",
              "      <td>medic helicopt hover airport</td>\n",
              "    </tr>\n",
              "    <tr>\n",
              "      <th>4</th>\n",
              "      <td>video10.webm</td>\n",
              "      <td>0.950</td>\n",
              "      <td>34</td>\n",
              "      <td>0.900</td>\n",
              "      <td>10</td>\n",
              "      <td>couple-relaxing-on-picnic-crane-shot</td>\n",
              "      <td>coupl relax picnic crane shot</td>\n",
              "    </tr>\n",
              "  </tbody>\n",
              "</table>\n",
              "</div>"
            ],
            "text/plain": [
              "          video  short-term_memorability  nb_short-term_annotations  \\\n",
              "0   video3.webm                    0.924                         34   \n",
              "1   video4.webm                    0.923                         33   \n",
              "2   video6.webm                    0.863                         33   \n",
              "3   video8.webm                    0.922                         33   \n",
              "4  video10.webm                    0.950                         34   \n",
              "\n",
              "   long-term_memorability  nb_long-term_annotations  \\\n",
              "0                   0.846                        13   \n",
              "1                   0.667                        12   \n",
              "2                   0.700                        10   \n",
              "3                   0.818                        11   \n",
              "4                   0.900                        10   \n",
              "\n",
              "                                             caption  \\\n",
              "0                 blonde-woman-is-massaged-tilt-down   \n",
              "1  roulette-table-spinning-with-ball-in-closeup-shot   \n",
              "2                                      khr-gangsters   \n",
              "3               medical-helicopter-hovers-at-airport   \n",
              "4               couple-relaxing-on-picnic-crane-shot   \n",
              "\n",
              "                                corpus  \n",
              "0              blond woman massag tilt  \n",
              "1  roulett tabl spin ball closeup shot  \n",
              "2                         khr gangster  \n",
              "3         medic helicopt hover airport  \n",
              "4        coupl relax picnic crane shot  "
            ]
          },
          "metadata": {
            "tags": []
          },
          "execution_count": 13
        }
      ]
    },
    {
      "metadata": {
        "id": "Z3loR5mtiu0L",
        "colab_type": "text"
      },
      "cell_type": "markdown",
      "source": [
        "###splitting test train for prediction"
      ]
    },
    {
      "metadata": {
        "id": "KsQ9Rb-xeJ7J",
        "colab_type": "code",
        "colab": {}
      },
      "cell_type": "code",
      "source": [
        "x_caption_short_train, x_caption_short_test, y_caption_short_train, y_caption_short_test = train_test_split(dataset1['corpus'], dataset1['short-term_memorability'], test_size=0.2, random_state=101)\n",
        "x_caption_long_train, x_caption_long_test, y_caption_long_train, y_caption_long_test = train_test_split(dataset1['corpus'], dataset1['long-term_memorability'], test_size=0.2, random_state=101)"
      ],
      "execution_count": 0,
      "outputs": []
    },
    {
      "metadata": {
        "id": "cyHY2JkLjzId",
        "colab_type": "text"
      },
      "cell_type": "markdown",
      "source": [
        "###Using TfidfVectorizer and ngram(unigram & bigram) to convert string to numeric values to feed to the model"
      ]
    },
    {
      "metadata": {
        "id": "hD8e3_BKeJ9i",
        "colab_type": "code",
        "colab": {}
      },
      "cell_type": "code",
      "source": [
        "from sklearn.feature_extraction.text import TfidfVectorizer\n",
        "\n",
        "vectorizerS = TfidfVectorizer(max_features=1500, ngram_range=(1,2) )\n",
        "vectorizerS.fit(x_caption_short_train)\n",
        "\n",
        "x_caption_short_train=vectorizerS.transform(x_caption_short_train)\n",
        "x_caption_short_test=vectorizerS.transform(x_caption_short_test)\n",
        "\n",
        "\n",
        "\n",
        "\n",
        "\n",
        "vectorizerL = TfidfVectorizer(max_features=1500, ngram_range=(1,2) )\n",
        "vectorizerL.fit(x_caption_long_train)\n",
        "\n",
        "x_caption_long_train=vectorizerS.transform(x_caption_long_train)\n",
        "x_caption_long_test=vectorizerS.transform(x_caption_long_test)"
      ],
      "execution_count": 0,
      "outputs": []
    },
    {
      "metadata": {
        "id": "e_6RvQfpkjgL",
        "colab_type": "text"
      },
      "cell_type": "markdown",
      "source": [
        "###MODEL 1: Using LinearRegression "
      ]
    },
    {
      "metadata": {
        "id": "idnJ4FPdeKAJ",
        "colab_type": "code",
        "outputId": "60c926b2-70c8-402b-9f33-9f4e14e73504",
        "colab": {
          "base_uri": "https://localhost:8080/",
          "height": 85
        }
      },
      "cell_type": "code",
      "source": [
        "from sklearn.linear_model import LinearRegression \n",
        "\n",
        "model_caption_short_linearReg = LinearRegression ()\n",
        "model_caption_short_linearReg.fit(x_caption_short_train, y_caption_short_train)\n",
        "\n",
        "output_caption_short_linearReg=model_caption_short_linearReg.predict(x_caption_short_test)\n",
        "\n",
        "print('Short Term Memorability')\n",
        "Get_score(output_caption_short_linearReg,y_caption_short_test)\n",
        "\n",
        "\n",
        "\n",
        "\n",
        "\n",
        "model_caption_long_linearReg = LinearRegression ()\n",
        "model_caption_long_linearReg.fit(x_caption_long_train, y_caption_long_train)\n",
        "\n",
        "output_caption_long_linearReg=model_caption_long_linearReg.predict(x_caption_long_test)\n",
        "\n",
        "print('Long Term Memorability')\n",
        "Get_score(output_caption_long_linearReg,y_caption_long_test)"
      ],
      "execution_count": 0,
      "outputs": [
        {
          "output_type": "stream",
          "text": [
            "Short Term Memorability\n",
            "The Spearman's correlation coefficient is: 0.356\n",
            "Long Term Memorability\n",
            "The Spearman's correlation coefficient is: 0.130\n"
          ],
          "name": "stdout"
        }
      ]
    },
    {
      "metadata": {
        "id": "2c2TJcIolcRE",
        "colab_type": "text"
      },
      "cell_type": "markdown",
      "source": [
        "###MODEL 2: Using SVR"
      ]
    },
    {
      "metadata": {
        "id": "u0upDsiFeKFB",
        "colab_type": "code",
        "outputId": "34968a30-1963-424e-82a7-eca88a677d20",
        "colab": {
          "base_uri": "https://localhost:8080/",
          "height": 85
        }
      },
      "cell_type": "code",
      "source": [
        "from sklearn.svm import SVR \n",
        "\n",
        "model_caption_short_svr = SVR (kernel='linear')\n",
        "model_caption_short_svr.fit(x_caption_short_train, y_caption_short_train)\n",
        "\n",
        "output_caption_short_svr=model_caption_short_svr.predict(x_caption_short_test)\n",
        "\n",
        "print('Short Term Memorability')\n",
        "Get_score(output_caption_short_svr,y_caption_short_test)\n",
        "\n",
        "\n",
        "\n",
        "\n",
        "\n",
        "\n",
        "model_caption_long_svr = SVR (kernel='linear')\n",
        "model_caption_long_svr.fit(x_caption_long_train, y_caption_long_train)\n",
        "\n",
        "output_caption_long_svr=model_caption_long_svr.predict(x_caption_long_test)\n",
        "\n",
        "print('Long Term Memorability')\n",
        "Get_score(output_caption_long_svr,y_caption_long_test)"
      ],
      "execution_count": 0,
      "outputs": [
        {
          "output_type": "stream",
          "text": [
            "Short Term Memorability\n",
            "The Spearman's correlation coefficient is: 0.303\n",
            "Long Term Memorability\n",
            "The Spearman's correlation coefficient is: 0.112\n"
          ],
          "name": "stdout"
        }
      ]
    },
    {
      "metadata": {
        "id": "c8Vcv9dMnMR9",
        "colab_type": "text"
      },
      "cell_type": "markdown",
      "source": [
        "###MODEL 3: Using Bayesian Ridge"
      ]
    },
    {
      "metadata": {
        "id": "u1fdvuEezxyj",
        "colab_type": "code",
        "outputId": "7ab20d9d-c3d2-4380-dcbe-2149a5abe383",
        "colab": {
          "base_uri": "https://localhost:8080/",
          "height": 85
        }
      },
      "cell_type": "code",
      "source": [
        "from sklearn.linear_model import BayesianRidge\n",
        "\n",
        "model_caption_short_bayesian = BayesianRidge ()\n",
        "model_caption_short_bayesian.fit(x_caption_short_train.toarray(), y_caption_short_train)\n",
        "\n",
        "output_caption_short_bayesian=model_caption_short_bayesian.predict(x_caption_short_test.toarray())\n",
        "\n",
        "print('Short Term Memorability')\n",
        "Get_score(output_caption_short_bayesian,y_caption_short_test)\n",
        "\n",
        "\n",
        "\n",
        "\n",
        "\n",
        "\n",
        "model_caption_long_bayesian = BayesianRidge ()\n",
        "model_caption_long_bayesian.fit(x_caption_long_train.toarray(), y_caption_long_train)\n",
        "\n",
        "output_caption_long_bayesian=model_caption_long_bayesian.predict(x_caption_long_test.toarray())\n",
        "\n",
        "print('Long Term Memorability')\n",
        "Get_score(output_caption_long_bayesian,y_caption_long_test)\n"
      ],
      "execution_count": 0,
      "outputs": [
        {
          "output_type": "stream",
          "text": [
            "Short Term Memorability\n",
            "The Spearman's correlation coefficient is: 0.417\n",
            "Long Term Memorability\n",
            "The Spearman's correlation coefficient is: 0.154\n"
          ],
          "name": "stdout"
        }
      ]
    },
    {
      "metadata": {
        "id": "kZIQCb0z5EAL",
        "colab_type": "code",
        "colab": {}
      },
      "cell_type": "code",
      "source": [
        ""
      ],
      "execution_count": 0,
      "outputs": []
    },
    {
      "metadata": {
        "id": "q9Fg4PIV5ECw",
        "colab_type": "code",
        "colab": {}
      },
      "cell_type": "code",
      "source": [
        ""
      ],
      "execution_count": 0,
      "outputs": []
    },
    {
      "metadata": {
        "id": "8YzduWDj5Nha",
        "colab_type": "text"
      },
      "cell_type": "markdown",
      "source": [
        "#Aesthetic Features"
      ]
    },
    {
      "metadata": {
        "id": "A55HhblO5EKa",
        "colab_type": "code",
        "colab": {}
      },
      "cell_type": "code",
      "source": [
        "aesthetic_path = '/content/drive/My Drive/dataframe_aesthetic.csv'\n",
        "aesthetic=pd.read_csv(aesthetic_path,index_col=0)"
      ],
      "execution_count": 0,
      "outputs": []
    },
    {
      "metadata": {
        "id": "N8RQo5wH5ENB",
        "colab_type": "code",
        "outputId": "61efd579-6ed4-4651-cad3-422d3ec912c5",
        "colab": {
          "base_uri": "https://localhost:8080/",
          "height": 253
        }
      },
      "cell_type": "code",
      "source": [
        "aesthetic.head(5)"
      ],
      "execution_count": 0,
      "outputs": [
        {
          "output_type": "execute_result",
          "data": {
            "text/html": [
              "<div>\n",
              "<style scoped>\n",
              "    .dataframe tbody tr th:only-of-type {\n",
              "        vertical-align: middle;\n",
              "    }\n",
              "\n",
              "    .dataframe tbody tr th {\n",
              "        vertical-align: top;\n",
              "    }\n",
              "\n",
              "    .dataframe thead th {\n",
              "        text-align: right;\n",
              "    }\n",
              "</style>\n",
              "<table border=\"1\" class=\"dataframe\">\n",
              "  <thead>\n",
              "    <tr style=\"text-align: right;\">\n",
              "      <th></th>\n",
              "      <th>0</th>\n",
              "      <th>1</th>\n",
              "      <th>2</th>\n",
              "      <th>3</th>\n",
              "      <th>4</th>\n",
              "      <th>5</th>\n",
              "      <th>6</th>\n",
              "      <th>7</th>\n",
              "      <th>8</th>\n",
              "      <th>9</th>\n",
              "      <th>...</th>\n",
              "      <th>100</th>\n",
              "      <th>101</th>\n",
              "      <th>102</th>\n",
              "      <th>103</th>\n",
              "      <th>104</th>\n",
              "      <th>105</th>\n",
              "      <th>106</th>\n",
              "      <th>107</th>\n",
              "      <th>108</th>\n",
              "      <th>video</th>\n",
              "    </tr>\n",
              "  </thead>\n",
              "  <tbody>\n",
              "    <tr>\n",
              "      <th>0</th>\n",
              "      <td>0.581810</td>\n",
              "      <td>0.194872</td>\n",
              "      <td>0.531678</td>\n",
              "      <td>0.125891</td>\n",
              "      <td>0.480966</td>\n",
              "      <td>0.358678</td>\n",
              "      <td>52.473407</td>\n",
              "      <td>0.604938</td>\n",
              "      <td>0.000302</td>\n",
              "      <td>2.0</td>\n",
              "      <td>...</td>\n",
              "      <td>-0.000008</td>\n",
              "      <td>0.877948</td>\n",
              "      <td>0.280758</td>\n",
              "      <td>0.229451</td>\n",
              "      <td>1.477636</td>\n",
              "      <td>0.0</td>\n",
              "      <td>0.391471</td>\n",
              "      <td>0.060211</td>\n",
              "      <td>0.338636</td>\n",
              "      <td>video6633.webm</td>\n",
              "    </tr>\n",
              "    <tr>\n",
              "      <th>1</th>\n",
              "      <td>0.141382</td>\n",
              "      <td>0.218025</td>\n",
              "      <td>0.341507</td>\n",
              "      <td>0.124468</td>\n",
              "      <td>0.306108</td>\n",
              "      <td>0.481848</td>\n",
              "      <td>51.203502</td>\n",
              "      <td>0.166667</td>\n",
              "      <td>0.000389</td>\n",
              "      <td>3.0</td>\n",
              "      <td>...</td>\n",
              "      <td>0.000184</td>\n",
              "      <td>0.046312</td>\n",
              "      <td>0.050476</td>\n",
              "      <td>0.189169</td>\n",
              "      <td>0.487030</td>\n",
              "      <td>0.0</td>\n",
              "      <td>0.273047</td>\n",
              "      <td>0.151776</td>\n",
              "      <td>0.441400</td>\n",
              "      <td>video6637.webm</td>\n",
              "    </tr>\n",
              "    <tr>\n",
              "      <th>2</th>\n",
              "      <td>0.168417</td>\n",
              "      <td>0.089344</td>\n",
              "      <td>0.541439</td>\n",
              "      <td>0.153814</td>\n",
              "      <td>0.518419</td>\n",
              "      <td>0.240795</td>\n",
              "      <td>50.625188</td>\n",
              "      <td>0.125000</td>\n",
              "      <td>0.000553</td>\n",
              "      <td>2.0</td>\n",
              "      <td>...</td>\n",
              "      <td>-0.000000</td>\n",
              "      <td>0.000000</td>\n",
              "      <td>0.169706</td>\n",
              "      <td>0.044193</td>\n",
              "      <td>1.401191</td>\n",
              "      <td>0.0</td>\n",
              "      <td>0.299827</td>\n",
              "      <td>0.181719</td>\n",
              "      <td>0.402697</td>\n",
              "      <td>video6634.webm</td>\n",
              "    </tr>\n",
              "    <tr>\n",
              "      <th>3</th>\n",
              "      <td>0.604572</td>\n",
              "      <td>0.657199</td>\n",
              "      <td>0.465797</td>\n",
              "      <td>0.526192</td>\n",
              "      <td>0.323581</td>\n",
              "      <td>0.476609</td>\n",
              "      <td>56.950678</td>\n",
              "      <td>0.600000</td>\n",
              "      <td>0.025879</td>\n",
              "      <td>2.0</td>\n",
              "      <td>...</td>\n",
              "      <td>-0.000005</td>\n",
              "      <td>0.103966</td>\n",
              "      <td>0.046547</td>\n",
              "      <td>0.519998</td>\n",
              "      <td>1.098700</td>\n",
              "      <td>0.0</td>\n",
              "      <td>0.265116</td>\n",
              "      <td>0.340027</td>\n",
              "      <td>0.035195</td>\n",
              "      <td>video6635.webm</td>\n",
              "    </tr>\n",
              "    <tr>\n",
              "      <th>4</th>\n",
              "      <td>0.415735</td>\n",
              "      <td>0.455611</td>\n",
              "      <td>0.385227</td>\n",
              "      <td>0.316629</td>\n",
              "      <td>0.290064</td>\n",
              "      <td>0.473490</td>\n",
              "      <td>46.176749</td>\n",
              "      <td>0.585106</td>\n",
              "      <td>0.008992</td>\n",
              "      <td>4.0</td>\n",
              "      <td>...</td>\n",
              "      <td>-0.000009</td>\n",
              "      <td>0.996366</td>\n",
              "      <td>0.492007</td>\n",
              "      <td>0.418422</td>\n",
              "      <td>0.885331</td>\n",
              "      <td>0.0</td>\n",
              "      <td>0.144959</td>\n",
              "      <td>0.220941</td>\n",
              "      <td>0.589551</td>\n",
              "      <td>video6639.webm</td>\n",
              "    </tr>\n",
              "  </tbody>\n",
              "</table>\n",
              "<p>5 rows × 110 columns</p>\n",
              "</div>"
            ],
            "text/plain": [
              "          0         1         2         3         4         5          6  \\\n",
              "0  0.581810  0.194872  0.531678  0.125891  0.480966  0.358678  52.473407   \n",
              "1  0.141382  0.218025  0.341507  0.124468  0.306108  0.481848  51.203502   \n",
              "2  0.168417  0.089344  0.541439  0.153814  0.518419  0.240795  50.625188   \n",
              "3  0.604572  0.657199  0.465797  0.526192  0.323581  0.476609  56.950678   \n",
              "4  0.415735  0.455611  0.385227  0.316629  0.290064  0.473490  46.176749   \n",
              "\n",
              "          7         8    9  ...       100       101       102       103  \\\n",
              "0  0.604938  0.000302  2.0  ... -0.000008  0.877948  0.280758  0.229451   \n",
              "1  0.166667  0.000389  3.0  ...  0.000184  0.046312  0.050476  0.189169   \n",
              "2  0.125000  0.000553  2.0  ... -0.000000  0.000000  0.169706  0.044193   \n",
              "3  0.600000  0.025879  2.0  ... -0.000005  0.103966  0.046547  0.519998   \n",
              "4  0.585106  0.008992  4.0  ... -0.000009  0.996366  0.492007  0.418422   \n",
              "\n",
              "        104  105       106       107       108           video  \n",
              "0  1.477636  0.0  0.391471  0.060211  0.338636  video6633.webm  \n",
              "1  0.487030  0.0  0.273047  0.151776  0.441400  video6637.webm  \n",
              "2  1.401191  0.0  0.299827  0.181719  0.402697  video6634.webm  \n",
              "3  1.098700  0.0  0.265116  0.340027  0.035195  video6635.webm  \n",
              "4  0.885331  0.0  0.144959  0.220941  0.589551  video6639.webm  \n",
              "\n",
              "[5 rows x 110 columns]"
            ]
          },
          "metadata": {
            "tags": []
          },
          "execution_count": 20
        }
      ]
    },
    {
      "metadata": {
        "id": "cOwSsswg5EUf",
        "colab_type": "code",
        "outputId": "943e5dda-4ff8-4ef1-a24d-d85f4d20db1d",
        "colab": {
          "base_uri": "https://localhost:8080/",
          "height": 270
        }
      },
      "cell_type": "code",
      "source": [
        "dataset2 = pd.merge(groundTruth,aesthetic, on =\"video\")\n",
        "dataset2.head(5)"
      ],
      "execution_count": 0,
      "outputs": [
        {
          "output_type": "execute_result",
          "data": {
            "text/html": [
              "<div>\n",
              "<style scoped>\n",
              "    .dataframe tbody tr th:only-of-type {\n",
              "        vertical-align: middle;\n",
              "    }\n",
              "\n",
              "    .dataframe tbody tr th {\n",
              "        vertical-align: top;\n",
              "    }\n",
              "\n",
              "    .dataframe thead th {\n",
              "        text-align: right;\n",
              "    }\n",
              "</style>\n",
              "<table border=\"1\" class=\"dataframe\">\n",
              "  <thead>\n",
              "    <tr style=\"text-align: right;\">\n",
              "      <th></th>\n",
              "      <th>video</th>\n",
              "      <th>short-term_memorability</th>\n",
              "      <th>nb_short-term_annotations</th>\n",
              "      <th>long-term_memorability</th>\n",
              "      <th>nb_long-term_annotations</th>\n",
              "      <th>0</th>\n",
              "      <th>1</th>\n",
              "      <th>2</th>\n",
              "      <th>3</th>\n",
              "      <th>4</th>\n",
              "      <th>...</th>\n",
              "      <th>99</th>\n",
              "      <th>100</th>\n",
              "      <th>101</th>\n",
              "      <th>102</th>\n",
              "      <th>103</th>\n",
              "      <th>104</th>\n",
              "      <th>105</th>\n",
              "      <th>106</th>\n",
              "      <th>107</th>\n",
              "      <th>108</th>\n",
              "    </tr>\n",
              "  </thead>\n",
              "  <tbody>\n",
              "    <tr>\n",
              "      <th>0</th>\n",
              "      <td>video3.webm</td>\n",
              "      <td>0.924</td>\n",
              "      <td>34</td>\n",
              "      <td>0.846</td>\n",
              "      <td>13</td>\n",
              "      <td>0.180874</td>\n",
              "      <td>0.715626</td>\n",
              "      <td>0.198930</td>\n",
              "      <td>0.610453</td>\n",
              "      <td>0.121610</td>\n",
              "      <td>...</td>\n",
              "      <td>-0.002154</td>\n",
              "      <td>-0.000850</td>\n",
              "      <td>0.000000</td>\n",
              "      <td>0.260845</td>\n",
              "      <td>0.294153</td>\n",
              "      <td>0.575061</td>\n",
              "      <td>0.0</td>\n",
              "      <td>0.129661</td>\n",
              "      <td>0.412381</td>\n",
              "      <td>0.788761</td>\n",
              "    </tr>\n",
              "    <tr>\n",
              "      <th>1</th>\n",
              "      <td>video4.webm</td>\n",
              "      <td>0.923</td>\n",
              "      <td>33</td>\n",
              "      <td>0.667</td>\n",
              "      <td>12</td>\n",
              "      <td>0.146076</td>\n",
              "      <td>0.550070</td>\n",
              "      <td>0.460729</td>\n",
              "      <td>0.424397</td>\n",
              "      <td>0.341807</td>\n",
              "      <td>...</td>\n",
              "      <td>0.000007</td>\n",
              "      <td>-0.000399</td>\n",
              "      <td>0.920270</td>\n",
              "      <td>0.337932</td>\n",
              "      <td>0.382134</td>\n",
              "      <td>0.943198</td>\n",
              "      <td>0.0</td>\n",
              "      <td>0.692224</td>\n",
              "      <td>0.762354</td>\n",
              "      <td>-0.561793</td>\n",
              "    </tr>\n",
              "    <tr>\n",
              "      <th>2</th>\n",
              "      <td>video6.webm</td>\n",
              "      <td>0.863</td>\n",
              "      <td>33</td>\n",
              "      <td>0.700</td>\n",
              "      <td>10</td>\n",
              "      <td>0.063898</td>\n",
              "      <td>0.827439</td>\n",
              "      <td>0.211925</td>\n",
              "      <td>0.720297</td>\n",
              "      <td>0.129499</td>\n",
              "      <td>...</td>\n",
              "      <td>0.002896</td>\n",
              "      <td>0.002309</td>\n",
              "      <td>0.374684</td>\n",
              "      <td>0.019155</td>\n",
              "      <td>0.187358</td>\n",
              "      <td>0.512601</td>\n",
              "      <td>0.0</td>\n",
              "      <td>0.438261</td>\n",
              "      <td>-0.219560</td>\n",
              "      <td>0.276687</td>\n",
              "    </tr>\n",
              "    <tr>\n",
              "      <th>3</th>\n",
              "      <td>video8.webm</td>\n",
              "      <td>0.922</td>\n",
              "      <td>33</td>\n",
              "      <td>0.818</td>\n",
              "      <td>11</td>\n",
              "      <td>0.380539</td>\n",
              "      <td>0.134683</td>\n",
              "      <td>0.746891</td>\n",
              "      <td>0.171604</td>\n",
              "      <td>0.697045</td>\n",
              "      <td>...</td>\n",
              "      <td>0.000568</td>\n",
              "      <td>0.000514</td>\n",
              "      <td>0.970656</td>\n",
              "      <td>0.435550</td>\n",
              "      <td>0.431595</td>\n",
              "      <td>1.142377</td>\n",
              "      <td>0.0</td>\n",
              "      <td>0.424483</td>\n",
              "      <td>0.326030</td>\n",
              "      <td>0.688481</td>\n",
              "    </tr>\n",
              "    <tr>\n",
              "      <th>4</th>\n",
              "      <td>video10.webm</td>\n",
              "      <td>0.950</td>\n",
              "      <td>34</td>\n",
              "      <td>0.900</td>\n",
              "      <td>10</td>\n",
              "      <td>0.427258</td>\n",
              "      <td>0.381448</td>\n",
              "      <td>0.582746</td>\n",
              "      <td>0.409475</td>\n",
              "      <td>0.489531</td>\n",
              "      <td>...</td>\n",
              "      <td>0.005307</td>\n",
              "      <td>0.000065</td>\n",
              "      <td>0.000000</td>\n",
              "      <td>0.442575</td>\n",
              "      <td>0.347355</td>\n",
              "      <td>1.285838</td>\n",
              "      <td>0.0</td>\n",
              "      <td>-0.279630</td>\n",
              "      <td>-0.012414</td>\n",
              "      <td>0.197281</td>\n",
              "    </tr>\n",
              "  </tbody>\n",
              "</table>\n",
              "<p>5 rows × 114 columns</p>\n",
              "</div>"
            ],
            "text/plain": [
              "          video  short-term_memorability  nb_short-term_annotations  \\\n",
              "0   video3.webm                    0.924                         34   \n",
              "1   video4.webm                    0.923                         33   \n",
              "2   video6.webm                    0.863                         33   \n",
              "3   video8.webm                    0.922                         33   \n",
              "4  video10.webm                    0.950                         34   \n",
              "\n",
              "   long-term_memorability  nb_long-term_annotations         0         1  \\\n",
              "0                   0.846                        13  0.180874  0.715626   \n",
              "1                   0.667                        12  0.146076  0.550070   \n",
              "2                   0.700                        10  0.063898  0.827439   \n",
              "3                   0.818                        11  0.380539  0.134683   \n",
              "4                   0.900                        10  0.427258  0.381448   \n",
              "\n",
              "          2         3         4  ...        99       100       101       102  \\\n",
              "0  0.198930  0.610453  0.121610  ... -0.002154 -0.000850  0.000000  0.260845   \n",
              "1  0.460729  0.424397  0.341807  ...  0.000007 -0.000399  0.920270  0.337932   \n",
              "2  0.211925  0.720297  0.129499  ...  0.002896  0.002309  0.374684  0.019155   \n",
              "3  0.746891  0.171604  0.697045  ...  0.000568  0.000514  0.970656  0.435550   \n",
              "4  0.582746  0.409475  0.489531  ...  0.005307  0.000065  0.000000  0.442575   \n",
              "\n",
              "        103       104  105       106       107       108  \n",
              "0  0.294153  0.575061  0.0  0.129661  0.412381  0.788761  \n",
              "1  0.382134  0.943198  0.0  0.692224  0.762354 -0.561793  \n",
              "2  0.187358  0.512601  0.0  0.438261 -0.219560  0.276687  \n",
              "3  0.431595  1.142377  0.0  0.424483  0.326030  0.688481  \n",
              "4  0.347355  1.285838  0.0 -0.279630 -0.012414  0.197281  \n",
              "\n",
              "[5 rows x 114 columns]"
            ]
          },
          "metadata": {
            "tags": []
          },
          "execution_count": 21
        }
      ]
    },
    {
      "metadata": {
        "id": "y41Du8T36gVC",
        "colab_type": "text"
      },
      "cell_type": "markdown",
      "source": [
        "###splitting test and train data set"
      ]
    },
    {
      "metadata": {
        "id": "OYEm7Va35ESE",
        "colab_type": "code",
        "colab": {}
      },
      "cell_type": "code",
      "source": [
        "x_aesthetic_short_train, x_aesthetic_short_test, y_aesthetic_short_train, y_aesthetic_short_test = train_test_split(dataset2.drop(['video','short-term_memorability','nb_short-term_annotations','long-term_memorability','nb_long-term_annotations'], axis=1), dataset2['short-term_memorability'], test_size=0.2, random_state=101)\n",
        "x_aesthetic_long_train, x_aesthetic_long_test, y_aesthetic_long_train, y_aesthetic_long_test = train_test_split(dataset2.drop(['video','short-term_memorability','nb_short-term_annotations','long-term_memorability','nb_long-term_annotations'], axis=1), dataset2['long-term_memorability'], test_size=0.2, random_state=101)"
      ],
      "execution_count": 0,
      "outputs": []
    },
    {
      "metadata": {
        "id": "c18c48-D9h_g",
        "colab_type": "text"
      },
      "cell_type": "markdown",
      "source": [
        "###MODEL 1 : Linear Regression"
      ]
    },
    {
      "metadata": {
        "id": "pmqbisyK5EQQ",
        "colab_type": "code",
        "outputId": "8765abf6-97b1-4272-bfd3-8a8d7b9c98f6",
        "colab": {
          "base_uri": "https://localhost:8080/",
          "height": 85
        }
      },
      "cell_type": "code",
      "source": [
        "from sklearn.linear_model import LinearRegression \n",
        "\n",
        "model_aesthetic_short_linearReg = LinearRegression ()\n",
        "model_aesthetic_short_linearReg.fit(x_aesthetic_short_train, y_aesthetic_short_train)\n",
        "\n",
        "output_aesthetic_short_linearReg=model_aesthetic_short_linearReg.predict(x_aesthetic_short_test)\n",
        "\n",
        "print('Short Term Memorability')\n",
        "Get_score(output_aesthetic_short_linearReg,y_aesthetic_short_test)\n",
        "\n",
        "\n",
        "\n",
        "\n",
        "\n",
        "model_aesthetic_long_linearReg = LinearRegression ()\n",
        "model_aesthetic_long_linearReg.fit(x_aesthetic_long_train, y_aesthetic_long_train)\n",
        "\n",
        "output_aesthetic_long_linearReg=model_aesthetic_long_linearReg.predict(x_aesthetic_long_test)\n",
        "\n",
        "print('Long Term Memorability')\n",
        "Get_score(output_aesthetic_long_linearReg,y_aesthetic_long_test)"
      ],
      "execution_count": 0,
      "outputs": [
        {
          "output_type": "stream",
          "text": [
            "Short Term Memorability\n",
            "The Spearman's correlation coefficient is: 0.237\n",
            "Long Term Memorability\n",
            "The Spearman's correlation coefficient is: 0.088\n"
          ],
          "name": "stdout"
        }
      ]
    },
    {
      "metadata": {
        "id": "Md8yTtKe-Vqw",
        "colab_type": "text"
      },
      "cell_type": "markdown",
      "source": [
        "###MODEL 2 : DecisionTreeRegressor"
      ]
    },
    {
      "metadata": {
        "id": "Th8aoXtQ-_s2",
        "colab_type": "code",
        "outputId": "0e536816-4bd1-41a8-e6b6-4c185cdcf295",
        "colab": {
          "base_uri": "https://localhost:8080/",
          "height": 85
        }
      },
      "cell_type": "code",
      "source": [
        "from sklearn.tree import DecisionTreeRegressor\n",
        "\n",
        "model_aesthetic_short_decisionTree = DecisionTreeRegressor ()\n",
        "model_aesthetic_short_decisionTree.fit(x_aesthetic_short_train, y_aesthetic_short_train)\n",
        "\n",
        "output_aesthetic_short_decisionTree=model_aesthetic_short_decisionTree.predict(x_aesthetic_short_test)\n",
        "\n",
        "print('Short Term Memorability')\n",
        "Get_score(output_aesthetic_short_decisionTree,y_aesthetic_short_test)\n",
        "\n",
        "\n",
        "\n",
        "\n",
        "\n",
        "model_aesthetic_long_decisionTree = DecisionTreeRegressor ()\n",
        "model_aesthetic_long_decisionTree.fit(x_aesthetic_long_train, y_aesthetic_long_train)\n",
        "\n",
        "output_aesthetic_long_decisionTree=model_aesthetic_long_decisionTree.predict(x_aesthetic_long_test)\n",
        "\n",
        "print('Long Term Memorability')\n",
        "Get_score(output_aesthetic_long_decisionTree,y_aesthetic_long_test)\n"
      ],
      "execution_count": 0,
      "outputs": [
        {
          "output_type": "stream",
          "text": [
            "Short Term Memorability\n",
            "The Spearman's correlation coefficient is: 0.150\n",
            "Long Term Memorability\n",
            "The Spearman's correlation coefficient is: 0.028\n"
          ],
          "name": "stdout"
        }
      ]
    },
    {
      "metadata": {
        "id": "7pcderCI95uQ",
        "colab_type": "text"
      },
      "cell_type": "markdown",
      "source": [
        "###MODEL 3 : Bayesian Ridge"
      ]
    },
    {
      "metadata": {
        "id": "32WeWSIu9w9W",
        "colab_type": "code",
        "outputId": "23964d57-6b21-4223-edd7-8202f7b825ab",
        "colab": {
          "base_uri": "https://localhost:8080/",
          "height": 85
        }
      },
      "cell_type": "code",
      "source": [
        "from sklearn.linear_model import BayesianRidge\n",
        "\n",
        "model_aesthetic_short_bayesian= BayesianRidge ()\n",
        "model_aesthetic_short_bayesian.fit(x_aesthetic_short_train, y_aesthetic_short_train)\n",
        "\n",
        "output_aesthetic_short_bayesian=model_aesthetic_short_bayesian.predict(x_aesthetic_short_test)\n",
        "\n",
        "print('Short Term Memorability')\n",
        "Get_score(output_aesthetic_short_bayesian,y_aesthetic_short_test)\n",
        "\n",
        "\n",
        "\n",
        "\n",
        "\n",
        "model_aesthetic_long_bayesian = BayesianRidge ()\n",
        "model_aesthetic_long_bayesian.fit(x_aesthetic_long_train, y_aesthetic_long_train)\n",
        "\n",
        "output_aesthetic_long_bayesian=model_aesthetic_long_bayesian.predict(x_aesthetic_long_test)\n",
        "\n",
        "print('Long Term Memorability')\n",
        "Get_score(output_aesthetic_long_bayesian,y_aesthetic_long_test)\n",
        "\n"
      ],
      "execution_count": 0,
      "outputs": [
        {
          "output_type": "stream",
          "text": [
            "Short Term Memorability\n",
            "The Spearman's correlation coefficient is: 0.248\n",
            "Long Term Memorability\n",
            "The Spearman's correlation coefficient is: 0.062\n"
          ],
          "name": "stdout"
        }
      ]
    },
    {
      "metadata": {
        "id": "GfTlEVBm9xAl",
        "colab_type": "code",
        "colab": {}
      },
      "cell_type": "code",
      "source": [
        ""
      ],
      "execution_count": 0,
      "outputs": []
    },
    {
      "metadata": {
        "id": "ptpVAtPNu8U9",
        "colab_type": "text"
      },
      "cell_type": "markdown",
      "source": [
        "#C3D"
      ]
    },
    {
      "metadata": {
        "id": "Q-KPF6JC9xDb",
        "colab_type": "code",
        "colab": {}
      },
      "cell_type": "code",
      "source": [
        "c3d_path = '/content/drive/My Drive/c3d_data.csv'\n",
        "c3d=pd.read_csv(c3d_path,index_col=0)"
      ],
      "execution_count": 0,
      "outputs": []
    },
    {
      "metadata": {
        "id": "yHkyf6pU9xOE",
        "colab_type": "code",
        "outputId": "3776cbf1-5c5d-4c76-9c0f-790230dfd606",
        "colab": {
          "base_uri": "https://localhost:8080/",
          "height": 338
        }
      },
      "cell_type": "code",
      "source": [
        "c3d.head(5)"
      ],
      "execution_count": 0,
      "outputs": [
        {
          "output_type": "execute_result",
          "data": {
            "text/html": [
              "<div>\n",
              "<style scoped>\n",
              "    .dataframe tbody tr th:only-of-type {\n",
              "        vertical-align: middle;\n",
              "    }\n",
              "\n",
              "    .dataframe tbody tr th {\n",
              "        vertical-align: top;\n",
              "    }\n",
              "\n",
              "    .dataframe thead th {\n",
              "        text-align: right;\n",
              "    }\n",
              "</style>\n",
              "<table border=\"1\" class=\"dataframe\">\n",
              "  <thead>\n",
              "    <tr style=\"text-align: right;\">\n",
              "      <th></th>\n",
              "      <th>0</th>\n",
              "      <th>1</th>\n",
              "      <th>2</th>\n",
              "      <th>3</th>\n",
              "      <th>4</th>\n",
              "      <th>5</th>\n",
              "      <th>6</th>\n",
              "      <th>7</th>\n",
              "      <th>8</th>\n",
              "      <th>9</th>\n",
              "      <th>...</th>\n",
              "      <th>92</th>\n",
              "      <th>93</th>\n",
              "      <th>94</th>\n",
              "      <th>95</th>\n",
              "      <th>96</th>\n",
              "      <th>97</th>\n",
              "      <th>98</th>\n",
              "      <th>99</th>\n",
              "      <th>100</th>\n",
              "      <th>video</th>\n",
              "    </tr>\n",
              "  </thead>\n",
              "  <tbody>\n",
              "    <tr>\n",
              "      <th>0</th>\n",
              "      <td>0.010858</td>\n",
              "      <td>0.010386</td>\n",
              "      <td>0.000000</td>\n",
              "      <td>0.000000e+00</td>\n",
              "      <td>0.000000e+00</td>\n",
              "      <td>0.000000</td>\n",
              "      <td>2.700000e-07</td>\n",
              "      <td>0.000000</td>\n",
              "      <td>1.000000e-08</td>\n",
              "      <td>3.400000e-07</td>\n",
              "      <td>...</td>\n",
              "      <td>0.000000</td>\n",
              "      <td>0.000000</td>\n",
              "      <td>1.700000e-07</td>\n",
              "      <td>0.000000</td>\n",
              "      <td>0.000000e+00</td>\n",
              "      <td>1.000000e-08</td>\n",
              "      <td>1.300000e-06</td>\n",
              "      <td>2.600000e-06</td>\n",
              "      <td>8.000000e-08</td>\n",
              "      <td>video6632.webm</td>\n",
              "    </tr>\n",
              "    <tr>\n",
              "      <th>1</th>\n",
              "      <td>0.000200</td>\n",
              "      <td>0.000065</td>\n",
              "      <td>0.993807</td>\n",
              "      <td>2.000000e-07</td>\n",
              "      <td>4.700000e-07</td>\n",
              "      <td>0.000073</td>\n",
              "      <td>3.700000e-06</td>\n",
              "      <td>0.000337</td>\n",
              "      <td>6.710000e-06</td>\n",
              "      <td>2.290000e-06</td>\n",
              "      <td>...</td>\n",
              "      <td>0.000010</td>\n",
              "      <td>0.000002</td>\n",
              "      <td>5.800000e-06</td>\n",
              "      <td>0.000001</td>\n",
              "      <td>1.490000e-06</td>\n",
              "      <td>1.170000e-05</td>\n",
              "      <td>1.500000e-07</td>\n",
              "      <td>8.300000e-07</td>\n",
              "      <td>1.060000e-04</td>\n",
              "      <td>video6634.webm</td>\n",
              "    </tr>\n",
              "    <tr>\n",
              "      <th>2</th>\n",
              "      <td>0.000000</td>\n",
              "      <td>0.000000</td>\n",
              "      <td>0.000000</td>\n",
              "      <td>0.000000e+00</td>\n",
              "      <td>0.000000e+00</td>\n",
              "      <td>0.000000</td>\n",
              "      <td>0.000000e+00</td>\n",
              "      <td>0.000000</td>\n",
              "      <td>0.000000e+00</td>\n",
              "      <td>0.000000e+00</td>\n",
              "      <td>...</td>\n",
              "      <td>0.000000</td>\n",
              "      <td>0.000000</td>\n",
              "      <td>0.000000e+00</td>\n",
              "      <td>0.000000</td>\n",
              "      <td>0.000000e+00</td>\n",
              "      <td>0.000000e+00</td>\n",
              "      <td>0.000000e+00</td>\n",
              "      <td>0.000000e+00</td>\n",
              "      <td>7.120000e-06</td>\n",
              "      <td>video6633.webm</td>\n",
              "    </tr>\n",
              "    <tr>\n",
              "      <th>3</th>\n",
              "      <td>0.005959</td>\n",
              "      <td>0.004765</td>\n",
              "      <td>0.003757</td>\n",
              "      <td>5.787100e-04</td>\n",
              "      <td>7.344000e-05</td>\n",
              "      <td>0.000129</td>\n",
              "      <td>4.665300e-04</td>\n",
              "      <td>0.010266</td>\n",
              "      <td>3.028100e-04</td>\n",
              "      <td>2.196500e-04</td>\n",
              "      <td>...</td>\n",
              "      <td>0.003992</td>\n",
              "      <td>0.004137</td>\n",
              "      <td>3.670390e-02</td>\n",
              "      <td>0.000767</td>\n",
              "      <td>3.692100e-04</td>\n",
              "      <td>1.251980e-02</td>\n",
              "      <td>8.422000e-05</td>\n",
              "      <td>1.159825e-02</td>\n",
              "      <td>1.155040e-03</td>\n",
              "      <td>video6645.webm</td>\n",
              "    </tr>\n",
              "    <tr>\n",
              "      <th>4</th>\n",
              "      <td>0.005782</td>\n",
              "      <td>0.000306</td>\n",
              "      <td>0.004011</td>\n",
              "      <td>1.007000e-05</td>\n",
              "      <td>1.034000e-05</td>\n",
              "      <td>0.000002</td>\n",
              "      <td>3.160000e-06</td>\n",
              "      <td>0.000003</td>\n",
              "      <td>1.984000e-05</td>\n",
              "      <td>5.750000e-06</td>\n",
              "      <td>...</td>\n",
              "      <td>0.000002</td>\n",
              "      <td>0.000004</td>\n",
              "      <td>6.818350e-03</td>\n",
              "      <td>0.000005</td>\n",
              "      <td>5.000000e-08</td>\n",
              "      <td>2.088000e-05</td>\n",
              "      <td>1.271750e-03</td>\n",
              "      <td>4.862200e-04</td>\n",
              "      <td>1.965000e-05</td>\n",
              "      <td>video6643.webm</td>\n",
              "    </tr>\n",
              "  </tbody>\n",
              "</table>\n",
              "<p>5 rows × 102 columns</p>\n",
              "</div>"
            ],
            "text/plain": [
              "          0         1         2             3             4         5  \\\n",
              "0  0.010858  0.010386  0.000000  0.000000e+00  0.000000e+00  0.000000   \n",
              "1  0.000200  0.000065  0.993807  2.000000e-07  4.700000e-07  0.000073   \n",
              "2  0.000000  0.000000  0.000000  0.000000e+00  0.000000e+00  0.000000   \n",
              "3  0.005959  0.004765  0.003757  5.787100e-04  7.344000e-05  0.000129   \n",
              "4  0.005782  0.000306  0.004011  1.007000e-05  1.034000e-05  0.000002   \n",
              "\n",
              "              6         7             8             9  ...        92  \\\n",
              "0  2.700000e-07  0.000000  1.000000e-08  3.400000e-07  ...  0.000000   \n",
              "1  3.700000e-06  0.000337  6.710000e-06  2.290000e-06  ...  0.000010   \n",
              "2  0.000000e+00  0.000000  0.000000e+00  0.000000e+00  ...  0.000000   \n",
              "3  4.665300e-04  0.010266  3.028100e-04  2.196500e-04  ...  0.003992   \n",
              "4  3.160000e-06  0.000003  1.984000e-05  5.750000e-06  ...  0.000002   \n",
              "\n",
              "         93            94        95            96            97            98  \\\n",
              "0  0.000000  1.700000e-07  0.000000  0.000000e+00  1.000000e-08  1.300000e-06   \n",
              "1  0.000002  5.800000e-06  0.000001  1.490000e-06  1.170000e-05  1.500000e-07   \n",
              "2  0.000000  0.000000e+00  0.000000  0.000000e+00  0.000000e+00  0.000000e+00   \n",
              "3  0.004137  3.670390e-02  0.000767  3.692100e-04  1.251980e-02  8.422000e-05   \n",
              "4  0.000004  6.818350e-03  0.000005  5.000000e-08  2.088000e-05  1.271750e-03   \n",
              "\n",
              "             99           100           video  \n",
              "0  2.600000e-06  8.000000e-08  video6632.webm  \n",
              "1  8.300000e-07  1.060000e-04  video6634.webm  \n",
              "2  0.000000e+00  7.120000e-06  video6633.webm  \n",
              "3  1.159825e-02  1.155040e-03  video6645.webm  \n",
              "4  4.862200e-04  1.965000e-05  video6643.webm  \n",
              "\n",
              "[5 rows x 102 columns]"
            ]
          },
          "metadata": {
            "tags": []
          },
          "execution_count": 30
        }
      ]
    },
    {
      "metadata": {
        "id": "G_xeVWw19xRA",
        "colab_type": "code",
        "outputId": "e76be406-1497-453e-9ebd-1d5d46d4f798",
        "colab": {
          "base_uri": "https://localhost:8080/",
          "height": 270
        }
      },
      "cell_type": "code",
      "source": [
        "dataset3 = pd.merge(groundTruth,c3d, on =\"video\")\n",
        "dataset3.head(5)"
      ],
      "execution_count": 0,
      "outputs": [
        {
          "output_type": "execute_result",
          "data": {
            "text/html": [
              "<div>\n",
              "<style scoped>\n",
              "    .dataframe tbody tr th:only-of-type {\n",
              "        vertical-align: middle;\n",
              "    }\n",
              "\n",
              "    .dataframe tbody tr th {\n",
              "        vertical-align: top;\n",
              "    }\n",
              "\n",
              "    .dataframe thead th {\n",
              "        text-align: right;\n",
              "    }\n",
              "</style>\n",
              "<table border=\"1\" class=\"dataframe\">\n",
              "  <thead>\n",
              "    <tr style=\"text-align: right;\">\n",
              "      <th></th>\n",
              "      <th>video</th>\n",
              "      <th>short-term_memorability</th>\n",
              "      <th>nb_short-term_annotations</th>\n",
              "      <th>long-term_memorability</th>\n",
              "      <th>nb_long-term_annotations</th>\n",
              "      <th>0</th>\n",
              "      <th>1</th>\n",
              "      <th>2</th>\n",
              "      <th>3</th>\n",
              "      <th>4</th>\n",
              "      <th>...</th>\n",
              "      <th>91</th>\n",
              "      <th>92</th>\n",
              "      <th>93</th>\n",
              "      <th>94</th>\n",
              "      <th>95</th>\n",
              "      <th>96</th>\n",
              "      <th>97</th>\n",
              "      <th>98</th>\n",
              "      <th>99</th>\n",
              "      <th>100</th>\n",
              "    </tr>\n",
              "  </thead>\n",
              "  <tbody>\n",
              "    <tr>\n",
              "      <th>0</th>\n",
              "      <td>video3.webm</td>\n",
              "      <td>0.924</td>\n",
              "      <td>34</td>\n",
              "      <td>0.846</td>\n",
              "      <td>13</td>\n",
              "      <td>0.020249</td>\n",
              "      <td>0.001578</td>\n",
              "      <td>0.000826</td>\n",
              "      <td>0.000945</td>\n",
              "      <td>0.000063</td>\n",
              "      <td>...</td>\n",
              "      <td>0.001042</td>\n",
              "      <td>0.000161</td>\n",
              "      <td>0.000257</td>\n",
              "      <td>0.046617</td>\n",
              "      <td>0.000156</td>\n",
              "      <td>0.000006</td>\n",
              "      <td>0.000537</td>\n",
              "      <td>0.000339</td>\n",
              "      <td>0.008437</td>\n",
              "      <td>0.000470</td>\n",
              "    </tr>\n",
              "    <tr>\n",
              "      <th>1</th>\n",
              "      <td>video4.webm</td>\n",
              "      <td>0.923</td>\n",
              "      <td>33</td>\n",
              "      <td>0.667</td>\n",
              "      <td>12</td>\n",
              "      <td>0.000118</td>\n",
              "      <td>0.000891</td>\n",
              "      <td>0.000188</td>\n",
              "      <td>0.000045</td>\n",
              "      <td>0.000063</td>\n",
              "      <td>...</td>\n",
              "      <td>0.000582</td>\n",
              "      <td>0.000393</td>\n",
              "      <td>0.000864</td>\n",
              "      <td>0.000947</td>\n",
              "      <td>0.000136</td>\n",
              "      <td>0.000007</td>\n",
              "      <td>0.000360</td>\n",
              "      <td>0.000159</td>\n",
              "      <td>0.001025</td>\n",
              "      <td>0.000020</td>\n",
              "    </tr>\n",
              "    <tr>\n",
              "      <th>2</th>\n",
              "      <td>video6.webm</td>\n",
              "      <td>0.863</td>\n",
              "      <td>33</td>\n",
              "      <td>0.700</td>\n",
              "      <td>10</td>\n",
              "      <td>0.011765</td>\n",
              "      <td>0.000746</td>\n",
              "      <td>0.000784</td>\n",
              "      <td>0.000013</td>\n",
              "      <td>0.000007</td>\n",
              "      <td>...</td>\n",
              "      <td>0.000224</td>\n",
              "      <td>0.000003</td>\n",
              "      <td>0.000031</td>\n",
              "      <td>0.002538</td>\n",
              "      <td>0.000104</td>\n",
              "      <td>0.000005</td>\n",
              "      <td>0.000064</td>\n",
              "      <td>0.005380</td>\n",
              "      <td>0.001027</td>\n",
              "      <td>0.001384</td>\n",
              "    </tr>\n",
              "    <tr>\n",
              "      <th>3</th>\n",
              "      <td>video8.webm</td>\n",
              "      <td>0.922</td>\n",
              "      <td>33</td>\n",
              "      <td>0.818</td>\n",
              "      <td>11</td>\n",
              "      <td>0.000223</td>\n",
              "      <td>0.000165</td>\n",
              "      <td>0.000007</td>\n",
              "      <td>0.000016</td>\n",
              "      <td>0.000005</td>\n",
              "      <td>...</td>\n",
              "      <td>0.000046</td>\n",
              "      <td>0.000009</td>\n",
              "      <td>0.000023</td>\n",
              "      <td>0.000053</td>\n",
              "      <td>0.000048</td>\n",
              "      <td>0.000019</td>\n",
              "      <td>0.000001</td>\n",
              "      <td>0.000004</td>\n",
              "      <td>0.000380</td>\n",
              "      <td>0.000029</td>\n",
              "    </tr>\n",
              "    <tr>\n",
              "      <th>4</th>\n",
              "      <td>video10.webm</td>\n",
              "      <td>0.950</td>\n",
              "      <td>34</td>\n",
              "      <td>0.900</td>\n",
              "      <td>10</td>\n",
              "      <td>0.000090</td>\n",
              "      <td>0.000615</td>\n",
              "      <td>0.003436</td>\n",
              "      <td>0.001281</td>\n",
              "      <td>0.003551</td>\n",
              "      <td>...</td>\n",
              "      <td>0.000037</td>\n",
              "      <td>0.000690</td>\n",
              "      <td>0.000171</td>\n",
              "      <td>0.000231</td>\n",
              "      <td>0.000637</td>\n",
              "      <td>0.000040</td>\n",
              "      <td>0.000061</td>\n",
              "      <td>0.000075</td>\n",
              "      <td>0.000002</td>\n",
              "      <td>0.001323</td>\n",
              "    </tr>\n",
              "  </tbody>\n",
              "</table>\n",
              "<p>5 rows × 106 columns</p>\n",
              "</div>"
            ],
            "text/plain": [
              "          video  short-term_memorability  nb_short-term_annotations  \\\n",
              "0   video3.webm                    0.924                         34   \n",
              "1   video4.webm                    0.923                         33   \n",
              "2   video6.webm                    0.863                         33   \n",
              "3   video8.webm                    0.922                         33   \n",
              "4  video10.webm                    0.950                         34   \n",
              "\n",
              "   long-term_memorability  nb_long-term_annotations         0         1  \\\n",
              "0                   0.846                        13  0.020249  0.001578   \n",
              "1                   0.667                        12  0.000118  0.000891   \n",
              "2                   0.700                        10  0.011765  0.000746   \n",
              "3                   0.818                        11  0.000223  0.000165   \n",
              "4                   0.900                        10  0.000090  0.000615   \n",
              "\n",
              "          2         3         4  ...        91        92        93        94  \\\n",
              "0  0.000826  0.000945  0.000063  ...  0.001042  0.000161  0.000257  0.046617   \n",
              "1  0.000188  0.000045  0.000063  ...  0.000582  0.000393  0.000864  0.000947   \n",
              "2  0.000784  0.000013  0.000007  ...  0.000224  0.000003  0.000031  0.002538   \n",
              "3  0.000007  0.000016  0.000005  ...  0.000046  0.000009  0.000023  0.000053   \n",
              "4  0.003436  0.001281  0.003551  ...  0.000037  0.000690  0.000171  0.000231   \n",
              "\n",
              "         95        96        97        98        99       100  \n",
              "0  0.000156  0.000006  0.000537  0.000339  0.008437  0.000470  \n",
              "1  0.000136  0.000007  0.000360  0.000159  0.001025  0.000020  \n",
              "2  0.000104  0.000005  0.000064  0.005380  0.001027  0.001384  \n",
              "3  0.000048  0.000019  0.000001  0.000004  0.000380  0.000029  \n",
              "4  0.000637  0.000040  0.000061  0.000075  0.000002  0.001323  \n",
              "\n",
              "[5 rows x 106 columns]"
            ]
          },
          "metadata": {
            "tags": []
          },
          "execution_count": 31
        }
      ]
    },
    {
      "metadata": {
        "id": "MR8Zwwziv0oZ",
        "colab_type": "text"
      },
      "cell_type": "markdown",
      "source": [
        "###splitting test and train data"
      ]
    },
    {
      "metadata": {
        "id": "-IRMljTt9xTZ",
        "colab_type": "code",
        "colab": {}
      },
      "cell_type": "code",
      "source": [
        "x_c3d_short_train, x_c3d_short_test, y_c3d_short_train, y_c3d_short_test = train_test_split(dataset3.drop(['video','short-term_memorability','nb_short-term_annotations','long-term_memorability','nb_long-term_annotations'], axis=1), dataset3['short-term_memorability'], test_size=0.2, random_state=101)\n",
        "x_c3d_long_train, x_c3d_long_test, y_c3d_long_train, y_c3d_long_test = train_test_split(dataset3.drop(['video','short-term_memorability','nb_short-term_annotations','long-term_memorability','nb_long-term_annotations'], axis=1), dataset3['long-term_memorability'], test_size=0.2, random_state=101)"
      ],
      "execution_count": 0,
      "outputs": []
    },
    {
      "metadata": {
        "id": "XLATHx8u1MmQ",
        "colab_type": "text"
      },
      "cell_type": "markdown",
      "source": [
        "###MODEL 1 : Linear Regression"
      ]
    },
    {
      "metadata": {
        "id": "cQrNX-bI9xWH",
        "colab_type": "code",
        "outputId": "cdc3bee1-be90-4cbe-ff49-2102162e1a5c",
        "colab": {
          "base_uri": "https://localhost:8080/",
          "height": 85
        }
      },
      "cell_type": "code",
      "source": [
        "from sklearn.linear_model import LinearRegression \n",
        "\n",
        "model_c3d_short_linearReg = LinearRegression ()\n",
        "model_c3d_short_linearReg.fit(x_c3d_short_train, y_c3d_short_train)\n",
        "\n",
        "output_c3d_short_linearReg=model_c3d_short_linearReg.predict(x_c3d_short_test)\n",
        "\n",
        "print('Short Term Memorability')\n",
        "Get_score(output_c3d_short_linearReg,y_c3d_short_test)\n",
        "\n",
        "\n",
        "\n",
        "\n",
        "\n",
        "model_c3d_long_linearReg = LinearRegression ()\n",
        "model_c3d_long_linearReg.fit(x_c3d_long_train, y_c3d_long_train)\n",
        "\n",
        "output_c3d_long_linearReg=model_c3d_long_linearReg.predict(x_c3d_long_test)\n",
        "\n",
        "print('Long Term Memorability')\n",
        "Get_score(output_c3d_long_linearReg,y_c3d_long_test)\n"
      ],
      "execution_count": 0,
      "outputs": [
        {
          "output_type": "stream",
          "text": [
            "Short Term Memorability\n",
            "The Spearman's correlation coefficient is: 0.251\n",
            "Long Term Memorability\n",
            "The Spearman's correlation coefficient is: 0.074\n"
          ],
          "name": "stdout"
        }
      ]
    },
    {
      "metadata": {
        "id": "J1mk88a418zt",
        "colab_type": "text"
      },
      "cell_type": "markdown",
      "source": [
        "###MODEL 2 : Lasso Linear Regression"
      ]
    },
    {
      "metadata": {
        "id": "589TLzM29xLR",
        "colab_type": "code",
        "outputId": "29790867-da58-49b5-a30d-1b13fcacac7f",
        "colab": {
          "base_uri": "https://localhost:8080/",
          "height": 85
        }
      },
      "cell_type": "code",
      "source": [
        "from sklearn.linear_model import LassoCV \n",
        "\n",
        "model_c3d_short_lasso = LassoCV (normalize=True,cv=5)\n",
        "model_c3d_short_lasso.fit(x_c3d_short_train, y_c3d_short_train)\n",
        "\n",
        "output_c3d_short_lasso=model_c3d_short_lasso.predict(x_c3d_short_test)\n",
        "\n",
        "print('Short Term Memorability')\n",
        "Get_score(output_c3d_short_lasso,y_c3d_short_test)\n",
        "\n",
        "\n",
        "\n",
        "\n",
        "model_c3d_long_lasso = LassoCV (normalize=True,cv=5)\n",
        "model_c3d_long_lasso.fit(x_c3d_long_train, y_c3d_long_train)\n",
        "\n",
        "output_c3d_long_lasso=model_c3d_long_lasso.predict(x_c3d_long_test)\n",
        "\n",
        "print('Long Term Memorability')\n",
        "Get_score(output_c3d_long_lasso,y_c3d_long_test)\n"
      ],
      "execution_count": 0,
      "outputs": [
        {
          "output_type": "stream",
          "text": [
            "Short Term Memorability\n",
            "The Spearman's correlation coefficient is: 0.259\n",
            "Long Term Memorability\n",
            "The Spearman's correlation coefficient is: 0.066\n"
          ],
          "name": "stdout"
        }
      ]
    },
    {
      "metadata": {
        "id": "NsfNjL-D_YDt",
        "colab_type": "text"
      },
      "cell_type": "markdown",
      "source": [
        "###MODEL3: Random Forest"
      ]
    },
    {
      "metadata": {
        "id": "z0jHm-vN3F8n",
        "colab_type": "code",
        "outputId": "360f1e7f-8394-4639-fad0-ec2d38531654",
        "colab": {
          "base_uri": "https://localhost:8080/",
          "height": 85
        }
      },
      "cell_type": "code",
      "source": [
        "from sklearn.ensemble import RandomForestRegressor \n",
        "\n",
        "model_c3d_short_randomForest = RandomForestRegressor (n_estimators =1500, max_features = 'sqrt')\n",
        "model_c3d_short_randomForest.fit(x_c3d_short_train, y_c3d_short_train)\n",
        "\n",
        "output_c3d_short_randomForest=model_c3d_short_randomForest.predict(x_c3d_short_test)\n",
        "\n",
        "print('Short Term Memorability')\n",
        "Get_score(output_c3d_short_randomForest,y_c3d_short_test)\n",
        "\n",
        "\n",
        "\n",
        "\n",
        "model_c3d_long_randomForest = RandomForestRegressor (n_estimators =1500, max_features = 'sqrt')\n",
        "model_c3d_long_randomForest.fit(x_c3d_long_train, y_c3d_long_train)\n",
        "\n",
        "output_c3d_long_randomForest=model_c3d_long_randomForest.predict(x_c3d_long_test)\n",
        "\n",
        "print('Long Term Memorability')\n",
        "Get_score(output_c3d_long_randomForest,y_c3d_long_test)\n"
      ],
      "execution_count": 0,
      "outputs": [
        {
          "output_type": "stream",
          "text": [
            "Short Term Memorability\n",
            "The Spearman's correlation coefficient is: 0.318\n",
            "Long Term Memorability\n",
            "The Spearman's correlation coefficient is: 0.113\n"
          ],
          "name": "stdout"
        }
      ]
    },
    {
      "metadata": {
        "id": "uaLmdpy4BlRO",
        "colab_type": "code",
        "colab": {}
      },
      "cell_type": "code",
      "source": [
        ""
      ],
      "execution_count": 0,
      "outputs": []
    },
    {
      "metadata": {
        "id": "arP7el0sBlT7",
        "colab_type": "code",
        "colab": {}
      },
      "cell_type": "code",
      "source": [
        ""
      ],
      "execution_count": 0,
      "outputs": []
    },
    {
      "metadata": {
        "id": "yXeuMYJcXdob",
        "colab_type": "text"
      },
      "cell_type": "markdown",
      "source": [
        "### Checking to see if all Datasets are equal (ie random state split resulted into same Y_test)"
      ]
    },
    {
      "metadata": {
        "id": "Uhe-x8KSWndi",
        "colab_type": "code",
        "colab": {
          "base_uri": "https://localhost:8080/",
          "height": 68
        },
        "outputId": "5b080546-888c-4334-dfd3-e189a01fa68f"
      },
      "cell_type": "code",
      "source": [
        "print (y_c3d_short_test.equals(y_caption_short_test))\n",
        "print (y_caption_short_test.equals(y_aesthetic_short_test))\n",
        "print (y_aesthetic_short_test.equals(y_c3d_short_test))"
      ],
      "execution_count": 51,
      "outputs": [
        {
          "output_type": "stream",
          "text": [
            "True\n",
            "True\n",
            "True\n"
          ],
          "name": "stdout"
        }
      ]
    },
    {
      "metadata": {
        "id": "jZjIK9vbBx6z",
        "colab_type": "text"
      },
      "cell_type": "markdown",
      "source": [
        "#Ensemble Approach"
      ]
    },
    {
      "metadata": {
        "id": "PUHS5-jfUTm5",
        "colab_type": "text"
      },
      "cell_type": "markdown",
      "source": [
        "SHORT TERM MEMORABILITY\n",
        "\n",
        "**Caption :**\n",
        "\n",
        "MODEL 1: Linear Regression : 0.356\n",
        "\n",
        "MODEL 2: SVR : 0.303\n",
        "\n",
        "MODEL 3: Bayesian Ridge : 0.417\n",
        "\n",
        "\n",
        "\n",
        "**Aesthetic :**\n",
        "\n",
        "MODEL 1 : Linear Regression : 0.237\n",
        "\n",
        "MODEL 2 : Decision Tree Regressor : 0.150\n",
        "\n",
        "MODEL 3 : Bayesian Ridge : 0.248\n",
        "\n",
        "\n",
        "\n",
        "**C3D:**\n",
        "\n",
        "MODEL 1 : Linear Regression : 0.251\n",
        "\n",
        "MODEL 2 : Lasso Linear Regression : 0.259\n",
        "\n",
        "MODEL 3 : Random Forest : 0.318"
      ]
    },
    {
      "metadata": {
        "id": "XmZsh1xgBlWw",
        "colab_type": "code",
        "colab": {}
      },
      "cell_type": "code",
      "source": [
        "shortTermMemorability = (0.6 * output_caption_short_bayesian) + (0.15 * output_aesthetic_short_bayesian) + (0.25 * output_c3d_short_randomForest)"
      ],
      "execution_count": 0,
      "outputs": []
    },
    {
      "metadata": {
        "id": "rbHHPxO6Bleb",
        "colab_type": "code",
        "colab": {
          "base_uri": "https://localhost:8080/",
          "height": 34
        },
        "outputId": "54144ca4-b307-4bdc-dbdc-97a055323641"
      },
      "cell_type": "code",
      "source": [
        "Get_score(shortTermMemorability,y_c3d_short_test)"
      ],
      "execution_count": 44,
      "outputs": [
        {
          "output_type": "stream",
          "text": [
            "The Spearman's correlation coefficient is: 0.439\n"
          ],
          "name": "stdout"
        }
      ]
    },
    {
      "metadata": {
        "id": "5991s6gYUKc0",
        "colab_type": "text"
      },
      "cell_type": "markdown",
      "source": [
        "LONG TERM MEMORABILITY\n",
        "\n",
        "**Caption : **\n",
        "\n",
        "MODEL 1: Linear Regression : 0.130\n",
        "\n",
        "MODEL 2: SVR : 0.112\n",
        "\n",
        "MODEL 3: Bayesian Ridge : 0.154\n",
        "\n",
        "\n",
        "**Aesthetic :**\n",
        "\n",
        "MODEL 1 : Linear Regression : 0.088\n",
        "\n",
        "MODEL 2 : Decision Tree Regressor : 0.028\n",
        "\n",
        "MODEL 3 : Bayesian Ridge : 0.062\n",
        "\n",
        "\n",
        "**C3D:**\n",
        "\n",
        "MODEL 1 : Linear Regression : 0.074\n",
        "\n",
        "MODEL 2 : Lasso Linear Regression : 0.066\n",
        "\n",
        "MODEL 3 : Random Forest : 0.113"
      ]
    },
    {
      "metadata": {
        "id": "vhbL2wGkBlb3",
        "colab_type": "code",
        "colab": {}
      },
      "cell_type": "code",
      "source": [
        "longTermMemorability = (0.4 * output_caption_long_bayesian) + (0.2 * output_aesthetic_long_linearReg) + (0.4 * output_c3d_long_randomForest)"
      ],
      "execution_count": 0,
      "outputs": []
    },
    {
      "metadata": {
        "id": "PrK-ZcoSBlZt",
        "colab_type": "code",
        "colab": {
          "base_uri": "https://localhost:8080/",
          "height": 34
        },
        "outputId": "43b60c12-99d5-4f46-8478-b3c01ee95239"
      },
      "cell_type": "code",
      "source": [
        "Get_score(longTermMemorability,y_c3d_long_test)"
      ],
      "execution_count": 54,
      "outputs": [
        {
          "output_type": "stream",
          "text": [
            "The Spearman's correlation coefficient is: 0.174\n"
          ],
          "name": "stdout"
        }
      ]
    },
    {
      "metadata": {
        "id": "ydtT6DDRYKHT",
        "colab_type": "code",
        "colab": {}
      },
      "cell_type": "code",
      "source": [
        ""
      ],
      "execution_count": 0,
      "outputs": []
    },
    {
      "metadata": {
        "id": "MFyBy3ITYKJ6",
        "colab_type": "code",
        "colab": {}
      },
      "cell_type": "code",
      "source": [
        ""
      ],
      "execution_count": 0,
      "outputs": []
    },
    {
      "metadata": {
        "id": "T2BDD1rXYKpD",
        "colab_type": "text"
      },
      "cell_type": "markdown",
      "source": [
        "# Creating Final Model for predictions  \n"
      ]
    },
    {
      "metadata": {
        "id": "B_xvo-YHc0Yw",
        "colab_type": "text"
      },
      "cell_type": "markdown",
      "source": [
        "###Loading Test captions "
      ]
    },
    {
      "metadata": {
        "id": "OGdA2RbAcxsl",
        "colab_type": "code",
        "colab": {}
      },
      "cell_type": "code",
      "source": [
        "test_captions_path = '/content/drive/My Drive/CA684_Assignment_Data/test-set/test-set-1_video-captions.txt'\n",
        "test_captions=read_caps(test_captions_path)"
      ],
      "execution_count": 0,
      "outputs": []
    },
    {
      "metadata": {
        "id": "-is3Pc7vdvtu",
        "colab_type": "code",
        "colab": {
          "base_uri": "https://localhost:8080/",
          "height": 204
        },
        "outputId": "bea1fa5e-a15a-45fb-e58d-da85bc91b949"
      },
      "cell_type": "code",
      "source": [
        "test_captions.head(5)"
      ],
      "execution_count": 271,
      "outputs": [
        {
          "output_type": "execute_result",
          "data": {
            "text/html": [
              "<div>\n",
              "<style scoped>\n",
              "    .dataframe tbody tr th:only-of-type {\n",
              "        vertical-align: middle;\n",
              "    }\n",
              "\n",
              "    .dataframe tbody tr th {\n",
              "        vertical-align: top;\n",
              "    }\n",
              "\n",
              "    .dataframe thead th {\n",
              "        text-align: right;\n",
              "    }\n",
              "</style>\n",
              "<table border=\"1\" class=\"dataframe\">\n",
              "  <thead>\n",
              "    <tr style=\"text-align: right;\">\n",
              "      <th></th>\n",
              "      <th>video</th>\n",
              "      <th>caption</th>\n",
              "    </tr>\n",
              "  </thead>\n",
              "  <tbody>\n",
              "    <tr>\n",
              "      <th>0</th>\n",
              "      <td>video7494.webm</td>\n",
              "      <td>green-jeep-struggling-to-drive-over-huge-rocks</td>\n",
              "    </tr>\n",
              "    <tr>\n",
              "      <th>1</th>\n",
              "      <td>video7495.webm</td>\n",
              "      <td>hiking-woman-tourist-is-walking-forward-in-mou...</td>\n",
              "    </tr>\n",
              "    <tr>\n",
              "      <th>2</th>\n",
              "      <td>video7496.webm</td>\n",
              "      <td>close-up-of-african-american-doctors-hands-usi...</td>\n",
              "    </tr>\n",
              "    <tr>\n",
              "      <th>3</th>\n",
              "      <td>video7497.webm</td>\n",
              "      <td>slow-motion-of-a-man-using-treadmill-in-the-gy...</td>\n",
              "    </tr>\n",
              "    <tr>\n",
              "      <th>4</th>\n",
              "      <td>video7498.webm</td>\n",
              "      <td>slow-motion-of-photographer-in-national-park</td>\n",
              "    </tr>\n",
              "  </tbody>\n",
              "</table>\n",
              "</div>"
            ],
            "text/plain": [
              "            video                                            caption\n",
              "0  video7494.webm     green-jeep-struggling-to-drive-over-huge-rocks\n",
              "1  video7495.webm  hiking-woman-tourist-is-walking-forward-in-mou...\n",
              "2  video7496.webm  close-up-of-african-american-doctors-hands-usi...\n",
              "3  video7497.webm  slow-motion-of-a-man-using-treadmill-in-the-gy...\n",
              "4  video7498.webm       slow-motion-of-photographer-in-national-park"
            ]
          },
          "metadata": {
            "tags": []
          },
          "execution_count": 271
        }
      ]
    },
    {
      "metadata": {
        "id": "ne-S44j3eIXs",
        "colab_type": "code",
        "colab": {}
      },
      "cell_type": "code",
      "source": [
        "test_ground_truth_path = '/content/drive/My Drive/CA684_Assignment_Data/test-set/ground_truth_template.csv'\n",
        "test_groundTruth=pd.read_csv(test_ground_truth_path)"
      ],
      "execution_count": 0,
      "outputs": []
    },
    {
      "metadata": {
        "id": "ckUOTrxhfKtM",
        "colab_type": "code",
        "colab": {
          "base_uri": "https://localhost:8080/",
          "height": 204
        },
        "outputId": "f7a5c6e2-61c1-458f-f6b8-b1526f4ad0e0"
      },
      "cell_type": "code",
      "source": [
        "test_groundTruth.head(5)"
      ],
      "execution_count": 273,
      "outputs": [
        {
          "output_type": "execute_result",
          "data": {
            "text/html": [
              "<div>\n",
              "<style scoped>\n",
              "    .dataframe tbody tr th:only-of-type {\n",
              "        vertical-align: middle;\n",
              "    }\n",
              "\n",
              "    .dataframe tbody tr th {\n",
              "        vertical-align: top;\n",
              "    }\n",
              "\n",
              "    .dataframe thead th {\n",
              "        text-align: right;\n",
              "    }\n",
              "</style>\n",
              "<table border=\"1\" class=\"dataframe\">\n",
              "  <thead>\n",
              "    <tr style=\"text-align: right;\">\n",
              "      <th></th>\n",
              "      <th>video</th>\n",
              "      <th>short-term_memorability</th>\n",
              "      <th>nb_short-term_annotations</th>\n",
              "      <th>long-term_memorability</th>\n",
              "      <th>nb_long-term_annotations</th>\n",
              "    </tr>\n",
              "  </thead>\n",
              "  <tbody>\n",
              "    <tr>\n",
              "      <th>0</th>\n",
              "      <td>7494</td>\n",
              "      <td>NaN</td>\n",
              "      <td>33</td>\n",
              "      <td>NaN</td>\n",
              "      <td>12</td>\n",
              "    </tr>\n",
              "    <tr>\n",
              "      <th>1</th>\n",
              "      <td>7495</td>\n",
              "      <td>NaN</td>\n",
              "      <td>34</td>\n",
              "      <td>NaN</td>\n",
              "      <td>10</td>\n",
              "    </tr>\n",
              "    <tr>\n",
              "      <th>2</th>\n",
              "      <td>7496</td>\n",
              "      <td>NaN</td>\n",
              "      <td>32</td>\n",
              "      <td>NaN</td>\n",
              "      <td>13</td>\n",
              "    </tr>\n",
              "    <tr>\n",
              "      <th>3</th>\n",
              "      <td>7497</td>\n",
              "      <td>NaN</td>\n",
              "      <td>33</td>\n",
              "      <td>NaN</td>\n",
              "      <td>10</td>\n",
              "    </tr>\n",
              "    <tr>\n",
              "      <th>4</th>\n",
              "      <td>7498</td>\n",
              "      <td>NaN</td>\n",
              "      <td>33</td>\n",
              "      <td>NaN</td>\n",
              "      <td>10</td>\n",
              "    </tr>\n",
              "  </tbody>\n",
              "</table>\n",
              "</div>"
            ],
            "text/plain": [
              "   video  short-term_memorability  nb_short-term_annotations  \\\n",
              "0   7494                      NaN                         33   \n",
              "1   7495                      NaN                         34   \n",
              "2   7496                      NaN                         32   \n",
              "3   7497                      NaN                         33   \n",
              "4   7498                      NaN                         33   \n",
              "\n",
              "   long-term_memorability  nb_long-term_annotations  \n",
              "0                     NaN                        12  \n",
              "1                     NaN                        10  \n",
              "2                     NaN                        13  \n",
              "3                     NaN                        10  \n",
              "4                     NaN                        10  "
            ]
          },
          "metadata": {
            "tags": []
          },
          "execution_count": 273
        }
      ]
    },
    {
      "metadata": {
        "id": "X50R3J6nfNrp",
        "colab_type": "code",
        "colab": {}
      },
      "cell_type": "code",
      "source": [
        "test_groundTruth['video'] = 'video'+test_groundTruth['video'].astype(str)+'.webm'"
      ],
      "execution_count": 0,
      "outputs": []
    },
    {
      "metadata": {
        "id": "-EP3PoPHf90P",
        "colab_type": "code",
        "colab": {
          "base_uri": "https://localhost:8080/",
          "height": 204
        },
        "outputId": "fe8ac87e-d817-4224-9875-e8c945bcdd37"
      },
      "cell_type": "code",
      "source": [
        "test_groundTruth.head(5)"
      ],
      "execution_count": 275,
      "outputs": [
        {
          "output_type": "execute_result",
          "data": {
            "text/html": [
              "<div>\n",
              "<style scoped>\n",
              "    .dataframe tbody tr th:only-of-type {\n",
              "        vertical-align: middle;\n",
              "    }\n",
              "\n",
              "    .dataframe tbody tr th {\n",
              "        vertical-align: top;\n",
              "    }\n",
              "\n",
              "    .dataframe thead th {\n",
              "        text-align: right;\n",
              "    }\n",
              "</style>\n",
              "<table border=\"1\" class=\"dataframe\">\n",
              "  <thead>\n",
              "    <tr style=\"text-align: right;\">\n",
              "      <th></th>\n",
              "      <th>video</th>\n",
              "      <th>short-term_memorability</th>\n",
              "      <th>nb_short-term_annotations</th>\n",
              "      <th>long-term_memorability</th>\n",
              "      <th>nb_long-term_annotations</th>\n",
              "    </tr>\n",
              "  </thead>\n",
              "  <tbody>\n",
              "    <tr>\n",
              "      <th>0</th>\n",
              "      <td>video7494.webm</td>\n",
              "      <td>NaN</td>\n",
              "      <td>33</td>\n",
              "      <td>NaN</td>\n",
              "      <td>12</td>\n",
              "    </tr>\n",
              "    <tr>\n",
              "      <th>1</th>\n",
              "      <td>video7495.webm</td>\n",
              "      <td>NaN</td>\n",
              "      <td>34</td>\n",
              "      <td>NaN</td>\n",
              "      <td>10</td>\n",
              "    </tr>\n",
              "    <tr>\n",
              "      <th>2</th>\n",
              "      <td>video7496.webm</td>\n",
              "      <td>NaN</td>\n",
              "      <td>32</td>\n",
              "      <td>NaN</td>\n",
              "      <td>13</td>\n",
              "    </tr>\n",
              "    <tr>\n",
              "      <th>3</th>\n",
              "      <td>video7497.webm</td>\n",
              "      <td>NaN</td>\n",
              "      <td>33</td>\n",
              "      <td>NaN</td>\n",
              "      <td>10</td>\n",
              "    </tr>\n",
              "    <tr>\n",
              "      <th>4</th>\n",
              "      <td>video7498.webm</td>\n",
              "      <td>NaN</td>\n",
              "      <td>33</td>\n",
              "      <td>NaN</td>\n",
              "      <td>10</td>\n",
              "    </tr>\n",
              "  </tbody>\n",
              "</table>\n",
              "</div>"
            ],
            "text/plain": [
              "            video  short-term_memorability  nb_short-term_annotations  \\\n",
              "0  video7494.webm                      NaN                         33   \n",
              "1  video7495.webm                      NaN                         34   \n",
              "2  video7496.webm                      NaN                         32   \n",
              "3  video7497.webm                      NaN                         33   \n",
              "4  video7498.webm                      NaN                         33   \n",
              "\n",
              "   long-term_memorability  nb_long-term_annotations  \n",
              "0                     NaN                        12  \n",
              "1                     NaN                        10  \n",
              "2                     NaN                        13  \n",
              "3                     NaN                        10  \n",
              "4                     NaN                        10  "
            ]
          },
          "metadata": {
            "tags": []
          },
          "execution_count": 275
        }
      ]
    },
    {
      "metadata": {
        "id": "RPJ-xc7ngBrA",
        "colab_type": "code",
        "colab": {}
      },
      "cell_type": "code",
      "source": [
        "test_dataset1 = pd.merge(test_groundTruth,test_captions, on =\"video\")"
      ],
      "execution_count": 0,
      "outputs": []
    },
    {
      "metadata": {
        "id": "9UB_ruo_geKL",
        "colab_type": "code",
        "colab": {
          "base_uri": "https://localhost:8080/",
          "height": 255
        },
        "outputId": "bbbfcc3d-47cd-4a71-c6fe-4050c9bebc81"
      },
      "cell_type": "code",
      "source": [
        "test_dataset1.head(5)"
      ],
      "execution_count": 277,
      "outputs": [
        {
          "output_type": "execute_result",
          "data": {
            "text/html": [
              "<div>\n",
              "<style scoped>\n",
              "    .dataframe tbody tr th:only-of-type {\n",
              "        vertical-align: middle;\n",
              "    }\n",
              "\n",
              "    .dataframe tbody tr th {\n",
              "        vertical-align: top;\n",
              "    }\n",
              "\n",
              "    .dataframe thead th {\n",
              "        text-align: right;\n",
              "    }\n",
              "</style>\n",
              "<table border=\"1\" class=\"dataframe\">\n",
              "  <thead>\n",
              "    <tr style=\"text-align: right;\">\n",
              "      <th></th>\n",
              "      <th>video</th>\n",
              "      <th>short-term_memorability</th>\n",
              "      <th>nb_short-term_annotations</th>\n",
              "      <th>long-term_memorability</th>\n",
              "      <th>nb_long-term_annotations</th>\n",
              "      <th>caption</th>\n",
              "    </tr>\n",
              "  </thead>\n",
              "  <tbody>\n",
              "    <tr>\n",
              "      <th>0</th>\n",
              "      <td>video7494.webm</td>\n",
              "      <td>NaN</td>\n",
              "      <td>33</td>\n",
              "      <td>NaN</td>\n",
              "      <td>12</td>\n",
              "      <td>green-jeep-struggling-to-drive-over-huge-rocks</td>\n",
              "    </tr>\n",
              "    <tr>\n",
              "      <th>1</th>\n",
              "      <td>video7495.webm</td>\n",
              "      <td>NaN</td>\n",
              "      <td>34</td>\n",
              "      <td>NaN</td>\n",
              "      <td>10</td>\n",
              "      <td>hiking-woman-tourist-is-walking-forward-in-mou...</td>\n",
              "    </tr>\n",
              "    <tr>\n",
              "      <th>2</th>\n",
              "      <td>video7496.webm</td>\n",
              "      <td>NaN</td>\n",
              "      <td>32</td>\n",
              "      <td>NaN</td>\n",
              "      <td>13</td>\n",
              "      <td>close-up-of-african-american-doctors-hands-usi...</td>\n",
              "    </tr>\n",
              "    <tr>\n",
              "      <th>3</th>\n",
              "      <td>video7497.webm</td>\n",
              "      <td>NaN</td>\n",
              "      <td>33</td>\n",
              "      <td>NaN</td>\n",
              "      <td>10</td>\n",
              "      <td>slow-motion-of-a-man-using-treadmill-in-the-gy...</td>\n",
              "    </tr>\n",
              "    <tr>\n",
              "      <th>4</th>\n",
              "      <td>video7498.webm</td>\n",
              "      <td>NaN</td>\n",
              "      <td>33</td>\n",
              "      <td>NaN</td>\n",
              "      <td>10</td>\n",
              "      <td>slow-motion-of-photographer-in-national-park</td>\n",
              "    </tr>\n",
              "  </tbody>\n",
              "</table>\n",
              "</div>"
            ],
            "text/plain": [
              "            video  short-term_memorability  nb_short-term_annotations  \\\n",
              "0  video7494.webm                      NaN                         33   \n",
              "1  video7495.webm                      NaN                         34   \n",
              "2  video7496.webm                      NaN                         32   \n",
              "3  video7497.webm                      NaN                         33   \n",
              "4  video7498.webm                      NaN                         33   \n",
              "\n",
              "   long-term_memorability  nb_long-term_annotations  \\\n",
              "0                     NaN                        12   \n",
              "1                     NaN                        10   \n",
              "2                     NaN                        13   \n",
              "3                     NaN                        10   \n",
              "4                     NaN                        10   \n",
              "\n",
              "                                             caption  \n",
              "0     green-jeep-struggling-to-drive-over-huge-rocks  \n",
              "1  hiking-woman-tourist-is-walking-forward-in-mou...  \n",
              "2  close-up-of-african-american-doctors-hands-usi...  \n",
              "3  slow-motion-of-a-man-using-treadmill-in-the-gy...  \n",
              "4       slow-motion-of-photographer-in-national-park  "
            ]
          },
          "metadata": {
            "tags": []
          },
          "execution_count": 277
        }
      ]
    },
    {
      "metadata": {
        "id": "fgQ-tCq6gRx1",
        "colab_type": "text"
      },
      "cell_type": "markdown",
      "source": [
        "###Data Cleaning of review column in Test Dataset"
      ]
    },
    {
      "metadata": {
        "id": "SL_kljoGgU-Y",
        "colab_type": "code",
        "colab": {
          "base_uri": "https://localhost:8080/",
          "height": 374
        },
        "outputId": "015e5d2c-e5d1-46f6-859f-04712760eff4"
      },
      "cell_type": "code",
      "source": [
        "import nltk\n",
        "import re\n",
        "import string\n",
        "nltk.download('punkt')\n",
        "nltk.download('stopwords')\n",
        "from nltk.tokenize import word_tokenize\n",
        "from nltk.tokenize import RegexpTokenizer\n",
        "from nltk.corpus import stopwords\n",
        "from nltk.stem import PorterStemmer\n",
        "\n",
        "stop_words = set(stopwords.words('english'))\n",
        "snow = nltk.stem.LancasterStemmer('english')\n",
        "ps = PorterStemmer() \n",
        "tokenizer = RegexpTokenizer(r'\\w+')\n",
        "\n",
        "corpus = [] \n",
        "\n",
        "for sentence in test_dataset1['caption'] :\n",
        "  # column : \"Review\", row ith \n",
        "  review = re.sub('[^a-zA-Z]', ' ', sentence) \n",
        "  \n",
        "  # convert all cases to lower cases \n",
        "  review = review.lower()  \n",
        "  \n",
        "  # split to array(default delimiter is \" \") \n",
        "  review = tokenizer.tokenize(review)\n",
        " \n",
        "  \n",
        "  review = [ps.stem(word) for word in review if not word in stop_words] \n",
        "  \n",
        "  # rejoin all string array elements \n",
        "    # to create back into a string \n",
        "  review = ' '.join(review)\n",
        "  \n",
        "  \n",
        " # append each string to create \n",
        "    # array of clean text  \n",
        "  corpus.append(review) \n",
        "  \n",
        "  \n",
        "test_dataset1['corpus']= corpus\n",
        "test_dataset1.head(5)"
      ],
      "execution_count": 278,
      "outputs": [
        {
          "output_type": "stream",
          "text": [
            "[nltk_data] Downloading package punkt to /root/nltk_data...\n",
            "[nltk_data]   Package punkt is already up-to-date!\n",
            "[nltk_data] Downloading package stopwords to /root/nltk_data...\n",
            "[nltk_data]   Package stopwords is already up-to-date!\n"
          ],
          "name": "stdout"
        },
        {
          "output_type": "execute_result",
          "data": {
            "text/html": [
              "<div>\n",
              "<style scoped>\n",
              "    .dataframe tbody tr th:only-of-type {\n",
              "        vertical-align: middle;\n",
              "    }\n",
              "\n",
              "    .dataframe tbody tr th {\n",
              "        vertical-align: top;\n",
              "    }\n",
              "\n",
              "    .dataframe thead th {\n",
              "        text-align: right;\n",
              "    }\n",
              "</style>\n",
              "<table border=\"1\" class=\"dataframe\">\n",
              "  <thead>\n",
              "    <tr style=\"text-align: right;\">\n",
              "      <th></th>\n",
              "      <th>video</th>\n",
              "      <th>short-term_memorability</th>\n",
              "      <th>nb_short-term_annotations</th>\n",
              "      <th>long-term_memorability</th>\n",
              "      <th>nb_long-term_annotations</th>\n",
              "      <th>caption</th>\n",
              "      <th>corpus</th>\n",
              "    </tr>\n",
              "  </thead>\n",
              "  <tbody>\n",
              "    <tr>\n",
              "      <th>0</th>\n",
              "      <td>video7494.webm</td>\n",
              "      <td>NaN</td>\n",
              "      <td>33</td>\n",
              "      <td>NaN</td>\n",
              "      <td>12</td>\n",
              "      <td>green-jeep-struggling-to-drive-over-huge-rocks</td>\n",
              "      <td>green jeep struggl drive huge rock</td>\n",
              "    </tr>\n",
              "    <tr>\n",
              "      <th>1</th>\n",
              "      <td>video7495.webm</td>\n",
              "      <td>NaN</td>\n",
              "      <td>34</td>\n",
              "      <td>NaN</td>\n",
              "      <td>10</td>\n",
              "      <td>hiking-woman-tourist-is-walking-forward-in-mou...</td>\n",
              "      <td>hike woman tourist walk forward mountain sunse...</td>\n",
              "    </tr>\n",
              "    <tr>\n",
              "      <th>2</th>\n",
              "      <td>video7496.webm</td>\n",
              "      <td>NaN</td>\n",
              "      <td>32</td>\n",
              "      <td>NaN</td>\n",
              "      <td>13</td>\n",
              "      <td>close-up-of-african-american-doctors-hands-usi...</td>\n",
              "      <td>close african american doctor hand use sphygmo...</td>\n",
              "    </tr>\n",
              "    <tr>\n",
              "      <th>3</th>\n",
              "      <td>video7497.webm</td>\n",
              "      <td>NaN</td>\n",
              "      <td>33</td>\n",
              "      <td>NaN</td>\n",
              "      <td>10</td>\n",
              "      <td>slow-motion-of-a-man-using-treadmill-in-the-gy...</td>\n",
              "      <td>slow motion man use treadmil gym regular physi...</td>\n",
              "    </tr>\n",
              "    <tr>\n",
              "      <th>4</th>\n",
              "      <td>video7498.webm</td>\n",
              "      <td>NaN</td>\n",
              "      <td>33</td>\n",
              "      <td>NaN</td>\n",
              "      <td>10</td>\n",
              "      <td>slow-motion-of-photographer-in-national-park</td>\n",
              "      <td>slow motion photograph nation park</td>\n",
              "    </tr>\n",
              "  </tbody>\n",
              "</table>\n",
              "</div>"
            ],
            "text/plain": [
              "            video  short-term_memorability  nb_short-term_annotations  \\\n",
              "0  video7494.webm                      NaN                         33   \n",
              "1  video7495.webm                      NaN                         34   \n",
              "2  video7496.webm                      NaN                         32   \n",
              "3  video7497.webm                      NaN                         33   \n",
              "4  video7498.webm                      NaN                         33   \n",
              "\n",
              "   long-term_memorability  nb_long-term_annotations  \\\n",
              "0                     NaN                        12   \n",
              "1                     NaN                        10   \n",
              "2                     NaN                        13   \n",
              "3                     NaN                        10   \n",
              "4                     NaN                        10   \n",
              "\n",
              "                                             caption  \\\n",
              "0     green-jeep-struggling-to-drive-over-huge-rocks   \n",
              "1  hiking-woman-tourist-is-walking-forward-in-mou...   \n",
              "2  close-up-of-african-american-doctors-hands-usi...   \n",
              "3  slow-motion-of-a-man-using-treadmill-in-the-gy...   \n",
              "4       slow-motion-of-photographer-in-national-park   \n",
              "\n",
              "                                              corpus  \n",
              "0                 green jeep struggl drive huge rock  \n",
              "1  hike woman tourist walk forward mountain sunse...  \n",
              "2  close african american doctor hand use sphygmo...  \n",
              "3  slow motion man use treadmil gym regular physi...  \n",
              "4                 slow motion photograph nation park  "
            ]
          },
          "metadata": {
            "tags": []
          },
          "execution_count": 278
        }
      ]
    },
    {
      "metadata": {
        "colab_type": "text",
        "id": "EQPC26f5gztC"
      },
      "cell_type": "markdown",
      "source": [
        "###Using TfidfVectorizer and ngram(unigram & bigram) to convert string to numeric values to feed to the model"
      ]
    },
    {
      "metadata": {
        "colab_type": "code",
        "id": "bnc75PEDgzta",
        "colab": {}
      },
      "cell_type": "code",
      "source": [
        "from sklearn.feature_extraction.text import TfidfVectorizer\n",
        "\n",
        "vectorizerfinal = TfidfVectorizer(max_features=1500, ngram_range=(1,2) )\n",
        "vectorizerfinal.fit(dataset1['corpus'])\n",
        "\n",
        "final_caption_train=vectorizerfinal.transform(dataset1['corpus'])\n",
        "final_caption_test=vectorizerfinal.transform(test_dataset1['corpus'])"
      ],
      "execution_count": 0,
      "outputs": []
    },
    {
      "metadata": {
        "id": "rAGU08zOhyH_",
        "colab_type": "text"
      },
      "cell_type": "markdown",
      "source": [
        "##MODEL 1 : Caption\n",
        "###Short Term - Bayesian Ridge\n",
        "###Long Term - Bayesian Ridge\n",
        "\n"
      ]
    },
    {
      "metadata": {
        "id": "Ilayxe4VawXT",
        "colab_type": "code",
        "colab": {
          "base_uri": "https://localhost:8080/",
          "height": 34
        },
        "outputId": "03865f10-e1c7-4a0a-8a78-c816a155d7a4"
      },
      "cell_type": "code",
      "source": [
        "from sklearn.linear_model import BayesianRidge\n",
        "\n",
        "final_model_caption_short_bayesian = BayesianRidge ()\n",
        "final_model_caption_short_bayesian.fit(final_caption_train.toarray(), dataset1['short-term_memorability'])\n",
        "\n",
        "final_output_caption_short_bayesian=final_model_caption_short_bayesian.predict(final_caption_test.toarray())\n",
        "\n",
        "final_output_caption_short_bayesian[1:5]\n",
        "\n",
        "\n",
        "\n",
        "\n",
        "\n",
        "\n",
        "from sklearn.linear_model import BayesianRidge\n",
        "\n",
        "final_model_caption_long_bayesian = BayesianRidge ()\n",
        "final_model_caption_long_bayesian.fit(final_caption_train.toarray(), dataset1['long-term_memorability'])\n",
        "\n",
        "final_output_caption_long_bayesian=final_model_caption_long_bayesian.predict(final_caption_test.toarray())\n",
        "\n",
        "final_output_caption_long_bayesian[1:5]\n"
      ],
      "execution_count": 280,
      "outputs": [
        {
          "output_type": "execute_result",
          "data": {
            "text/plain": [
              "array([0.7404419 , 0.83501417, 0.78076236, 0.73316659])"
            ]
          },
          "metadata": {
            "tags": []
          },
          "execution_count": 280
        }
      ]
    },
    {
      "metadata": {
        "id": "ZyDt44ayrcXM",
        "colab_type": "code",
        "colab": {}
      },
      "cell_type": "code",
      "source": [
        "output_dataframe = test_dataset1"
      ],
      "execution_count": 0,
      "outputs": []
    },
    {
      "metadata": {
        "id": "zemQ6YlErsFE",
        "colab_type": "code",
        "colab": {}
      },
      "cell_type": "code",
      "source": [
        "output_dataframe['caption_short_output'] = final_output_caption_short_bayesian\n",
        "output_dataframe['caption_long_output'] = final_output_caption_long_bayesian\n"
      ],
      "execution_count": 0,
      "outputs": []
    },
    {
      "metadata": {
        "id": "vLiR-O7AsIAk",
        "colab_type": "code",
        "colab": {
          "base_uri": "https://localhost:8080/",
          "height": 632
        },
        "outputId": "94931d94-5d20-435a-ffb3-8ed877895da0"
      },
      "cell_type": "code",
      "source": [
        "output_dataframe.head(5)"
      ],
      "execution_count": 283,
      "outputs": [
        {
          "output_type": "execute_result",
          "data": {
            "text/html": [
              "<div>\n",
              "<style scoped>\n",
              "    .dataframe tbody tr th:only-of-type {\n",
              "        vertical-align: middle;\n",
              "    }\n",
              "\n",
              "    .dataframe tbody tr th {\n",
              "        vertical-align: top;\n",
              "    }\n",
              "\n",
              "    .dataframe thead th {\n",
              "        text-align: right;\n",
              "    }\n",
              "</style>\n",
              "<table border=\"1\" class=\"dataframe\">\n",
              "  <thead>\n",
              "    <tr style=\"text-align: right;\">\n",
              "      <th></th>\n",
              "      <th>video</th>\n",
              "      <th>short-term_memorability</th>\n",
              "      <th>nb_short-term_annotations</th>\n",
              "      <th>long-term_memorability</th>\n",
              "      <th>nb_long-term_annotations</th>\n",
              "      <th>caption</th>\n",
              "      <th>corpus</th>\n",
              "      <th>caption_short_output</th>\n",
              "      <th>caption_long_output</th>\n",
              "    </tr>\n",
              "  </thead>\n",
              "  <tbody>\n",
              "    <tr>\n",
              "      <th>0</th>\n",
              "      <td>video7494.webm</td>\n",
              "      <td>NaN</td>\n",
              "      <td>33</td>\n",
              "      <td>NaN</td>\n",
              "      <td>12</td>\n",
              "      <td>green-jeep-struggling-to-drive-over-huge-rocks</td>\n",
              "      <td>green jeep struggl drive huge rock</td>\n",
              "      <td>0.848973</td>\n",
              "      <td>0.748902</td>\n",
              "    </tr>\n",
              "    <tr>\n",
              "      <th>1</th>\n",
              "      <td>video7495.webm</td>\n",
              "      <td>NaN</td>\n",
              "      <td>34</td>\n",
              "      <td>NaN</td>\n",
              "      <td>10</td>\n",
              "      <td>hiking-woman-tourist-is-walking-forward-in-mou...</td>\n",
              "      <td>hike woman tourist walk forward mountain sunse...</td>\n",
              "      <td>0.764251</td>\n",
              "      <td>0.740442</td>\n",
              "    </tr>\n",
              "    <tr>\n",
              "      <th>2</th>\n",
              "      <td>video7496.webm</td>\n",
              "      <td>NaN</td>\n",
              "      <td>32</td>\n",
              "      <td>NaN</td>\n",
              "      <td>13</td>\n",
              "      <td>close-up-of-african-american-doctors-hands-usi...</td>\n",
              "      <td>close african american doctor hand use sphygmo...</td>\n",
              "      <td>0.921353</td>\n",
              "      <td>0.835014</td>\n",
              "    </tr>\n",
              "    <tr>\n",
              "      <th>3</th>\n",
              "      <td>video7497.webm</td>\n",
              "      <td>NaN</td>\n",
              "      <td>33</td>\n",
              "      <td>NaN</td>\n",
              "      <td>10</td>\n",
              "      <td>slow-motion-of-a-man-using-treadmill-in-the-gy...</td>\n",
              "      <td>slow motion man use treadmil gym regular physi...</td>\n",
              "      <td>0.885972</td>\n",
              "      <td>0.780762</td>\n",
              "    </tr>\n",
              "    <tr>\n",
              "      <th>4</th>\n",
              "      <td>video7498.webm</td>\n",
              "      <td>NaN</td>\n",
              "      <td>33</td>\n",
              "      <td>NaN</td>\n",
              "      <td>10</td>\n",
              "      <td>slow-motion-of-photographer-in-national-park</td>\n",
              "      <td>slow motion photograph nation park</td>\n",
              "      <td>0.844159</td>\n",
              "      <td>0.733167</td>\n",
              "    </tr>\n",
              "  </tbody>\n",
              "</table>\n",
              "</div>"
            ],
            "text/plain": [
              "            video  short-term_memorability  nb_short-term_annotations  \\\n",
              "0  video7494.webm                      NaN                         33   \n",
              "1  video7495.webm                      NaN                         34   \n",
              "2  video7496.webm                      NaN                         32   \n",
              "3  video7497.webm                      NaN                         33   \n",
              "4  video7498.webm                      NaN                         33   \n",
              "\n",
              "   long-term_memorability  nb_long-term_annotations  \\\n",
              "0                     NaN                        12   \n",
              "1                     NaN                        10   \n",
              "2                     NaN                        13   \n",
              "3                     NaN                        10   \n",
              "4                     NaN                        10   \n",
              "\n",
              "                                             caption  \\\n",
              "0     green-jeep-struggling-to-drive-over-huge-rocks   \n",
              "1  hiking-woman-tourist-is-walking-forward-in-mou...   \n",
              "2  close-up-of-african-american-doctors-hands-usi...   \n",
              "3  slow-motion-of-a-man-using-treadmill-in-the-gy...   \n",
              "4       slow-motion-of-photographer-in-national-park   \n",
              "\n",
              "                                              corpus  caption_short_output  \\\n",
              "0                 green jeep struggl drive huge rock              0.848973   \n",
              "1  hike woman tourist walk forward mountain sunse...              0.764251   \n",
              "2  close african american doctor hand use sphygmo...              0.921353   \n",
              "3  slow motion man use treadmil gym regular physi...              0.885972   \n",
              "4                 slow motion photograph nation park              0.844159   \n",
              "\n",
              "   caption_long_output  \n",
              "0             0.748902  \n",
              "1             0.740442  \n",
              "2             0.835014  \n",
              "3             0.780762  \n",
              "4             0.733167  "
            ]
          },
          "metadata": {
            "tags": []
          },
          "execution_count": 283
        }
      ]
    },
    {
      "metadata": {
        "colab_type": "text",
        "id": "QQkLM_1DjsXb"
      },
      "cell_type": "markdown",
      "source": [
        "##MODEL 2 : Aesthetic\n",
        "###Short Term - Bayesian Ridge\n",
        "###Long Term - Linear regression"
      ]
    },
    {
      "metadata": {
        "id": "A_fgVVT9j_q9",
        "colab_type": "text"
      },
      "cell_type": "markdown",
      "source": [
        "###load test aesthetic features"
      ]
    },
    {
      "metadata": {
        "id": "97JwTl8JkOfg",
        "colab_type": "code",
        "colab": {}
      },
      "cell_type": "code",
      "source": [
        "path=\"/content/drive/My Drive/CA684_Assignment_Data/test-set/aesthetic_vis_features_test/median/\"\n",
        "files = []\n",
        "# r=root, d=directories, f = files\n",
        "for r, d, f in os.walk(path):\n",
        "   for file in f:\n",
        "       if '.txt' in file:\n",
        "           files.append(os.path.join(r, file))"
      ],
      "execution_count": 0,
      "outputs": []
    },
    {
      "metadata": {
        "id": "ZryiHToLlhPO",
        "colab_type": "code",
        "colab": {}
      },
      "cell_type": "code",
      "source": [
        "def read_features_from_file(dataframe, filename):\n",
        "  dataframe_1 = pd.read_csv(filename, header=None)\n",
        "  dataframe_1['video'] = filename[filename.find('video'):filename.find('.txt')] + '.webm'\n",
        "  dataframe = dataframe.append(dataframe_1, ignore_index=True)\n",
        "  return dataframe"
      ],
      "execution_count": 0,
      "outputs": []
    },
    {
      "metadata": {
        "id": "1YXvqzKylH09",
        "colab_type": "code",
        "colab": {}
      },
      "cell_type": "code",
      "source": [
        "dataframe_aesthetic_test = pd.DataFrame()\n",
        "for filename in files:\n",
        "  dataframe_aesthetic_test = read_features_from_file(dataframe_aesthetic_test, filename)"
      ],
      "execution_count": 0,
      "outputs": []
    },
    {
      "metadata": {
        "id": "wbF3V2vhlH6X",
        "colab_type": "code",
        "colab": {
          "base_uri": "https://localhost:8080/",
          "height": 253
        },
        "outputId": "07b8523d-4a0d-43ec-93ab-c404e1c16ac9"
      },
      "cell_type": "code",
      "source": [
        "dataframe_aesthetic_test.head(5)"
      ],
      "execution_count": 287,
      "outputs": [
        {
          "output_type": "execute_result",
          "data": {
            "text/html": [
              "<div>\n",
              "<style scoped>\n",
              "    .dataframe tbody tr th:only-of-type {\n",
              "        vertical-align: middle;\n",
              "    }\n",
              "\n",
              "    .dataframe tbody tr th {\n",
              "        vertical-align: top;\n",
              "    }\n",
              "\n",
              "    .dataframe thead th {\n",
              "        text-align: right;\n",
              "    }\n",
              "</style>\n",
              "<table border=\"1\" class=\"dataframe\">\n",
              "  <thead>\n",
              "    <tr style=\"text-align: right;\">\n",
              "      <th></th>\n",
              "      <th>0</th>\n",
              "      <th>1</th>\n",
              "      <th>2</th>\n",
              "      <th>3</th>\n",
              "      <th>4</th>\n",
              "      <th>5</th>\n",
              "      <th>6</th>\n",
              "      <th>7</th>\n",
              "      <th>8</th>\n",
              "      <th>9</th>\n",
              "      <th>...</th>\n",
              "      <th>100</th>\n",
              "      <th>101</th>\n",
              "      <th>102</th>\n",
              "      <th>103</th>\n",
              "      <th>104</th>\n",
              "      <th>105</th>\n",
              "      <th>106</th>\n",
              "      <th>107</th>\n",
              "      <th>108</th>\n",
              "      <th>video</th>\n",
              "    </tr>\n",
              "  </thead>\n",
              "  <tbody>\n",
              "    <tr>\n",
              "      <th>0</th>\n",
              "      <td>0.461159</td>\n",
              "      <td>0.180321</td>\n",
              "      <td>0.609216</td>\n",
              "      <td>0.192552</td>\n",
              "      <td>0.573822</td>\n",
              "      <td>0.299892</td>\n",
              "      <td>48.416986</td>\n",
              "      <td>0.575000</td>\n",
              "      <td>0.021221</td>\n",
              "      <td>3.0</td>\n",
              "      <td>...</td>\n",
              "      <td>-0.000000</td>\n",
              "      <td>0.842840</td>\n",
              "      <td>0.456026</td>\n",
              "      <td>0.381484</td>\n",
              "      <td>1.698315</td>\n",
              "      <td>0.0</td>\n",
              "      <td>0.165206</td>\n",
              "      <td>0.322674</td>\n",
              "      <td>0.415184</td>\n",
              "      <td>video8759.webm</td>\n",
              "    </tr>\n",
              "    <tr>\n",
              "      <th>1</th>\n",
              "      <td>0.547819</td>\n",
              "      <td>0.299441</td>\n",
              "      <td>0.832418</td>\n",
              "      <td>0.574203</td>\n",
              "      <td>0.706239</td>\n",
              "      <td>0.548596</td>\n",
              "      <td>53.938527</td>\n",
              "      <td>0.584967</td>\n",
              "      <td>0.015614</td>\n",
              "      <td>1.0</td>\n",
              "      <td>...</td>\n",
              "      <td>-0.000001</td>\n",
              "      <td>0.833881</td>\n",
              "      <td>0.250386</td>\n",
              "      <td>0.297984</td>\n",
              "      <td>1.250002</td>\n",
              "      <td>0.0</td>\n",
              "      <td>0.013718</td>\n",
              "      <td>0.229135</td>\n",
              "      <td>0.027516</td>\n",
              "      <td>video8762.webm</td>\n",
              "    </tr>\n",
              "    <tr>\n",
              "      <th>2</th>\n",
              "      <td>0.276918</td>\n",
              "      <td>0.121264</td>\n",
              "      <td>0.649454</td>\n",
              "      <td>0.136974</td>\n",
              "      <td>0.612684</td>\n",
              "      <td>0.338838</td>\n",
              "      <td>51.048896</td>\n",
              "      <td>0.135802</td>\n",
              "      <td>0.006227</td>\n",
              "      <td>2.0</td>\n",
              "      <td>...</td>\n",
              "      <td>0.000003</td>\n",
              "      <td>0.740355</td>\n",
              "      <td>0.338121</td>\n",
              "      <td>0.234920</td>\n",
              "      <td>1.177828</td>\n",
              "      <td>0.0</td>\n",
              "      <td>0.378273</td>\n",
              "      <td>0.315327</td>\n",
              "      <td>0.393496</td>\n",
              "      <td>video8758.webm</td>\n",
              "    </tr>\n",
              "    <tr>\n",
              "      <th>3</th>\n",
              "      <td>0.195197</td>\n",
              "      <td>0.341496</td>\n",
              "      <td>0.413990</td>\n",
              "      <td>0.237250</td>\n",
              "      <td>0.339475</td>\n",
              "      <td>0.360236</td>\n",
              "      <td>42.808806</td>\n",
              "      <td>0.592409</td>\n",
              "      <td>0.023402</td>\n",
              "      <td>3.0</td>\n",
              "      <td>...</td>\n",
              "      <td>0.000324</td>\n",
              "      <td>0.000000</td>\n",
              "      <td>0.244494</td>\n",
              "      <td>0.094539</td>\n",
              "      <td>0.948351</td>\n",
              "      <td>0.0</td>\n",
              "      <td>0.154096</td>\n",
              "      <td>-0.560893</td>\n",
              "      <td>0.370832</td>\n",
              "      <td>video8768.webm</td>\n",
              "    </tr>\n",
              "    <tr>\n",
              "      <th>4</th>\n",
              "      <td>0.411114</td>\n",
              "      <td>0.237132</td>\n",
              "      <td>0.528279</td>\n",
              "      <td>0.207872</td>\n",
              "      <td>0.481215</td>\n",
              "      <td>0.205192</td>\n",
              "      <td>46.094116</td>\n",
              "      <td>0.106061</td>\n",
              "      <td>0.044607</td>\n",
              "      <td>6.0</td>\n",
              "      <td>...</td>\n",
              "      <td>0.000014</td>\n",
              "      <td>0.039444</td>\n",
              "      <td>0.413060</td>\n",
              "      <td>0.539532</td>\n",
              "      <td>1.561741</td>\n",
              "      <td>0.0</td>\n",
              "      <td>0.616250</td>\n",
              "      <td>0.480776</td>\n",
              "      <td>0.240629</td>\n",
              "      <td>video8770.webm</td>\n",
              "    </tr>\n",
              "  </tbody>\n",
              "</table>\n",
              "<p>5 rows × 110 columns</p>\n",
              "</div>"
            ],
            "text/plain": [
              "          0         1         2         3         4         5          6  \\\n",
              "0  0.461159  0.180321  0.609216  0.192552  0.573822  0.299892  48.416986   \n",
              "1  0.547819  0.299441  0.832418  0.574203  0.706239  0.548596  53.938527   \n",
              "2  0.276918  0.121264  0.649454  0.136974  0.612684  0.338838  51.048896   \n",
              "3  0.195197  0.341496  0.413990  0.237250  0.339475  0.360236  42.808806   \n",
              "4  0.411114  0.237132  0.528279  0.207872  0.481215  0.205192  46.094116   \n",
              "\n",
              "          7         8    9  ...       100       101       102       103  \\\n",
              "0  0.575000  0.021221  3.0  ... -0.000000  0.842840  0.456026  0.381484   \n",
              "1  0.584967  0.015614  1.0  ... -0.000001  0.833881  0.250386  0.297984   \n",
              "2  0.135802  0.006227  2.0  ...  0.000003  0.740355  0.338121  0.234920   \n",
              "3  0.592409  0.023402  3.0  ...  0.000324  0.000000  0.244494  0.094539   \n",
              "4  0.106061  0.044607  6.0  ...  0.000014  0.039444  0.413060  0.539532   \n",
              "\n",
              "        104  105       106       107       108           video  \n",
              "0  1.698315  0.0  0.165206  0.322674  0.415184  video8759.webm  \n",
              "1  1.250002  0.0  0.013718  0.229135  0.027516  video8762.webm  \n",
              "2  1.177828  0.0  0.378273  0.315327  0.393496  video8758.webm  \n",
              "3  0.948351  0.0  0.154096 -0.560893  0.370832  video8768.webm  \n",
              "4  1.561741  0.0  0.616250  0.480776  0.240629  video8770.webm  \n",
              "\n",
              "[5 rows x 110 columns]"
            ]
          },
          "metadata": {
            "tags": []
          },
          "execution_count": 287
        }
      ]
    },
    {
      "metadata": {
        "id": "jVdGZaogkOiq",
        "colab_type": "code",
        "colab": {}
      },
      "cell_type": "code",
      "source": [
        "dataframe_aesthetic_test.to_csv('test_aesthetic.csv')"
      ],
      "execution_count": 0,
      "outputs": []
    },
    {
      "metadata": {
        "id": "Hn-7hur3j-_0",
        "colab_type": "code",
        "colab": {}
      },
      "cell_type": "code",
      "source": [
        "test_aesthetic_path = '/content/drive/My Drive/test_aesthetic.csv'\n",
        "test_aesthetic=pd.read_csv(aesthetic_path,index_col=0)"
      ],
      "execution_count": 0,
      "outputs": []
    },
    {
      "metadata": {
        "id": "EAgkKmmUstvb",
        "colab_type": "code",
        "colab": {
          "base_uri": "https://localhost:8080/",
          "height": 270
        },
        "outputId": "94aba59a-28a6-4a2b-80f0-284c90e65a68"
      },
      "cell_type": "code",
      "source": [
        "test_dataset2 = pd.merge(test_groundTruth,dataframe_aesthetic_test, on =\"video\")\n",
        "test_dataset2.head(5)"
      ],
      "execution_count": 290,
      "outputs": [
        {
          "output_type": "execute_result",
          "data": {
            "text/html": [
              "<div>\n",
              "<style scoped>\n",
              "    .dataframe tbody tr th:only-of-type {\n",
              "        vertical-align: middle;\n",
              "    }\n",
              "\n",
              "    .dataframe tbody tr th {\n",
              "        vertical-align: top;\n",
              "    }\n",
              "\n",
              "    .dataframe thead th {\n",
              "        text-align: right;\n",
              "    }\n",
              "</style>\n",
              "<table border=\"1\" class=\"dataframe\">\n",
              "  <thead>\n",
              "    <tr style=\"text-align: right;\">\n",
              "      <th></th>\n",
              "      <th>video</th>\n",
              "      <th>short-term_memorability</th>\n",
              "      <th>nb_short-term_annotations</th>\n",
              "      <th>long-term_memorability</th>\n",
              "      <th>nb_long-term_annotations</th>\n",
              "      <th>0</th>\n",
              "      <th>1</th>\n",
              "      <th>2</th>\n",
              "      <th>3</th>\n",
              "      <th>4</th>\n",
              "      <th>...</th>\n",
              "      <th>99</th>\n",
              "      <th>100</th>\n",
              "      <th>101</th>\n",
              "      <th>102</th>\n",
              "      <th>103</th>\n",
              "      <th>104</th>\n",
              "      <th>105</th>\n",
              "      <th>106</th>\n",
              "      <th>107</th>\n",
              "      <th>108</th>\n",
              "    </tr>\n",
              "  </thead>\n",
              "  <tbody>\n",
              "    <tr>\n",
              "      <th>0</th>\n",
              "      <td>video7494.webm</td>\n",
              "      <td>NaN</td>\n",
              "      <td>33</td>\n",
              "      <td>NaN</td>\n",
              "      <td>12</td>\n",
              "      <td>0.151128</td>\n",
              "      <td>0.428798</td>\n",
              "      <td>0.388939</td>\n",
              "      <td>0.319523</td>\n",
              "      <td>0.319127</td>\n",
              "      <td>...</td>\n",
              "      <td>-0.002096</td>\n",
              "      <td>0.000004</td>\n",
              "      <td>0.000000</td>\n",
              "      <td>0.181365</td>\n",
              "      <td>0.260591</td>\n",
              "      <td>1.343774</td>\n",
              "      <td>0.0</td>\n",
              "      <td>-0.051514</td>\n",
              "      <td>-0.312289</td>\n",
              "      <td>-0.037960</td>\n",
              "    </tr>\n",
              "    <tr>\n",
              "      <th>1</th>\n",
              "      <td>video7495.webm</td>\n",
              "      <td>NaN</td>\n",
              "      <td>34</td>\n",
              "      <td>NaN</td>\n",
              "      <td>10</td>\n",
              "      <td>0.351501</td>\n",
              "      <td>0.387280</td>\n",
              "      <td>0.524060</td>\n",
              "      <td>0.410809</td>\n",
              "      <td>0.429068</td>\n",
              "      <td>...</td>\n",
              "      <td>-0.000263</td>\n",
              "      <td>0.000056</td>\n",
              "      <td>0.292160</td>\n",
              "      <td>0.451259</td>\n",
              "      <td>0.296964</td>\n",
              "      <td>1.298557</td>\n",
              "      <td>0.0</td>\n",
              "      <td>0.587843</td>\n",
              "      <td>0.664178</td>\n",
              "      <td>1.331725</td>\n",
              "    </tr>\n",
              "    <tr>\n",
              "      <th>2</th>\n",
              "      <td>video7496.webm</td>\n",
              "      <td>NaN</td>\n",
              "      <td>32</td>\n",
              "      <td>NaN</td>\n",
              "      <td>13</td>\n",
              "      <td>0.126592</td>\n",
              "      <td>0.225055</td>\n",
              "      <td>0.479929</td>\n",
              "      <td>0.172715</td>\n",
              "      <td>0.432944</td>\n",
              "      <td>...</td>\n",
              "      <td>0.004709</td>\n",
              "      <td>0.000142</td>\n",
              "      <td>0.013248</td>\n",
              "      <td>0.079113</td>\n",
              "      <td>0.322459</td>\n",
              "      <td>1.115463</td>\n",
              "      <td>0.0</td>\n",
              "      <td>0.042739</td>\n",
              "      <td>0.680311</td>\n",
              "      <td>0.905298</td>\n",
              "    </tr>\n",
              "    <tr>\n",
              "      <th>3</th>\n",
              "      <td>video7497.webm</td>\n",
              "      <td>NaN</td>\n",
              "      <td>33</td>\n",
              "      <td>NaN</td>\n",
              "      <td>10</td>\n",
              "      <td>0.218887</td>\n",
              "      <td>0.337801</td>\n",
              "      <td>0.633643</td>\n",
              "      <td>0.245733</td>\n",
              "      <td>0.529765</td>\n",
              "      <td>...</td>\n",
              "      <td>0.000135</td>\n",
              "      <td>0.000000</td>\n",
              "      <td>0.000000</td>\n",
              "      <td>0.497551</td>\n",
              "      <td>0.308292</td>\n",
              "      <td>2.034225</td>\n",
              "      <td>0.0</td>\n",
              "      <td>0.557117</td>\n",
              "      <td>-0.055591</td>\n",
              "      <td>1.013607</td>\n",
              "    </tr>\n",
              "    <tr>\n",
              "      <th>4</th>\n",
              "      <td>video7498.webm</td>\n",
              "      <td>NaN</td>\n",
              "      <td>33</td>\n",
              "      <td>NaN</td>\n",
              "      <td>10</td>\n",
              "      <td>0.438498</td>\n",
              "      <td>0.290777</td>\n",
              "      <td>0.474659</td>\n",
              "      <td>0.267142</td>\n",
              "      <td>0.403033</td>\n",
              "      <td>...</td>\n",
              "      <td>-0.000766</td>\n",
              "      <td>0.000066</td>\n",
              "      <td>0.453850</td>\n",
              "      <td>0.470586</td>\n",
              "      <td>0.266092</td>\n",
              "      <td>1.642591</td>\n",
              "      <td>0.0</td>\n",
              "      <td>0.037238</td>\n",
              "      <td>0.416894</td>\n",
              "      <td>0.419495</td>\n",
              "    </tr>\n",
              "  </tbody>\n",
              "</table>\n",
              "<p>5 rows × 114 columns</p>\n",
              "</div>"
            ],
            "text/plain": [
              "            video  short-term_memorability  nb_short-term_annotations  \\\n",
              "0  video7494.webm                      NaN                         33   \n",
              "1  video7495.webm                      NaN                         34   \n",
              "2  video7496.webm                      NaN                         32   \n",
              "3  video7497.webm                      NaN                         33   \n",
              "4  video7498.webm                      NaN                         33   \n",
              "\n",
              "   long-term_memorability  nb_long-term_annotations         0         1  \\\n",
              "0                     NaN                        12  0.151128  0.428798   \n",
              "1                     NaN                        10  0.351501  0.387280   \n",
              "2                     NaN                        13  0.126592  0.225055   \n",
              "3                     NaN                        10  0.218887  0.337801   \n",
              "4                     NaN                        10  0.438498  0.290777   \n",
              "\n",
              "          2         3         4  ...        99       100       101       102  \\\n",
              "0  0.388939  0.319523  0.319127  ... -0.002096  0.000004  0.000000  0.181365   \n",
              "1  0.524060  0.410809  0.429068  ... -0.000263  0.000056  0.292160  0.451259   \n",
              "2  0.479929  0.172715  0.432944  ...  0.004709  0.000142  0.013248  0.079113   \n",
              "3  0.633643  0.245733  0.529765  ...  0.000135  0.000000  0.000000  0.497551   \n",
              "4  0.474659  0.267142  0.403033  ... -0.000766  0.000066  0.453850  0.470586   \n",
              "\n",
              "        103       104  105       106       107       108  \n",
              "0  0.260591  1.343774  0.0 -0.051514 -0.312289 -0.037960  \n",
              "1  0.296964  1.298557  0.0  0.587843  0.664178  1.331725  \n",
              "2  0.322459  1.115463  0.0  0.042739  0.680311  0.905298  \n",
              "3  0.308292  2.034225  0.0  0.557117 -0.055591  1.013607  \n",
              "4  0.266092  1.642591  0.0  0.037238  0.416894  0.419495  \n",
              "\n",
              "[5 rows x 114 columns]"
            ]
          },
          "metadata": {
            "tags": []
          },
          "execution_count": 290
        }
      ]
    },
    {
      "metadata": {
        "colab_type": "code",
        "id": "iDkXAEFejsXf",
        "colab": {}
      },
      "cell_type": "code",
      "source": [
        "from sklearn.linear_model import BayesianRidge\n",
        "\n",
        "final_model_aesthetic_short_bayesian= BayesianRidge ()\n",
        "final_model_aesthetic_short_bayesian.fit(dataset2.drop(['video','short-term_memorability','nb_short-term_annotations','long-term_memorability','nb_long-term_annotations'], axis=1), dataset2['short-term_memorability'])\n",
        "\n",
        "final_output_aesthetic_short_bayesian=final_model_aesthetic_short_bayesian.predict(test_dataset2.drop(['video','short-term_memorability','nb_short-term_annotations','long-term_memorability','nb_long-term_annotations'], axis=1))\n",
        "\n",
        "\n",
        "\n",
        "\n",
        "from sklearn.linear_model import LinearRegression \n",
        "final_model_aesthetic_long_linearReg= LinearRegression ()\n",
        "final_model_aesthetic_long_linearReg.fit(dataset2.drop(['video','short-term_memorability','nb_short-term_annotations','long-term_memorability','nb_long-term_annotations'], axis=1), dataset2['long-term_memorability'])\n",
        "\n",
        "final_output_aesthetic_long_linearReg=final_model_aesthetic_long_linearReg.predict(test_dataset2.drop(['video','short-term_memorability','nb_short-term_annotations','long-term_memorability','nb_long-term_annotations'], axis=1))\n"
      ],
      "execution_count": 0,
      "outputs": []
    },
    {
      "metadata": {
        "id": "klnYdyPdwh6j",
        "colab_type": "code",
        "colab": {
          "base_uri": "https://localhost:8080/",
          "height": 632
        },
        "outputId": "fa4a0b60-0201-4900-fa0f-8f586313cc5a"
      },
      "cell_type": "code",
      "source": [
        "output_dataframe['aesthetic_short_output'] = final_output_aesthetic_short_bayesian\n",
        "output_dataframe['aesthetic_long_output'] = final_output_aesthetic_long_linearReg\n",
        "\n",
        "output_dataframe.head(5)"
      ],
      "execution_count": 292,
      "outputs": [
        {
          "output_type": "execute_result",
          "data": {
            "text/html": [
              "<div>\n",
              "<style scoped>\n",
              "    .dataframe tbody tr th:only-of-type {\n",
              "        vertical-align: middle;\n",
              "    }\n",
              "\n",
              "    .dataframe tbody tr th {\n",
              "        vertical-align: top;\n",
              "    }\n",
              "\n",
              "    .dataframe thead th {\n",
              "        text-align: right;\n",
              "    }\n",
              "</style>\n",
              "<table border=\"1\" class=\"dataframe\">\n",
              "  <thead>\n",
              "    <tr style=\"text-align: right;\">\n",
              "      <th></th>\n",
              "      <th>video</th>\n",
              "      <th>short-term_memorability</th>\n",
              "      <th>nb_short-term_annotations</th>\n",
              "      <th>long-term_memorability</th>\n",
              "      <th>nb_long-term_annotations</th>\n",
              "      <th>caption</th>\n",
              "      <th>corpus</th>\n",
              "      <th>caption_short_output</th>\n",
              "      <th>caption_long_output</th>\n",
              "      <th>aesthetic_short_output</th>\n",
              "      <th>aesthetic_long_output</th>\n",
              "    </tr>\n",
              "  </thead>\n",
              "  <tbody>\n",
              "    <tr>\n",
              "      <th>0</th>\n",
              "      <td>video7494.webm</td>\n",
              "      <td>NaN</td>\n",
              "      <td>33</td>\n",
              "      <td>NaN</td>\n",
              "      <td>12</td>\n",
              "      <td>green-jeep-struggling-to-drive-over-huge-rocks</td>\n",
              "      <td>green jeep struggl drive huge rock</td>\n",
              "      <td>0.848973</td>\n",
              "      <td>0.748902</td>\n",
              "      <td>0.851031</td>\n",
              "      <td>0.749921</td>\n",
              "    </tr>\n",
              "    <tr>\n",
              "      <th>1</th>\n",
              "      <td>video7495.webm</td>\n",
              "      <td>NaN</td>\n",
              "      <td>34</td>\n",
              "      <td>NaN</td>\n",
              "      <td>10</td>\n",
              "      <td>hiking-woman-tourist-is-walking-forward-in-mou...</td>\n",
              "      <td>hike woman tourist walk forward mountain sunse...</td>\n",
              "      <td>0.764251</td>\n",
              "      <td>0.740442</td>\n",
              "      <td>0.838789</td>\n",
              "      <td>0.742697</td>\n",
              "    </tr>\n",
              "    <tr>\n",
              "      <th>2</th>\n",
              "      <td>video7496.webm</td>\n",
              "      <td>NaN</td>\n",
              "      <td>32</td>\n",
              "      <td>NaN</td>\n",
              "      <td>13</td>\n",
              "      <td>close-up-of-african-american-doctors-hands-usi...</td>\n",
              "      <td>close african american doctor hand use sphygmo...</td>\n",
              "      <td>0.921353</td>\n",
              "      <td>0.835014</td>\n",
              "      <td>0.865397</td>\n",
              "      <td>0.798661</td>\n",
              "    </tr>\n",
              "    <tr>\n",
              "      <th>3</th>\n",
              "      <td>video7497.webm</td>\n",
              "      <td>NaN</td>\n",
              "      <td>33</td>\n",
              "      <td>NaN</td>\n",
              "      <td>10</td>\n",
              "      <td>slow-motion-of-a-man-using-treadmill-in-the-gy...</td>\n",
              "      <td>slow motion man use treadmil gym regular physi...</td>\n",
              "      <td>0.885972</td>\n",
              "      <td>0.780762</td>\n",
              "      <td>0.869349</td>\n",
              "      <td>0.795936</td>\n",
              "    </tr>\n",
              "    <tr>\n",
              "      <th>4</th>\n",
              "      <td>video7498.webm</td>\n",
              "      <td>NaN</td>\n",
              "      <td>33</td>\n",
              "      <td>NaN</td>\n",
              "      <td>10</td>\n",
              "      <td>slow-motion-of-photographer-in-national-park</td>\n",
              "      <td>slow motion photograph nation park</td>\n",
              "      <td>0.844159</td>\n",
              "      <td>0.733167</td>\n",
              "      <td>0.839037</td>\n",
              "      <td>0.791368</td>\n",
              "    </tr>\n",
              "  </tbody>\n",
              "</table>\n",
              "</div>"
            ],
            "text/plain": [
              "            video  short-term_memorability  nb_short-term_annotations  \\\n",
              "0  video7494.webm                      NaN                         33   \n",
              "1  video7495.webm                      NaN                         34   \n",
              "2  video7496.webm                      NaN                         32   \n",
              "3  video7497.webm                      NaN                         33   \n",
              "4  video7498.webm                      NaN                         33   \n",
              "\n",
              "   long-term_memorability  nb_long-term_annotations  \\\n",
              "0                     NaN                        12   \n",
              "1                     NaN                        10   \n",
              "2                     NaN                        13   \n",
              "3                     NaN                        10   \n",
              "4                     NaN                        10   \n",
              "\n",
              "                                             caption  \\\n",
              "0     green-jeep-struggling-to-drive-over-huge-rocks   \n",
              "1  hiking-woman-tourist-is-walking-forward-in-mou...   \n",
              "2  close-up-of-african-american-doctors-hands-usi...   \n",
              "3  slow-motion-of-a-man-using-treadmill-in-the-gy...   \n",
              "4       slow-motion-of-photographer-in-national-park   \n",
              "\n",
              "                                              corpus  caption_short_output  \\\n",
              "0                 green jeep struggl drive huge rock              0.848973   \n",
              "1  hike woman tourist walk forward mountain sunse...              0.764251   \n",
              "2  close african american doctor hand use sphygmo...              0.921353   \n",
              "3  slow motion man use treadmil gym regular physi...              0.885972   \n",
              "4                 slow motion photograph nation park              0.844159   \n",
              "\n",
              "   caption_long_output  aesthetic_short_output  aesthetic_long_output  \n",
              "0             0.748902                0.851031               0.749921  \n",
              "1             0.740442                0.838789               0.742697  \n",
              "2             0.835014                0.865397               0.798661  \n",
              "3             0.780762                0.869349               0.795936  \n",
              "4             0.733167                0.839037               0.791368  "
            ]
          },
          "metadata": {
            "tags": []
          },
          "execution_count": 292
        }
      ]
    },
    {
      "metadata": {
        "id": "fmtiSvsSw2NO",
        "colab_type": "text"
      },
      "cell_type": "markdown",
      "source": [
        "## Model 3 : C3D \n",
        "###Short Term - Random Forest\n",
        "###Long Term - Random Forest"
      ]
    },
    {
      "metadata": {
        "id": "wFccopRkw6as",
        "colab_type": "code",
        "colab": {}
      },
      "cell_type": "code",
      "source": [
        "path=\"/content/drive/My Drive/CA684_Assignment_Data/test-set/C3D_test\"\n",
        "files = []\n",
        "# r=root, d=directories, f = files\n",
        "for r, d, f in os.walk(path):\n",
        "   for file in f:\n",
        "       if '.txt' in file:\n",
        "           files.append(os.path.join(r, file))"
      ],
      "execution_count": 0,
      "outputs": []
    },
    {
      "metadata": {
        "id": "1WzVrwrB0Tmn",
        "colab_type": "code",
        "colab": {}
      },
      "cell_type": "code",
      "source": [
        "def read_features_from_file_c3d(dataframe, filename):\n",
        "  dataframe_1 = pd.read_csv(filename, header=None, sep=' ')\n",
        "  dataframe_1['video'] = filename[filename.find('video'):filename.find('.txt')] + '.webm'\n",
        "  dataframe = dataframe.append(dataframe_1, ignore_index=True)\n",
        "  return dataframe"
      ],
      "execution_count": 0,
      "outputs": []
    },
    {
      "metadata": {
        "id": "IScEJf2F0tY-",
        "colab_type": "code",
        "colab": {}
      },
      "cell_type": "code",
      "source": [
        "dataframe_c3d_test = pd.DataFrame()\n",
        "for filename in files:\n",
        "  dataframe_c3d_test = read_features_from_file_c3d(dataframe_c3d_test, filename)"
      ],
      "execution_count": 0,
      "outputs": []
    },
    {
      "metadata": {
        "id": "58q4i87V08XE",
        "colab_type": "code",
        "colab": {
          "base_uri": "https://localhost:8080/",
          "height": 338
        },
        "outputId": "6fc115e5-d2cd-4382-dcc0-77be3f3ccfa9"
      },
      "cell_type": "code",
      "source": [
        "dataframe_c3d_test.head(5)"
      ],
      "execution_count": 296,
      "outputs": [
        {
          "output_type": "execute_result",
          "data": {
            "text/html": [
              "<div>\n",
              "<style scoped>\n",
              "    .dataframe tbody tr th:only-of-type {\n",
              "        vertical-align: middle;\n",
              "    }\n",
              "\n",
              "    .dataframe tbody tr th {\n",
              "        vertical-align: top;\n",
              "    }\n",
              "\n",
              "    .dataframe thead th {\n",
              "        text-align: right;\n",
              "    }\n",
              "</style>\n",
              "<table border=\"1\" class=\"dataframe\">\n",
              "  <thead>\n",
              "    <tr style=\"text-align: right;\">\n",
              "      <th></th>\n",
              "      <th>0</th>\n",
              "      <th>1</th>\n",
              "      <th>2</th>\n",
              "      <th>3</th>\n",
              "      <th>4</th>\n",
              "      <th>5</th>\n",
              "      <th>6</th>\n",
              "      <th>7</th>\n",
              "      <th>8</th>\n",
              "      <th>9</th>\n",
              "      <th>...</th>\n",
              "      <th>93</th>\n",
              "      <th>94</th>\n",
              "      <th>95</th>\n",
              "      <th>96</th>\n",
              "      <th>97</th>\n",
              "      <th>98</th>\n",
              "      <th>99</th>\n",
              "      <th>100</th>\n",
              "      <th>101</th>\n",
              "      <th>video</th>\n",
              "    </tr>\n",
              "  </thead>\n",
              "  <tbody>\n",
              "    <tr>\n",
              "      <th>0</th>\n",
              "      <td>0.003526</td>\n",
              "      <td>0.001376</td>\n",
              "      <td>0.046187</td>\n",
              "      <td>0.000008</td>\n",
              "      <td>0.000041</td>\n",
              "      <td>0.000295</td>\n",
              "      <td>0.000343</td>\n",
              "      <td>0.000406</td>\n",
              "      <td>0.000070</td>\n",
              "      <td>0.000015</td>\n",
              "      <td>...</td>\n",
              "      <td>1.673800e-04</td>\n",
              "      <td>5.811330e-03</td>\n",
              "      <td>0.000252</td>\n",
              "      <td>4.400000e-07</td>\n",
              "      <td>0.000568</td>\n",
              "      <td>0.000051</td>\n",
              "      <td>0.000067</td>\n",
              "      <td>0.682813</td>\n",
              "      <td>NaN</td>\n",
              "      <td>video8768.webm</td>\n",
              "    </tr>\n",
              "    <tr>\n",
              "      <th>1</th>\n",
              "      <td>0.007772</td>\n",
              "      <td>0.002302</td>\n",
              "      <td>0.003671</td>\n",
              "      <td>0.000048</td>\n",
              "      <td>0.000017</td>\n",
              "      <td>0.000018</td>\n",
              "      <td>0.000262</td>\n",
              "      <td>0.000129</td>\n",
              "      <td>0.000079</td>\n",
              "      <td>0.000027</td>\n",
              "      <td>...</td>\n",
              "      <td>1.110000e-05</td>\n",
              "      <td>8.693400e-04</td>\n",
              "      <td>0.000065</td>\n",
              "      <td>6.150000e-06</td>\n",
              "      <td>0.000271</td>\n",
              "      <td>0.017517</td>\n",
              "      <td>0.666933</td>\n",
              "      <td>0.002858</td>\n",
              "      <td>NaN</td>\n",
              "      <td>video8759.webm</td>\n",
              "    </tr>\n",
              "    <tr>\n",
              "      <th>2</th>\n",
              "      <td>0.001573</td>\n",
              "      <td>0.001398</td>\n",
              "      <td>0.071723</td>\n",
              "      <td>0.000025</td>\n",
              "      <td>0.000019</td>\n",
              "      <td>0.000827</td>\n",
              "      <td>0.006838</td>\n",
              "      <td>0.000136</td>\n",
              "      <td>0.000029</td>\n",
              "      <td>0.000239</td>\n",
              "      <td>...</td>\n",
              "      <td>1.279700e-04</td>\n",
              "      <td>1.019300e-04</td>\n",
              "      <td>0.000007</td>\n",
              "      <td>3.577000e-05</td>\n",
              "      <td>0.001544</td>\n",
              "      <td>0.000034</td>\n",
              "      <td>0.000837</td>\n",
              "      <td>0.804485</td>\n",
              "      <td>NaN</td>\n",
              "      <td>video8762.webm</td>\n",
              "    </tr>\n",
              "    <tr>\n",
              "      <th>3</th>\n",
              "      <td>0.000358</td>\n",
              "      <td>0.003973</td>\n",
              "      <td>0.008803</td>\n",
              "      <td>0.007741</td>\n",
              "      <td>0.000403</td>\n",
              "      <td>0.000194</td>\n",
              "      <td>0.009095</td>\n",
              "      <td>0.017529</td>\n",
              "      <td>0.000285</td>\n",
              "      <td>0.000026</td>\n",
              "      <td>...</td>\n",
              "      <td>2.662220e-03</td>\n",
              "      <td>2.824549e-02</td>\n",
              "      <td>0.000521</td>\n",
              "      <td>5.476000e-05</td>\n",
              "      <td>0.002431</td>\n",
              "      <td>0.000706</td>\n",
              "      <td>0.045552</td>\n",
              "      <td>0.001591</td>\n",
              "      <td>NaN</td>\n",
              "      <td>video8765.webm</td>\n",
              "    </tr>\n",
              "    <tr>\n",
              "      <th>4</th>\n",
              "      <td>0.000001</td>\n",
              "      <td>0.000012</td>\n",
              "      <td>0.000025</td>\n",
              "      <td>0.000012</td>\n",
              "      <td>0.000058</td>\n",
              "      <td>0.000572</td>\n",
              "      <td>0.000002</td>\n",
              "      <td>0.000002</td>\n",
              "      <td>0.000030</td>\n",
              "      <td>0.000003</td>\n",
              "      <td>...</td>\n",
              "      <td>2.300000e-07</td>\n",
              "      <td>4.500000e-07</td>\n",
              "      <td>0.000002</td>\n",
              "      <td>3.964600e-04</td>\n",
              "      <td>0.000020</td>\n",
              "      <td>0.000001</td>\n",
              "      <td>0.000026</td>\n",
              "      <td>0.000154</td>\n",
              "      <td>NaN</td>\n",
              "      <td>video8758.webm</td>\n",
              "    </tr>\n",
              "  </tbody>\n",
              "</table>\n",
              "<p>5 rows × 103 columns</p>\n",
              "</div>"
            ],
            "text/plain": [
              "          0         1         2         3         4         5         6  \\\n",
              "0  0.003526  0.001376  0.046187  0.000008  0.000041  0.000295  0.000343   \n",
              "1  0.007772  0.002302  0.003671  0.000048  0.000017  0.000018  0.000262   \n",
              "2  0.001573  0.001398  0.071723  0.000025  0.000019  0.000827  0.006838   \n",
              "3  0.000358  0.003973  0.008803  0.007741  0.000403  0.000194  0.009095   \n",
              "4  0.000001  0.000012  0.000025  0.000012  0.000058  0.000572  0.000002   \n",
              "\n",
              "          7         8         9  ...            93            94        95  \\\n",
              "0  0.000406  0.000070  0.000015  ...  1.673800e-04  5.811330e-03  0.000252   \n",
              "1  0.000129  0.000079  0.000027  ...  1.110000e-05  8.693400e-04  0.000065   \n",
              "2  0.000136  0.000029  0.000239  ...  1.279700e-04  1.019300e-04  0.000007   \n",
              "3  0.017529  0.000285  0.000026  ...  2.662220e-03  2.824549e-02  0.000521   \n",
              "4  0.000002  0.000030  0.000003  ...  2.300000e-07  4.500000e-07  0.000002   \n",
              "\n",
              "             96        97        98        99       100  101           video  \n",
              "0  4.400000e-07  0.000568  0.000051  0.000067  0.682813  NaN  video8768.webm  \n",
              "1  6.150000e-06  0.000271  0.017517  0.666933  0.002858  NaN  video8759.webm  \n",
              "2  3.577000e-05  0.001544  0.000034  0.000837  0.804485  NaN  video8762.webm  \n",
              "3  5.476000e-05  0.002431  0.000706  0.045552  0.001591  NaN  video8765.webm  \n",
              "4  3.964600e-04  0.000020  0.000001  0.000026  0.000154  NaN  video8758.webm  \n",
              "\n",
              "[5 rows x 103 columns]"
            ]
          },
          "metadata": {
            "tags": []
          },
          "execution_count": 296
        }
      ]
    },
    {
      "metadata": {
        "id": "7ptYYrPT3M7V",
        "colab_type": "code",
        "colab": {}
      },
      "cell_type": "code",
      "source": [
        "dataframe_c3d_test.to_csv('test_c3d.csv')"
      ],
      "execution_count": 0,
      "outputs": []
    },
    {
      "metadata": {
        "id": "0MC1GqN73M99",
        "colab_type": "code",
        "colab": {}
      },
      "cell_type": "code",
      "source": [
        "test_c3d_path = '/content/drive/My Drive/test_c3d.csv'\n",
        "test_c3d=pd.read_csv(test_c3d_path,index_col=0)"
      ],
      "execution_count": 0,
      "outputs": []
    },
    {
      "metadata": {
        "id": "_QkdgJhB3NAV",
        "colab_type": "code",
        "colab": {}
      },
      "cell_type": "code",
      "source": [
        "test_dataset3 = pd.merge(test_groundTruth,dataframe_c3d_test, on =\"video\")\n"
      ],
      "execution_count": 0,
      "outputs": []
    },
    {
      "metadata": {
        "id": "IElFjXH97otT",
        "colab_type": "code",
        "colab": {
          "base_uri": "https://localhost:8080/",
          "height": 355
        },
        "outputId": "c0b80ebc-bd19-4022-af33-cfa4c83123ab"
      },
      "cell_type": "code",
      "source": [
        "test_dataset3.drop(columns=101,inplace=True)\n",
        "test_dataset3.head(5)"
      ],
      "execution_count": 300,
      "outputs": [
        {
          "output_type": "execute_result",
          "data": {
            "text/html": [
              "<div>\n",
              "<style scoped>\n",
              "    .dataframe tbody tr th:only-of-type {\n",
              "        vertical-align: middle;\n",
              "    }\n",
              "\n",
              "    .dataframe tbody tr th {\n",
              "        vertical-align: top;\n",
              "    }\n",
              "\n",
              "    .dataframe thead th {\n",
              "        text-align: right;\n",
              "    }\n",
              "</style>\n",
              "<table border=\"1\" class=\"dataframe\">\n",
              "  <thead>\n",
              "    <tr style=\"text-align: right;\">\n",
              "      <th></th>\n",
              "      <th>video</th>\n",
              "      <th>short-term_memorability</th>\n",
              "      <th>nb_short-term_annotations</th>\n",
              "      <th>long-term_memorability</th>\n",
              "      <th>nb_long-term_annotations</th>\n",
              "      <th>0</th>\n",
              "      <th>1</th>\n",
              "      <th>2</th>\n",
              "      <th>3</th>\n",
              "      <th>4</th>\n",
              "      <th>...</th>\n",
              "      <th>91</th>\n",
              "      <th>92</th>\n",
              "      <th>93</th>\n",
              "      <th>94</th>\n",
              "      <th>95</th>\n",
              "      <th>96</th>\n",
              "      <th>97</th>\n",
              "      <th>98</th>\n",
              "      <th>99</th>\n",
              "      <th>100</th>\n",
              "    </tr>\n",
              "  </thead>\n",
              "  <tbody>\n",
              "    <tr>\n",
              "      <th>0</th>\n",
              "      <td>video7494.webm</td>\n",
              "      <td>NaN</td>\n",
              "      <td>33</td>\n",
              "      <td>NaN</td>\n",
              "      <td>12</td>\n",
              "      <td>0.000136</td>\n",
              "      <td>0.000213</td>\n",
              "      <td>0.001248</td>\n",
              "      <td>0.000011</td>\n",
              "      <td>1.180000e-06</td>\n",
              "      <td>...</td>\n",
              "      <td>0.000003</td>\n",
              "      <td>5.620000e-06</td>\n",
              "      <td>1.260000e-06</td>\n",
              "      <td>0.000199</td>\n",
              "      <td>1.500000e-06</td>\n",
              "      <td>2.000000e-07</td>\n",
              "      <td>5.840000e-06</td>\n",
              "      <td>0.000006</td>\n",
              "      <td>0.000210</td>\n",
              "      <td>0.195120</td>\n",
              "    </tr>\n",
              "    <tr>\n",
              "      <th>1</th>\n",
              "      <td>video7495.webm</td>\n",
              "      <td>NaN</td>\n",
              "      <td>34</td>\n",
              "      <td>NaN</td>\n",
              "      <td>10</td>\n",
              "      <td>0.000127</td>\n",
              "      <td>0.000024</td>\n",
              "      <td>0.049501</td>\n",
              "      <td>0.000024</td>\n",
              "      <td>2.361000e-05</td>\n",
              "      <td>...</td>\n",
              "      <td>0.000173</td>\n",
              "      <td>3.019200e-04</td>\n",
              "      <td>2.649800e-04</td>\n",
              "      <td>0.000163</td>\n",
              "      <td>1.050000e-05</td>\n",
              "      <td>2.540000e-06</td>\n",
              "      <td>3.619300e-04</td>\n",
              "      <td>0.000016</td>\n",
              "      <td>0.000010</td>\n",
              "      <td>0.000392</td>\n",
              "    </tr>\n",
              "    <tr>\n",
              "      <th>2</th>\n",
              "      <td>video7496.webm</td>\n",
              "      <td>NaN</td>\n",
              "      <td>32</td>\n",
              "      <td>NaN</td>\n",
              "      <td>13</td>\n",
              "      <td>0.488982</td>\n",
              "      <td>0.000585</td>\n",
              "      <td>0.000025</td>\n",
              "      <td>0.000160</td>\n",
              "      <td>2.400000e-07</td>\n",
              "      <td>...</td>\n",
              "      <td>0.000002</td>\n",
              "      <td>1.900000e-07</td>\n",
              "      <td>3.200000e-07</td>\n",
              "      <td>0.001802</td>\n",
              "      <td>2.640000e-06</td>\n",
              "      <td>9.000000e-08</td>\n",
              "      <td>2.600000e-07</td>\n",
              "      <td>0.000067</td>\n",
              "      <td>0.000123</td>\n",
              "      <td>0.000015</td>\n",
              "    </tr>\n",
              "    <tr>\n",
              "      <th>3</th>\n",
              "      <td>video7497.webm</td>\n",
              "      <td>NaN</td>\n",
              "      <td>33</td>\n",
              "      <td>NaN</td>\n",
              "      <td>10</td>\n",
              "      <td>0.249251</td>\n",
              "      <td>0.001018</td>\n",
              "      <td>0.000008</td>\n",
              "      <td>0.000019</td>\n",
              "      <td>2.200000e-07</td>\n",
              "      <td>...</td>\n",
              "      <td>0.000065</td>\n",
              "      <td>8.400000e-07</td>\n",
              "      <td>1.700000e-07</td>\n",
              "      <td>0.000808</td>\n",
              "      <td>9.700000e-07</td>\n",
              "      <td>7.670000e-06</td>\n",
              "      <td>9.100000e-07</td>\n",
              "      <td>0.000015</td>\n",
              "      <td>0.000707</td>\n",
              "      <td>0.000010</td>\n",
              "    </tr>\n",
              "    <tr>\n",
              "      <th>4</th>\n",
              "      <td>video7498.webm</td>\n",
              "      <td>NaN</td>\n",
              "      <td>33</td>\n",
              "      <td>NaN</td>\n",
              "      <td>10</td>\n",
              "      <td>0.009894</td>\n",
              "      <td>0.000034</td>\n",
              "      <td>0.002613</td>\n",
              "      <td>0.000002</td>\n",
              "      <td>1.010000e-06</td>\n",
              "      <td>...</td>\n",
              "      <td>0.000012</td>\n",
              "      <td>6.600000e-07</td>\n",
              "      <td>8.770000e-06</td>\n",
              "      <td>0.000132</td>\n",
              "      <td>7.400000e-07</td>\n",
              "      <td>2.120000e-06</td>\n",
              "      <td>8.260000e-06</td>\n",
              "      <td>0.001402</td>\n",
              "      <td>0.000745</td>\n",
              "      <td>0.000456</td>\n",
              "    </tr>\n",
              "  </tbody>\n",
              "</table>\n",
              "<p>5 rows × 106 columns</p>\n",
              "</div>"
            ],
            "text/plain": [
              "            video  short-term_memorability  nb_short-term_annotations  \\\n",
              "0  video7494.webm                      NaN                         33   \n",
              "1  video7495.webm                      NaN                         34   \n",
              "2  video7496.webm                      NaN                         32   \n",
              "3  video7497.webm                      NaN                         33   \n",
              "4  video7498.webm                      NaN                         33   \n",
              "\n",
              "   long-term_memorability  nb_long-term_annotations         0         1  \\\n",
              "0                     NaN                        12  0.000136  0.000213   \n",
              "1                     NaN                        10  0.000127  0.000024   \n",
              "2                     NaN                        13  0.488982  0.000585   \n",
              "3                     NaN                        10  0.249251  0.001018   \n",
              "4                     NaN                        10  0.009894  0.000034   \n",
              "\n",
              "          2         3             4  ...        91            92  \\\n",
              "0  0.001248  0.000011  1.180000e-06  ...  0.000003  5.620000e-06   \n",
              "1  0.049501  0.000024  2.361000e-05  ...  0.000173  3.019200e-04   \n",
              "2  0.000025  0.000160  2.400000e-07  ...  0.000002  1.900000e-07   \n",
              "3  0.000008  0.000019  2.200000e-07  ...  0.000065  8.400000e-07   \n",
              "4  0.002613  0.000002  1.010000e-06  ...  0.000012  6.600000e-07   \n",
              "\n",
              "             93        94            95            96            97        98  \\\n",
              "0  1.260000e-06  0.000199  1.500000e-06  2.000000e-07  5.840000e-06  0.000006   \n",
              "1  2.649800e-04  0.000163  1.050000e-05  2.540000e-06  3.619300e-04  0.000016   \n",
              "2  3.200000e-07  0.001802  2.640000e-06  9.000000e-08  2.600000e-07  0.000067   \n",
              "3  1.700000e-07  0.000808  9.700000e-07  7.670000e-06  9.100000e-07  0.000015   \n",
              "4  8.770000e-06  0.000132  7.400000e-07  2.120000e-06  8.260000e-06  0.001402   \n",
              "\n",
              "         99       100  \n",
              "0  0.000210  0.195120  \n",
              "1  0.000010  0.000392  \n",
              "2  0.000123  0.000015  \n",
              "3  0.000707  0.000010  \n",
              "4  0.000745  0.000456  \n",
              "\n",
              "[5 rows x 106 columns]"
            ]
          },
          "metadata": {
            "tags": []
          },
          "execution_count": 300
        }
      ]
    },
    {
      "metadata": {
        "id": "Dg8TI2uP7cYE",
        "colab_type": "code",
        "colab": {
          "base_uri": "https://localhost:8080/",
          "height": 270
        },
        "outputId": "4dbc889d-85af-4d59-97a9-ece72886bbe5"
      },
      "cell_type": "code",
      "source": [
        "dataset3.head(5)"
      ],
      "execution_count": 301,
      "outputs": [
        {
          "output_type": "execute_result",
          "data": {
            "text/html": [
              "<div>\n",
              "<style scoped>\n",
              "    .dataframe tbody tr th:only-of-type {\n",
              "        vertical-align: middle;\n",
              "    }\n",
              "\n",
              "    .dataframe tbody tr th {\n",
              "        vertical-align: top;\n",
              "    }\n",
              "\n",
              "    .dataframe thead th {\n",
              "        text-align: right;\n",
              "    }\n",
              "</style>\n",
              "<table border=\"1\" class=\"dataframe\">\n",
              "  <thead>\n",
              "    <tr style=\"text-align: right;\">\n",
              "      <th></th>\n",
              "      <th>video</th>\n",
              "      <th>short-term_memorability</th>\n",
              "      <th>nb_short-term_annotations</th>\n",
              "      <th>long-term_memorability</th>\n",
              "      <th>nb_long-term_annotations</th>\n",
              "      <th>0</th>\n",
              "      <th>1</th>\n",
              "      <th>2</th>\n",
              "      <th>3</th>\n",
              "      <th>4</th>\n",
              "      <th>...</th>\n",
              "      <th>91</th>\n",
              "      <th>92</th>\n",
              "      <th>93</th>\n",
              "      <th>94</th>\n",
              "      <th>95</th>\n",
              "      <th>96</th>\n",
              "      <th>97</th>\n",
              "      <th>98</th>\n",
              "      <th>99</th>\n",
              "      <th>100</th>\n",
              "    </tr>\n",
              "  </thead>\n",
              "  <tbody>\n",
              "    <tr>\n",
              "      <th>0</th>\n",
              "      <td>video3.webm</td>\n",
              "      <td>0.924</td>\n",
              "      <td>34</td>\n",
              "      <td>0.846</td>\n",
              "      <td>13</td>\n",
              "      <td>0.020249</td>\n",
              "      <td>0.001578</td>\n",
              "      <td>0.000826</td>\n",
              "      <td>0.000945</td>\n",
              "      <td>0.000063</td>\n",
              "      <td>...</td>\n",
              "      <td>0.001042</td>\n",
              "      <td>0.000161</td>\n",
              "      <td>0.000257</td>\n",
              "      <td>0.046617</td>\n",
              "      <td>0.000156</td>\n",
              "      <td>0.000006</td>\n",
              "      <td>0.000537</td>\n",
              "      <td>0.000339</td>\n",
              "      <td>0.008437</td>\n",
              "      <td>0.000470</td>\n",
              "    </tr>\n",
              "    <tr>\n",
              "      <th>1</th>\n",
              "      <td>video4.webm</td>\n",
              "      <td>0.923</td>\n",
              "      <td>33</td>\n",
              "      <td>0.667</td>\n",
              "      <td>12</td>\n",
              "      <td>0.000118</td>\n",
              "      <td>0.000891</td>\n",
              "      <td>0.000188</td>\n",
              "      <td>0.000045</td>\n",
              "      <td>0.000063</td>\n",
              "      <td>...</td>\n",
              "      <td>0.000582</td>\n",
              "      <td>0.000393</td>\n",
              "      <td>0.000864</td>\n",
              "      <td>0.000947</td>\n",
              "      <td>0.000136</td>\n",
              "      <td>0.000007</td>\n",
              "      <td>0.000360</td>\n",
              "      <td>0.000159</td>\n",
              "      <td>0.001025</td>\n",
              "      <td>0.000020</td>\n",
              "    </tr>\n",
              "    <tr>\n",
              "      <th>2</th>\n",
              "      <td>video6.webm</td>\n",
              "      <td>0.863</td>\n",
              "      <td>33</td>\n",
              "      <td>0.700</td>\n",
              "      <td>10</td>\n",
              "      <td>0.011765</td>\n",
              "      <td>0.000746</td>\n",
              "      <td>0.000784</td>\n",
              "      <td>0.000013</td>\n",
              "      <td>0.000007</td>\n",
              "      <td>...</td>\n",
              "      <td>0.000224</td>\n",
              "      <td>0.000003</td>\n",
              "      <td>0.000031</td>\n",
              "      <td>0.002538</td>\n",
              "      <td>0.000104</td>\n",
              "      <td>0.000005</td>\n",
              "      <td>0.000064</td>\n",
              "      <td>0.005380</td>\n",
              "      <td>0.001027</td>\n",
              "      <td>0.001384</td>\n",
              "    </tr>\n",
              "    <tr>\n",
              "      <th>3</th>\n",
              "      <td>video8.webm</td>\n",
              "      <td>0.922</td>\n",
              "      <td>33</td>\n",
              "      <td>0.818</td>\n",
              "      <td>11</td>\n",
              "      <td>0.000223</td>\n",
              "      <td>0.000165</td>\n",
              "      <td>0.000007</td>\n",
              "      <td>0.000016</td>\n",
              "      <td>0.000005</td>\n",
              "      <td>...</td>\n",
              "      <td>0.000046</td>\n",
              "      <td>0.000009</td>\n",
              "      <td>0.000023</td>\n",
              "      <td>0.000053</td>\n",
              "      <td>0.000048</td>\n",
              "      <td>0.000019</td>\n",
              "      <td>0.000001</td>\n",
              "      <td>0.000004</td>\n",
              "      <td>0.000380</td>\n",
              "      <td>0.000029</td>\n",
              "    </tr>\n",
              "    <tr>\n",
              "      <th>4</th>\n",
              "      <td>video10.webm</td>\n",
              "      <td>0.950</td>\n",
              "      <td>34</td>\n",
              "      <td>0.900</td>\n",
              "      <td>10</td>\n",
              "      <td>0.000090</td>\n",
              "      <td>0.000615</td>\n",
              "      <td>0.003436</td>\n",
              "      <td>0.001281</td>\n",
              "      <td>0.003551</td>\n",
              "      <td>...</td>\n",
              "      <td>0.000037</td>\n",
              "      <td>0.000690</td>\n",
              "      <td>0.000171</td>\n",
              "      <td>0.000231</td>\n",
              "      <td>0.000637</td>\n",
              "      <td>0.000040</td>\n",
              "      <td>0.000061</td>\n",
              "      <td>0.000075</td>\n",
              "      <td>0.000002</td>\n",
              "      <td>0.001323</td>\n",
              "    </tr>\n",
              "  </tbody>\n",
              "</table>\n",
              "<p>5 rows × 106 columns</p>\n",
              "</div>"
            ],
            "text/plain": [
              "          video  short-term_memorability  nb_short-term_annotations  \\\n",
              "0   video3.webm                    0.924                         34   \n",
              "1   video4.webm                    0.923                         33   \n",
              "2   video6.webm                    0.863                         33   \n",
              "3   video8.webm                    0.922                         33   \n",
              "4  video10.webm                    0.950                         34   \n",
              "\n",
              "   long-term_memorability  nb_long-term_annotations         0         1  \\\n",
              "0                   0.846                        13  0.020249  0.001578   \n",
              "1                   0.667                        12  0.000118  0.000891   \n",
              "2                   0.700                        10  0.011765  0.000746   \n",
              "3                   0.818                        11  0.000223  0.000165   \n",
              "4                   0.900                        10  0.000090  0.000615   \n",
              "\n",
              "          2         3         4  ...        91        92        93        94  \\\n",
              "0  0.000826  0.000945  0.000063  ...  0.001042  0.000161  0.000257  0.046617   \n",
              "1  0.000188  0.000045  0.000063  ...  0.000582  0.000393  0.000864  0.000947   \n",
              "2  0.000784  0.000013  0.000007  ...  0.000224  0.000003  0.000031  0.002538   \n",
              "3  0.000007  0.000016  0.000005  ...  0.000046  0.000009  0.000023  0.000053   \n",
              "4  0.003436  0.001281  0.003551  ...  0.000037  0.000690  0.000171  0.000231   \n",
              "\n",
              "         95        96        97        98        99       100  \n",
              "0  0.000156  0.000006  0.000537  0.000339  0.008437  0.000470  \n",
              "1  0.000136  0.000007  0.000360  0.000159  0.001025  0.000020  \n",
              "2  0.000104  0.000005  0.000064  0.005380  0.001027  0.001384  \n",
              "3  0.000048  0.000019  0.000001  0.000004  0.000380  0.000029  \n",
              "4  0.000637  0.000040  0.000061  0.000075  0.000002  0.001323  \n",
              "\n",
              "[5 rows x 106 columns]"
            ]
          },
          "metadata": {
            "tags": []
          },
          "execution_count": 301
        }
      ]
    },
    {
      "metadata": {
        "id": "qQvwi32B3NHu",
        "colab_type": "code",
        "colab": {}
      },
      "cell_type": "code",
      "source": [
        "from sklearn.ensemble import RandomForestRegressor \n",
        "\n",
        "final_model_c3d_short_randomForest= RandomForestRegressor (n_estimators =1500, max_features = 'sqrt')\n",
        "final_model_c3d_short_randomForest.fit(dataset3.drop(['video','short-term_memorability','nb_short-term_annotations','long-term_memorability','nb_long-term_annotations'], axis=1), dataset3['short-term_memorability'])\n",
        "\n",
        "final_output_c3d_short_randomForest=final_model_c3d_short_randomForest.predict(test_dataset3.drop(['video','short-term_memorability','nb_short-term_annotations','long-term_memorability','nb_long-term_annotations'], axis=1))\n",
        "\n",
        "\n",
        "\n",
        "\n",
        "from sklearn.ensemble import RandomForestRegressor \n",
        "final_model_c3d_long_randomForest= RandomForestRegressor (n_estimators =1500, max_features = 'sqrt')\n",
        "final_model_c3d_long_randomForest.fit(dataset3.drop(['video','short-term_memorability','nb_short-term_annotations','long-term_memorability','nb_long-term_annotations'], axis=1), dataset3['long-term_memorability'])\n",
        "\n",
        "final_output_c3d_long_randomForest=final_model_c3d_long_randomForest.predict(test_dataset3.drop(['video','short-term_memorability','nb_short-term_annotations','long-term_memorability','nb_long-term_annotations'], axis=1))\n"
      ],
      "execution_count": 0,
      "outputs": []
    },
    {
      "metadata": {
        "id": "yJ0NE1_G3NFR",
        "colab_type": "code",
        "colab": {
          "base_uri": "https://localhost:8080/",
          "height": 632
        },
        "outputId": "c74b1e9f-1626-460a-8fea-e825e9c904fb"
      },
      "cell_type": "code",
      "source": [
        "output_dataframe['c3d_short_output'] = final_output_c3d_short_randomForest\n",
        "output_dataframe['c3d_long_output'] = final_output_c3d_long_randomForest\n",
        "\n",
        "output_dataframe.head(5)"
      ],
      "execution_count": 303,
      "outputs": [
        {
          "output_type": "execute_result",
          "data": {
            "text/html": [
              "<div>\n",
              "<style scoped>\n",
              "    .dataframe tbody tr th:only-of-type {\n",
              "        vertical-align: middle;\n",
              "    }\n",
              "\n",
              "    .dataframe tbody tr th {\n",
              "        vertical-align: top;\n",
              "    }\n",
              "\n",
              "    .dataframe thead th {\n",
              "        text-align: right;\n",
              "    }\n",
              "</style>\n",
              "<table border=\"1\" class=\"dataframe\">\n",
              "  <thead>\n",
              "    <tr style=\"text-align: right;\">\n",
              "      <th></th>\n",
              "      <th>video</th>\n",
              "      <th>short-term_memorability</th>\n",
              "      <th>nb_short-term_annotations</th>\n",
              "      <th>long-term_memorability</th>\n",
              "      <th>nb_long-term_annotations</th>\n",
              "      <th>caption</th>\n",
              "      <th>corpus</th>\n",
              "      <th>caption_short_output</th>\n",
              "      <th>caption_long_output</th>\n",
              "      <th>aesthetic_short_output</th>\n",
              "      <th>aesthetic_long_output</th>\n",
              "      <th>c3d_short_output</th>\n",
              "      <th>c3d_long_output</th>\n",
              "    </tr>\n",
              "  </thead>\n",
              "  <tbody>\n",
              "    <tr>\n",
              "      <th>0</th>\n",
              "      <td>video7494.webm</td>\n",
              "      <td>NaN</td>\n",
              "      <td>33</td>\n",
              "      <td>NaN</td>\n",
              "      <td>12</td>\n",
              "      <td>green-jeep-struggling-to-drive-over-huge-rocks</td>\n",
              "      <td>green jeep struggl drive huge rock</td>\n",
              "      <td>0.848973</td>\n",
              "      <td>0.748902</td>\n",
              "      <td>0.851031</td>\n",
              "      <td>0.749921</td>\n",
              "      <td>0.864075</td>\n",
              "      <td>0.788367</td>\n",
              "    </tr>\n",
              "    <tr>\n",
              "      <th>1</th>\n",
              "      <td>video7495.webm</td>\n",
              "      <td>NaN</td>\n",
              "      <td>34</td>\n",
              "      <td>NaN</td>\n",
              "      <td>10</td>\n",
              "      <td>hiking-woman-tourist-is-walking-forward-in-mou...</td>\n",
              "      <td>hike woman tourist walk forward mountain sunse...</td>\n",
              "      <td>0.764251</td>\n",
              "      <td>0.740442</td>\n",
              "      <td>0.838789</td>\n",
              "      <td>0.742697</td>\n",
              "      <td>0.830033</td>\n",
              "      <td>0.728149</td>\n",
              "    </tr>\n",
              "    <tr>\n",
              "      <th>2</th>\n",
              "      <td>video7496.webm</td>\n",
              "      <td>NaN</td>\n",
              "      <td>32</td>\n",
              "      <td>NaN</td>\n",
              "      <td>13</td>\n",
              "      <td>close-up-of-african-american-doctors-hands-usi...</td>\n",
              "      <td>close african american doctor hand use sphygmo...</td>\n",
              "      <td>0.921353</td>\n",
              "      <td>0.835014</td>\n",
              "      <td>0.865397</td>\n",
              "      <td>0.798661</td>\n",
              "      <td>0.887062</td>\n",
              "      <td>0.806645</td>\n",
              "    </tr>\n",
              "    <tr>\n",
              "      <th>3</th>\n",
              "      <td>video7497.webm</td>\n",
              "      <td>NaN</td>\n",
              "      <td>33</td>\n",
              "      <td>NaN</td>\n",
              "      <td>10</td>\n",
              "      <td>slow-motion-of-a-man-using-treadmill-in-the-gy...</td>\n",
              "      <td>slow motion man use treadmil gym regular physi...</td>\n",
              "      <td>0.885972</td>\n",
              "      <td>0.780762</td>\n",
              "      <td>0.869349</td>\n",
              "      <td>0.795936</td>\n",
              "      <td>0.883276</td>\n",
              "      <td>0.788033</td>\n",
              "    </tr>\n",
              "    <tr>\n",
              "      <th>4</th>\n",
              "      <td>video7498.webm</td>\n",
              "      <td>NaN</td>\n",
              "      <td>33</td>\n",
              "      <td>NaN</td>\n",
              "      <td>10</td>\n",
              "      <td>slow-motion-of-photographer-in-national-park</td>\n",
              "      <td>slow motion photograph nation park</td>\n",
              "      <td>0.844159</td>\n",
              "      <td>0.733167</td>\n",
              "      <td>0.839037</td>\n",
              "      <td>0.791368</td>\n",
              "      <td>0.855857</td>\n",
              "      <td>0.775769</td>\n",
              "    </tr>\n",
              "  </tbody>\n",
              "</table>\n",
              "</div>"
            ],
            "text/plain": [
              "            video  short-term_memorability  nb_short-term_annotations  \\\n",
              "0  video7494.webm                      NaN                         33   \n",
              "1  video7495.webm                      NaN                         34   \n",
              "2  video7496.webm                      NaN                         32   \n",
              "3  video7497.webm                      NaN                         33   \n",
              "4  video7498.webm                      NaN                         33   \n",
              "\n",
              "   long-term_memorability  nb_long-term_annotations  \\\n",
              "0                     NaN                        12   \n",
              "1                     NaN                        10   \n",
              "2                     NaN                        13   \n",
              "3                     NaN                        10   \n",
              "4                     NaN                        10   \n",
              "\n",
              "                                             caption  \\\n",
              "0     green-jeep-struggling-to-drive-over-huge-rocks   \n",
              "1  hiking-woman-tourist-is-walking-forward-in-mou...   \n",
              "2  close-up-of-african-american-doctors-hands-usi...   \n",
              "3  slow-motion-of-a-man-using-treadmill-in-the-gy...   \n",
              "4       slow-motion-of-photographer-in-national-park   \n",
              "\n",
              "                                              corpus  caption_short_output  \\\n",
              "0                 green jeep struggl drive huge rock              0.848973   \n",
              "1  hike woman tourist walk forward mountain sunse...              0.764251   \n",
              "2  close african american doctor hand use sphygmo...              0.921353   \n",
              "3  slow motion man use treadmil gym regular physi...              0.885972   \n",
              "4                 slow motion photograph nation park              0.844159   \n",
              "\n",
              "   caption_long_output  aesthetic_short_output  aesthetic_long_output  \\\n",
              "0             0.748902                0.851031               0.749921   \n",
              "1             0.740442                0.838789               0.742697   \n",
              "2             0.835014                0.865397               0.798661   \n",
              "3             0.780762                0.869349               0.795936   \n",
              "4             0.733167                0.839037               0.791368   \n",
              "\n",
              "   c3d_short_output  c3d_long_output  \n",
              "0          0.864075         0.788367  \n",
              "1          0.830033         0.728149  \n",
              "2          0.887062         0.806645  \n",
              "3          0.883276         0.788033  \n",
              "4          0.855857         0.775769  "
            ]
          },
          "metadata": {
            "tags": []
          },
          "execution_count": 303
        }
      ]
    },
    {
      "metadata": {
        "id": "lpMA25OU3NCx",
        "colab_type": "code",
        "colab": {}
      },
      "cell_type": "code",
      "source": [
        ""
      ],
      "execution_count": 0,
      "outputs": []
    },
    {
      "metadata": {
        "id": "eLtVoZJG-8mw",
        "colab_type": "text"
      },
      "cell_type": "markdown",
      "source": [
        "#Final Predictions"
      ]
    },
    {
      "metadata": {
        "id": "4gjn9Fyh-_V3",
        "colab_type": "code",
        "colab": {}
      },
      "cell_type": "code",
      "source": [
        "output_dataframe['short-term_memorability'] = (0.6 * output_dataframe['caption_short_output']) + (0.15 * output_dataframe['aesthetic_short_output']) + (0.25 * output_dataframe['c3d_short_output'])"
      ],
      "execution_count": 0,
      "outputs": []
    },
    {
      "metadata": {
        "id": "DMC06miu_Jp3",
        "colab_type": "code",
        "colab": {}
      },
      "cell_type": "code",
      "source": [
        "output_dataframe['long-term_memorability'] = (0.4 * output_dataframe['caption_long_output']) + (0.2 * output_dataframe['aesthetic_long_output']) + (0.4 * output_dataframe['c3d_long_output'])"
      ],
      "execution_count": 0,
      "outputs": []
    },
    {
      "metadata": {
        "id": "-qhoe6lV_Jtf",
        "colab_type": "code",
        "colab": {
          "base_uri": "https://localhost:8080/",
          "height": 632
        },
        "outputId": "ba7f68c9-9532-4109-eeca-0f3b6bce2807"
      },
      "cell_type": "code",
      "source": [
        "output_dataframe.head(5)"
      ],
      "execution_count": 306,
      "outputs": [
        {
          "output_type": "execute_result",
          "data": {
            "text/html": [
              "<div>\n",
              "<style scoped>\n",
              "    .dataframe tbody tr th:only-of-type {\n",
              "        vertical-align: middle;\n",
              "    }\n",
              "\n",
              "    .dataframe tbody tr th {\n",
              "        vertical-align: top;\n",
              "    }\n",
              "\n",
              "    .dataframe thead th {\n",
              "        text-align: right;\n",
              "    }\n",
              "</style>\n",
              "<table border=\"1\" class=\"dataframe\">\n",
              "  <thead>\n",
              "    <tr style=\"text-align: right;\">\n",
              "      <th></th>\n",
              "      <th>video</th>\n",
              "      <th>short-term_memorability</th>\n",
              "      <th>nb_short-term_annotations</th>\n",
              "      <th>long-term_memorability</th>\n",
              "      <th>nb_long-term_annotations</th>\n",
              "      <th>caption</th>\n",
              "      <th>corpus</th>\n",
              "      <th>caption_short_output</th>\n",
              "      <th>caption_long_output</th>\n",
              "      <th>aesthetic_short_output</th>\n",
              "      <th>aesthetic_long_output</th>\n",
              "      <th>c3d_short_output</th>\n",
              "      <th>c3d_long_output</th>\n",
              "    </tr>\n",
              "  </thead>\n",
              "  <tbody>\n",
              "    <tr>\n",
              "      <th>0</th>\n",
              "      <td>video7494.webm</td>\n",
              "      <td>0.853058</td>\n",
              "      <td>33</td>\n",
              "      <td>0.764892</td>\n",
              "      <td>12</td>\n",
              "      <td>green-jeep-struggling-to-drive-over-huge-rocks</td>\n",
              "      <td>green jeep struggl drive huge rock</td>\n",
              "      <td>0.848973</td>\n",
              "      <td>0.748902</td>\n",
              "      <td>0.851031</td>\n",
              "      <td>0.749921</td>\n",
              "      <td>0.864075</td>\n",
              "      <td>0.788367</td>\n",
              "    </tr>\n",
              "    <tr>\n",
              "      <th>1</th>\n",
              "      <td>video7495.webm</td>\n",
              "      <td>0.791877</td>\n",
              "      <td>34</td>\n",
              "      <td>0.735976</td>\n",
              "      <td>10</td>\n",
              "      <td>hiking-woman-tourist-is-walking-forward-in-mou...</td>\n",
              "      <td>hike woman tourist walk forward mountain sunse...</td>\n",
              "      <td>0.764251</td>\n",
              "      <td>0.740442</td>\n",
              "      <td>0.838789</td>\n",
              "      <td>0.742697</td>\n",
              "      <td>0.830033</td>\n",
              "      <td>0.728149</td>\n",
              "    </tr>\n",
              "    <tr>\n",
              "      <th>2</th>\n",
              "      <td>video7496.webm</td>\n",
              "      <td>0.904387</td>\n",
              "      <td>32</td>\n",
              "      <td>0.816396</td>\n",
              "      <td>13</td>\n",
              "      <td>close-up-of-african-american-doctors-hands-usi...</td>\n",
              "      <td>close african american doctor hand use sphygmo...</td>\n",
              "      <td>0.921353</td>\n",
              "      <td>0.835014</td>\n",
              "      <td>0.865397</td>\n",
              "      <td>0.798661</td>\n",
              "      <td>0.887062</td>\n",
              "      <td>0.806645</td>\n",
              "    </tr>\n",
              "    <tr>\n",
              "      <th>3</th>\n",
              "      <td>video7497.webm</td>\n",
              "      <td>0.882804</td>\n",
              "      <td>33</td>\n",
              "      <td>0.786705</td>\n",
              "      <td>10</td>\n",
              "      <td>slow-motion-of-a-man-using-treadmill-in-the-gy...</td>\n",
              "      <td>slow motion man use treadmil gym regular physi...</td>\n",
              "      <td>0.885972</td>\n",
              "      <td>0.780762</td>\n",
              "      <td>0.869349</td>\n",
              "      <td>0.795936</td>\n",
              "      <td>0.883276</td>\n",
              "      <td>0.788033</td>\n",
              "    </tr>\n",
              "    <tr>\n",
              "      <th>4</th>\n",
              "      <td>video7498.webm</td>\n",
              "      <td>0.846315</td>\n",
              "      <td>33</td>\n",
              "      <td>0.761848</td>\n",
              "      <td>10</td>\n",
              "      <td>slow-motion-of-photographer-in-national-park</td>\n",
              "      <td>slow motion photograph nation park</td>\n",
              "      <td>0.844159</td>\n",
              "      <td>0.733167</td>\n",
              "      <td>0.839037</td>\n",
              "      <td>0.791368</td>\n",
              "      <td>0.855857</td>\n",
              "      <td>0.775769</td>\n",
              "    </tr>\n",
              "  </tbody>\n",
              "</table>\n",
              "</div>"
            ],
            "text/plain": [
              "            video  short-term_memorability  nb_short-term_annotations  \\\n",
              "0  video7494.webm                 0.853058                         33   \n",
              "1  video7495.webm                 0.791877                         34   \n",
              "2  video7496.webm                 0.904387                         32   \n",
              "3  video7497.webm                 0.882804                         33   \n",
              "4  video7498.webm                 0.846315                         33   \n",
              "\n",
              "   long-term_memorability  nb_long-term_annotations  \\\n",
              "0                0.764892                        12   \n",
              "1                0.735976                        10   \n",
              "2                0.816396                        13   \n",
              "3                0.786705                        10   \n",
              "4                0.761848                        10   \n",
              "\n",
              "                                             caption  \\\n",
              "0     green-jeep-struggling-to-drive-over-huge-rocks   \n",
              "1  hiking-woman-tourist-is-walking-forward-in-mou...   \n",
              "2  close-up-of-african-american-doctors-hands-usi...   \n",
              "3  slow-motion-of-a-man-using-treadmill-in-the-gy...   \n",
              "4       slow-motion-of-photographer-in-national-park   \n",
              "\n",
              "                                              corpus  caption_short_output  \\\n",
              "0                 green jeep struggl drive huge rock              0.848973   \n",
              "1  hike woman tourist walk forward mountain sunse...              0.764251   \n",
              "2  close african american doctor hand use sphygmo...              0.921353   \n",
              "3  slow motion man use treadmil gym regular physi...              0.885972   \n",
              "4                 slow motion photograph nation park              0.844159   \n",
              "\n",
              "   caption_long_output  aesthetic_short_output  aesthetic_long_output  \\\n",
              "0             0.748902                0.851031               0.749921   \n",
              "1             0.740442                0.838789               0.742697   \n",
              "2             0.835014                0.865397               0.798661   \n",
              "3             0.780762                0.869349               0.795936   \n",
              "4             0.733167                0.839037               0.791368   \n",
              "\n",
              "   c3d_short_output  c3d_long_output  \n",
              "0          0.864075         0.788367  \n",
              "1          0.830033         0.728149  \n",
              "2          0.887062         0.806645  \n",
              "3          0.883276         0.788033  \n",
              "4          0.855857         0.775769  "
            ]
          },
          "metadata": {
            "tags": []
          },
          "execution_count": 306
        }
      ]
    },
    {
      "metadata": {
        "id": "21n5glTeUiPS",
        "colab_type": "text"
      },
      "cell_type": "markdown",
      "source": [
        "###Creating final dataframe to export "
      ]
    },
    {
      "metadata": {
        "id": "lMFv1tS-BgRf",
        "colab_type": "code",
        "colab": {}
      },
      "cell_type": "code",
      "source": [
        "def change_video_name_remove(val):\n",
        " val = str(val)[str(val).find('o')+1:str(val).find('.')]\n",
        " return val"
      ],
      "execution_count": 0,
      "outputs": []
    },
    {
      "metadata": {
        "id": "Lt4TJUfc_vWw",
        "colab_type": "code",
        "colab": {}
      },
      "cell_type": "code",
      "source": [
        "resultset=output_dataframe"
      ],
      "execution_count": 0,
      "outputs": []
    },
    {
      "metadata": {
        "id": "WnR9vVNzE4YN",
        "colab_type": "code",
        "colab": {
          "base_uri": "https://localhost:8080/",
          "height": 632
        },
        "outputId": "dc741c9d-6427-45a6-ef4f-50b126e66aea"
      },
      "cell_type": "code",
      "source": [
        "resultset.head(5)"
      ],
      "execution_count": 309,
      "outputs": [
        {
          "output_type": "execute_result",
          "data": {
            "text/html": [
              "<div>\n",
              "<style scoped>\n",
              "    .dataframe tbody tr th:only-of-type {\n",
              "        vertical-align: middle;\n",
              "    }\n",
              "\n",
              "    .dataframe tbody tr th {\n",
              "        vertical-align: top;\n",
              "    }\n",
              "\n",
              "    .dataframe thead th {\n",
              "        text-align: right;\n",
              "    }\n",
              "</style>\n",
              "<table border=\"1\" class=\"dataframe\">\n",
              "  <thead>\n",
              "    <tr style=\"text-align: right;\">\n",
              "      <th></th>\n",
              "      <th>video</th>\n",
              "      <th>short-term_memorability</th>\n",
              "      <th>nb_short-term_annotations</th>\n",
              "      <th>long-term_memorability</th>\n",
              "      <th>nb_long-term_annotations</th>\n",
              "      <th>caption</th>\n",
              "      <th>corpus</th>\n",
              "      <th>caption_short_output</th>\n",
              "      <th>caption_long_output</th>\n",
              "      <th>aesthetic_short_output</th>\n",
              "      <th>aesthetic_long_output</th>\n",
              "      <th>c3d_short_output</th>\n",
              "      <th>c3d_long_output</th>\n",
              "    </tr>\n",
              "  </thead>\n",
              "  <tbody>\n",
              "    <tr>\n",
              "      <th>0</th>\n",
              "      <td>video7494.webm</td>\n",
              "      <td>0.853058</td>\n",
              "      <td>33</td>\n",
              "      <td>0.764892</td>\n",
              "      <td>12</td>\n",
              "      <td>green-jeep-struggling-to-drive-over-huge-rocks</td>\n",
              "      <td>green jeep struggl drive huge rock</td>\n",
              "      <td>0.848973</td>\n",
              "      <td>0.748902</td>\n",
              "      <td>0.851031</td>\n",
              "      <td>0.749921</td>\n",
              "      <td>0.864075</td>\n",
              "      <td>0.788367</td>\n",
              "    </tr>\n",
              "    <tr>\n",
              "      <th>1</th>\n",
              "      <td>video7495.webm</td>\n",
              "      <td>0.791877</td>\n",
              "      <td>34</td>\n",
              "      <td>0.735976</td>\n",
              "      <td>10</td>\n",
              "      <td>hiking-woman-tourist-is-walking-forward-in-mou...</td>\n",
              "      <td>hike woman tourist walk forward mountain sunse...</td>\n",
              "      <td>0.764251</td>\n",
              "      <td>0.740442</td>\n",
              "      <td>0.838789</td>\n",
              "      <td>0.742697</td>\n",
              "      <td>0.830033</td>\n",
              "      <td>0.728149</td>\n",
              "    </tr>\n",
              "    <tr>\n",
              "      <th>2</th>\n",
              "      <td>video7496.webm</td>\n",
              "      <td>0.904387</td>\n",
              "      <td>32</td>\n",
              "      <td>0.816396</td>\n",
              "      <td>13</td>\n",
              "      <td>close-up-of-african-american-doctors-hands-usi...</td>\n",
              "      <td>close african american doctor hand use sphygmo...</td>\n",
              "      <td>0.921353</td>\n",
              "      <td>0.835014</td>\n",
              "      <td>0.865397</td>\n",
              "      <td>0.798661</td>\n",
              "      <td>0.887062</td>\n",
              "      <td>0.806645</td>\n",
              "    </tr>\n",
              "    <tr>\n",
              "      <th>3</th>\n",
              "      <td>video7497.webm</td>\n",
              "      <td>0.882804</td>\n",
              "      <td>33</td>\n",
              "      <td>0.786705</td>\n",
              "      <td>10</td>\n",
              "      <td>slow-motion-of-a-man-using-treadmill-in-the-gy...</td>\n",
              "      <td>slow motion man use treadmil gym regular physi...</td>\n",
              "      <td>0.885972</td>\n",
              "      <td>0.780762</td>\n",
              "      <td>0.869349</td>\n",
              "      <td>0.795936</td>\n",
              "      <td>0.883276</td>\n",
              "      <td>0.788033</td>\n",
              "    </tr>\n",
              "    <tr>\n",
              "      <th>4</th>\n",
              "      <td>video7498.webm</td>\n",
              "      <td>0.846315</td>\n",
              "      <td>33</td>\n",
              "      <td>0.761848</td>\n",
              "      <td>10</td>\n",
              "      <td>slow-motion-of-photographer-in-national-park</td>\n",
              "      <td>slow motion photograph nation park</td>\n",
              "      <td>0.844159</td>\n",
              "      <td>0.733167</td>\n",
              "      <td>0.839037</td>\n",
              "      <td>0.791368</td>\n",
              "      <td>0.855857</td>\n",
              "      <td>0.775769</td>\n",
              "    </tr>\n",
              "  </tbody>\n",
              "</table>\n",
              "</div>"
            ],
            "text/plain": [
              "            video  short-term_memorability  nb_short-term_annotations  \\\n",
              "0  video7494.webm                 0.853058                         33   \n",
              "1  video7495.webm                 0.791877                         34   \n",
              "2  video7496.webm                 0.904387                         32   \n",
              "3  video7497.webm                 0.882804                         33   \n",
              "4  video7498.webm                 0.846315                         33   \n",
              "\n",
              "   long-term_memorability  nb_long-term_annotations  \\\n",
              "0                0.764892                        12   \n",
              "1                0.735976                        10   \n",
              "2                0.816396                        13   \n",
              "3                0.786705                        10   \n",
              "4                0.761848                        10   \n",
              "\n",
              "                                             caption  \\\n",
              "0     green-jeep-struggling-to-drive-over-huge-rocks   \n",
              "1  hiking-woman-tourist-is-walking-forward-in-mou...   \n",
              "2  close-up-of-african-american-doctors-hands-usi...   \n",
              "3  slow-motion-of-a-man-using-treadmill-in-the-gy...   \n",
              "4       slow-motion-of-photographer-in-national-park   \n",
              "\n",
              "                                              corpus  caption_short_output  \\\n",
              "0                 green jeep struggl drive huge rock              0.848973   \n",
              "1  hike woman tourist walk forward mountain sunse...              0.764251   \n",
              "2  close african american doctor hand use sphygmo...              0.921353   \n",
              "3  slow motion man use treadmil gym regular physi...              0.885972   \n",
              "4                 slow motion photograph nation park              0.844159   \n",
              "\n",
              "   caption_long_output  aesthetic_short_output  aesthetic_long_output  \\\n",
              "0             0.748902                0.851031               0.749921   \n",
              "1             0.740442                0.838789               0.742697   \n",
              "2             0.835014                0.865397               0.798661   \n",
              "3             0.780762                0.869349               0.795936   \n",
              "4             0.733167                0.839037               0.791368   \n",
              "\n",
              "   c3d_short_output  c3d_long_output  \n",
              "0          0.864075         0.788367  \n",
              "1          0.830033         0.728149  \n",
              "2          0.887062         0.806645  \n",
              "3          0.883276         0.788033  \n",
              "4          0.855857         0.775769  "
            ]
          },
          "metadata": {
            "tags": []
          },
          "execution_count": 309
        }
      ]
    },
    {
      "metadata": {
        "id": "9rTfeDhHBt-2",
        "colab_type": "code",
        "colab": {}
      },
      "cell_type": "code",
      "source": [
        "resultset['video'] = resultset['video'].apply(change_video_name_remove)"
      ],
      "execution_count": 0,
      "outputs": []
    },
    {
      "metadata": {
        "id": "_ByTJSIzL4Zh",
        "colab_type": "code",
        "colab": {
          "base_uri": "https://localhost:8080/",
          "height": 632
        },
        "outputId": "a3b06f65-6d2b-4596-e190-9e321676fced"
      },
      "cell_type": "code",
      "source": [
        "resultset.head(5)"
      ],
      "execution_count": 311,
      "outputs": [
        {
          "output_type": "execute_result",
          "data": {
            "text/html": [
              "<div>\n",
              "<style scoped>\n",
              "    .dataframe tbody tr th:only-of-type {\n",
              "        vertical-align: middle;\n",
              "    }\n",
              "\n",
              "    .dataframe tbody tr th {\n",
              "        vertical-align: top;\n",
              "    }\n",
              "\n",
              "    .dataframe thead th {\n",
              "        text-align: right;\n",
              "    }\n",
              "</style>\n",
              "<table border=\"1\" class=\"dataframe\">\n",
              "  <thead>\n",
              "    <tr style=\"text-align: right;\">\n",
              "      <th></th>\n",
              "      <th>video</th>\n",
              "      <th>short-term_memorability</th>\n",
              "      <th>nb_short-term_annotations</th>\n",
              "      <th>long-term_memorability</th>\n",
              "      <th>nb_long-term_annotations</th>\n",
              "      <th>caption</th>\n",
              "      <th>corpus</th>\n",
              "      <th>caption_short_output</th>\n",
              "      <th>caption_long_output</th>\n",
              "      <th>aesthetic_short_output</th>\n",
              "      <th>aesthetic_long_output</th>\n",
              "      <th>c3d_short_output</th>\n",
              "      <th>c3d_long_output</th>\n",
              "    </tr>\n",
              "  </thead>\n",
              "  <tbody>\n",
              "    <tr>\n",
              "      <th>0</th>\n",
              "      <td>7494</td>\n",
              "      <td>0.853058</td>\n",
              "      <td>33</td>\n",
              "      <td>0.764892</td>\n",
              "      <td>12</td>\n",
              "      <td>green-jeep-struggling-to-drive-over-huge-rocks</td>\n",
              "      <td>green jeep struggl drive huge rock</td>\n",
              "      <td>0.848973</td>\n",
              "      <td>0.748902</td>\n",
              "      <td>0.851031</td>\n",
              "      <td>0.749921</td>\n",
              "      <td>0.864075</td>\n",
              "      <td>0.788367</td>\n",
              "    </tr>\n",
              "    <tr>\n",
              "      <th>1</th>\n",
              "      <td>7495</td>\n",
              "      <td>0.791877</td>\n",
              "      <td>34</td>\n",
              "      <td>0.735976</td>\n",
              "      <td>10</td>\n",
              "      <td>hiking-woman-tourist-is-walking-forward-in-mou...</td>\n",
              "      <td>hike woman tourist walk forward mountain sunse...</td>\n",
              "      <td>0.764251</td>\n",
              "      <td>0.740442</td>\n",
              "      <td>0.838789</td>\n",
              "      <td>0.742697</td>\n",
              "      <td>0.830033</td>\n",
              "      <td>0.728149</td>\n",
              "    </tr>\n",
              "    <tr>\n",
              "      <th>2</th>\n",
              "      <td>7496</td>\n",
              "      <td>0.904387</td>\n",
              "      <td>32</td>\n",
              "      <td>0.816396</td>\n",
              "      <td>13</td>\n",
              "      <td>close-up-of-african-american-doctors-hands-usi...</td>\n",
              "      <td>close african american doctor hand use sphygmo...</td>\n",
              "      <td>0.921353</td>\n",
              "      <td>0.835014</td>\n",
              "      <td>0.865397</td>\n",
              "      <td>0.798661</td>\n",
              "      <td>0.887062</td>\n",
              "      <td>0.806645</td>\n",
              "    </tr>\n",
              "    <tr>\n",
              "      <th>3</th>\n",
              "      <td>7497</td>\n",
              "      <td>0.882804</td>\n",
              "      <td>33</td>\n",
              "      <td>0.786705</td>\n",
              "      <td>10</td>\n",
              "      <td>slow-motion-of-a-man-using-treadmill-in-the-gy...</td>\n",
              "      <td>slow motion man use treadmil gym regular physi...</td>\n",
              "      <td>0.885972</td>\n",
              "      <td>0.780762</td>\n",
              "      <td>0.869349</td>\n",
              "      <td>0.795936</td>\n",
              "      <td>0.883276</td>\n",
              "      <td>0.788033</td>\n",
              "    </tr>\n",
              "    <tr>\n",
              "      <th>4</th>\n",
              "      <td>7498</td>\n",
              "      <td>0.846315</td>\n",
              "      <td>33</td>\n",
              "      <td>0.761848</td>\n",
              "      <td>10</td>\n",
              "      <td>slow-motion-of-photographer-in-national-park</td>\n",
              "      <td>slow motion photograph nation park</td>\n",
              "      <td>0.844159</td>\n",
              "      <td>0.733167</td>\n",
              "      <td>0.839037</td>\n",
              "      <td>0.791368</td>\n",
              "      <td>0.855857</td>\n",
              "      <td>0.775769</td>\n",
              "    </tr>\n",
              "  </tbody>\n",
              "</table>\n",
              "</div>"
            ],
            "text/plain": [
              "  video  short-term_memorability  nb_short-term_annotations  \\\n",
              "0  7494                 0.853058                         33   \n",
              "1  7495                 0.791877                         34   \n",
              "2  7496                 0.904387                         32   \n",
              "3  7497                 0.882804                         33   \n",
              "4  7498                 0.846315                         33   \n",
              "\n",
              "   long-term_memorability  nb_long-term_annotations  \\\n",
              "0                0.764892                        12   \n",
              "1                0.735976                        10   \n",
              "2                0.816396                        13   \n",
              "3                0.786705                        10   \n",
              "4                0.761848                        10   \n",
              "\n",
              "                                             caption  \\\n",
              "0     green-jeep-struggling-to-drive-over-huge-rocks   \n",
              "1  hiking-woman-tourist-is-walking-forward-in-mou...   \n",
              "2  close-up-of-african-american-doctors-hands-usi...   \n",
              "3  slow-motion-of-a-man-using-treadmill-in-the-gy...   \n",
              "4       slow-motion-of-photographer-in-national-park   \n",
              "\n",
              "                                              corpus  caption_short_output  \\\n",
              "0                 green jeep struggl drive huge rock              0.848973   \n",
              "1  hike woman tourist walk forward mountain sunse...              0.764251   \n",
              "2  close african american doctor hand use sphygmo...              0.921353   \n",
              "3  slow motion man use treadmil gym regular physi...              0.885972   \n",
              "4                 slow motion photograph nation park              0.844159   \n",
              "\n",
              "   caption_long_output  aesthetic_short_output  aesthetic_long_output  \\\n",
              "0             0.748902                0.851031               0.749921   \n",
              "1             0.740442                0.838789               0.742697   \n",
              "2             0.835014                0.865397               0.798661   \n",
              "3             0.780762                0.869349               0.795936   \n",
              "4             0.733167                0.839037               0.791368   \n",
              "\n",
              "   c3d_short_output  c3d_long_output  \n",
              "0          0.864075         0.788367  \n",
              "1          0.830033         0.728149  \n",
              "2          0.887062         0.806645  \n",
              "3          0.883276         0.788033  \n",
              "4          0.855857         0.775769  "
            ]
          },
          "metadata": {
            "tags": []
          },
          "execution_count": 311
        }
      ]
    },
    {
      "metadata": {
        "id": "80EFpYwOCzWV",
        "colab_type": "code",
        "colab": {}
      },
      "cell_type": "code",
      "source": [
        "resultset.drop(columns=['caption','corpus','caption_short_output','caption_long_output','aesthetic_short_output','aesthetic_long_output','c3d_short_output','c3d_long_output'],inplace=True)"
      ],
      "execution_count": 0,
      "outputs": []
    },
    {
      "metadata": {
        "id": "F--H3MGCDogG",
        "colab_type": "code",
        "colab": {}
      },
      "cell_type": "code",
      "source": [
        "resultset.to_csv('memorability_scores.csv',index=None)"
      ],
      "execution_count": 0,
      "outputs": []
    }
  ]
}